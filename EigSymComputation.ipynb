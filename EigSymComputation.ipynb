{
 "cells": [
  {
   "cell_type": "code",
   "execution_count": 1,
   "metadata": {},
   "outputs": [],
   "source": [
    "import torch\n",
    "import numpy as np\n",
    "from torch import linalg as LA\n",
    "import SimpleITK as sitk\n",
    "\n",
    "# torch.set_default_dtype(torch.float64)\n",
    "\n",
    "use_cuda = 1\n",
    "torchdeviceId = torch.device('cuda:0') if use_cuda else 'cpu'\n",
    "torchdtype = torch.double"
   ]
  },
  {
   "cell_type": "code",
   "execution_count": 2,
   "metadata": {},
   "outputs": [
    {
     "data": {
      "text/plain": [
       "device(type='cuda', index=0)"
      ]
     },
     "execution_count": 2,
     "metadata": {},
     "output_type": "execute_result"
    }
   ],
   "source": [
    "torchdeviceId"
   ]
  },
  {
   "cell_type": "code",
   "execution_count": 3,
   "metadata": {},
   "outputs": [],
   "source": [
    "def checkNaN(A):\n",
    "    if (A != A).any():\n",
    "        print('NaN')\n",
    "        return(np.argwhere(np.isnan(A.cpu().numpy())))\n",
    "    else:\n",
    "        print('Good')\n",
    "\n",
    "def check_L2_diff_error(a,b):\n",
    "    L2Diff = LA.norm(a - b)\n",
    "    L2Error =  2*LA.norm(a - b)/( LA.norm(a)+LA.norm(b))\n",
    "    return L2Diff, L2Error\n",
    "\n",
    "def check_eigvec(a):\n",
    "    return abs(torch.einsum('...i,...i->...',a[:,:,0],a[:,:,1]))+\\\n",
    "            abs(torch.einsum('...i,...i->...',a[:,:,2],a[:,:,1]))+\\\n",
    "            abs(torch.einsum('...i,...i->...',a[:,:,0],a[:,:,2]))"
   ]
  },
  {
   "cell_type": "code",
   "execution_count": 4,
   "metadata": {},
   "outputs": [],
   "source": [
    "W = sitk.GetArrayFromImage(sitk.ReadImage(f'W.nhdr'))"
   ]
  },
  {
   "cell_type": "code",
   "execution_count": 5,
   "metadata": {},
   "outputs": [],
   "source": [
    "W=torch.from_numpy(W).to(torchdeviceId)"
   ]
  },
  {
   "cell_type": "code",
   "execution_count": 8,
   "metadata": {},
   "outputs": [],
   "source": [
    "from torch_sym3eig import Sym3Eig\n",
    "val1, vec1 = Sym3Eig.apply(W)\n",
    "val2, vec2 = Sym3Eig.apply(W)\n",
    "val3, vec3 = Sym3Eig.apply(W)"
   ]
  },
  {
   "cell_type": "code",
   "execution_count": 9,
   "metadata": {},
   "outputs": [
    {
     "data": {
      "text/plain": [
       "(tensor([], device='cuda:0', dtype=torch.int64),\n",
       " tensor([], device='cuda:0', dtype=torch.int64),\n",
       " tensor([], device='cuda:0', dtype=torch.int64))"
      ]
     },
     "execution_count": 9,
     "metadata": {},
     "output_type": "execute_result"
    }
   ],
   "source": [
    "torch.where(vec2-vec3!=0)"
   ]
  },
  {
   "cell_type": "code",
   "execution_count": 10,
   "metadata": {},
   "outputs": [
    {
     "name": "stdout",
     "output_type": "stream",
     "text": [
      "Good\n"
     ]
    }
   ],
   "source": [
    "index = checkNaN(torch.sum(vec2,(1,2)))"
   ]
  },
  {
   "cell_type": "code",
   "execution_count": 11,
   "metadata": {},
   "outputs": [
    {
     "data": {
      "text/plain": [
       "tensor([ 70169,  70170,  70171,  ..., 388003, 388004, 388044], device='cuda:0')"
      ]
     },
     "execution_count": 11,
     "metadata": {},
     "output_type": "execute_result"
    }
   ],
   "source": [
    "torch.where(torch.abs(check_eigvec(vec1))>1e-6)[0]"
   ]
  },
  {
   "cell_type": "code",
   "execution_count": 29,
   "metadata": {},
   "outputs": [],
   "source": [
    "idx =165664 #215765#273002#187106#190506#186165#178612##91978#215765#166523"
   ]
  },
  {
   "cell_type": "code",
   "execution_count": 30,
   "metadata": {},
   "outputs": [
    {
     "data": {
      "text/plain": [
       "tensor([[34.9841, 25.0000,  0.0000],\n",
       "        [25.0000, 35.0159,  0.0000],\n",
       "        [ 0.0000,  0.0000, 10.0000]], device='cuda:0', dtype=torch.float64)"
      ]
     },
     "execution_count": 30,
     "metadata": {},
     "output_type": "execute_result"
    }
   ],
   "source": [
    "W[idx]"
   ]
  },
  {
   "cell_type": "code",
   "execution_count": 31,
   "metadata": {},
   "outputs": [
    {
     "data": {
      "text/plain": [
       "tensor([[-0.7069,  0.0000, -0.7073],\n",
       "        [-0.7073,  0.0000,  0.7069],\n",
       "        [-0.0000,  1.0000,  0.0000]], device='cuda:0', dtype=torch.float64)"
      ]
     },
     "execution_count": 31,
     "metadata": {},
     "output_type": "execute_result"
    }
   ],
   "source": [
    "vec1[idx]"
   ]
  },
  {
   "cell_type": "code",
   "execution_count": 32,
   "metadata": {},
   "outputs": [
    {
     "data": {
      "text/plain": [
       "tensor([[-0.7069,  0.0000, -0.7073],\n",
       "        [-0.7073,  0.0000,  0.7069],\n",
       "        [-0.0000,  1.0000,  0.0000]], device='cuda:0', dtype=torch.float64)"
      ]
     },
     "execution_count": 32,
     "metadata": {},
     "output_type": "execute_result"
    }
   ],
   "source": [
    "vec2[idx]"
   ]
  },
  {
   "cell_type": "code",
   "execution_count": 33,
   "metadata": {},
   "outputs": [
    {
     "data": {
      "text/plain": [
       "tensor([[-0.7069,  0.0000, -0.7073],\n",
       "        [-0.7073,  0.0000,  0.7069],\n",
       "        [-0.0000,  1.0000,  0.0000]], device='cuda:0', dtype=torch.float64)"
      ]
     },
     "execution_count": 33,
     "metadata": {},
     "output_type": "execute_result"
    }
   ],
   "source": [
    "vec3[idx]"
   ]
  },
  {
   "cell_type": "code",
   "execution_count": 34,
   "metadata": {},
   "outputs": [],
   "source": [
    "_ , vec_torch = torch.linalg.eig(W)"
   ]
  },
  {
   "cell_type": "code",
   "execution_count": 35,
   "metadata": {},
   "outputs": [
    {
     "data": {
      "text/plain": [
       "tensor([[-0.7073+0.j, -0.7069+0.j,  0.0000+0.j],\n",
       "        [ 0.7069+0.j, -0.7073+0.j,  0.0000+0.j],\n",
       "        [ 0.0000+0.j,  0.0000+0.j,  1.0000+0.j]], device='cuda:0',\n",
       "       dtype=torch.complex128)"
      ]
     },
     "execution_count": 35,
     "metadata": {},
     "output_type": "execute_result"
    }
   ],
   "source": [
    "vec_torch[idx]"
   ]
  },
  {
   "cell_type": "code",
   "execution_count": 36,
   "metadata": {},
   "outputs": [
    {
     "data": {
      "text/plain": [
       "tensor(6.6613e-16, device='cuda:0', dtype=torch.float64)"
      ]
     },
     "execution_count": 36,
     "metadata": {},
     "output_type": "execute_result"
    }
   ],
   "source": [
    "torch.max(torch.det(vec1)-torch.det(vec_torch.real))"
   ]
  },
  {
   "cell_type": "code",
   "execution_count": 28,
   "metadata": {},
   "outputs": [
    {
     "data": {
      "text/plain": [
       "(tensor([165656, 165664, 322030, 322032, 322036, 322038, 343717, 343718, 343719,\n",
       "         343720, 343721, 343722, 343723, 343724, 343725, 343726, 343727, 343728,\n",
       "         343729, 347817, 347818, 347819, 347820, 347821, 347822, 347823, 347824,\n",
       "         347825, 347826, 347827, 347828, 347829, 351917, 351918, 351919, 351920,\n",
       "         351921, 351922, 351923, 351924, 351925, 351926, 351927, 351928, 351929,\n",
       "         356017, 356018, 356019, 356020, 356021, 356022, 356023, 356024, 356025,\n",
       "         356026, 356027, 356028, 356029, 360118, 360119, 360120, 360121, 360122,\n",
       "         360123, 360124, 360125, 360126, 360127, 360128, 364219, 364220, 364221,\n",
       "         364222, 364223, 364224, 364225, 364226, 364227, 368321, 368322, 368323,\n",
       "         368324, 368325], device='cuda:0'),\n",
       " tensor([1, 1, 1, 1, 1, 1, 1, 1, 1, 1, 1, 1, 1, 1, 1, 1, 1, 1, 1, 1, 1, 1, 1, 1,\n",
       "         1, 1, 1, 1, 1, 1, 1, 1, 1, 1, 1, 1, 1, 1, 1, 1, 1, 1, 1, 1, 1, 1, 1, 1,\n",
       "         1, 1, 1, 1, 1, 1, 1, 1, 1, 1, 1, 1, 1, 1, 1, 1, 1, 1, 1, 1, 1, 1, 1, 1,\n",
       "         1, 1, 1, 1, 1, 1, 1, 1, 1, 1, 1], device='cuda:0'))"
      ]
     },
     "execution_count": 28,
     "metadata": {},
     "output_type": "execute_result"
    }
   ],
   "source": [
    "torch.max(vec1[:,:,2]-vec_torch[:,:,1].real)\n",
    "torch.where(vec1[:,:,2]-vec_torch[:,:,1].real>1.4142)"
   ]
  },
  {
   "cell_type": "code",
   "execution_count": 27,
   "metadata": {},
   "outputs": [
    {
     "data": {
      "text/plain": [
       "tensor(1., device='cuda:0', dtype=torch.float64)"
      ]
     },
     "execution_count": 27,
     "metadata": {},
     "output_type": "execute_result"
    }
   ],
   "source": [
    "torch.max(vec1[:,:,1]-vec_torch[:,:,2].real)"
   ]
  },
  {
   "cell_type": "code",
   "execution_count": 27,
   "metadata": {},
   "outputs": [
    {
     "data": {
      "text/plain": [
       "tensor([[-5.7339e-09, -3.2771e-03, -3.2771e-03],\n",
       "        [ 1.7501e-06,  9.9999e-01,  9.9999e-01],\n",
       "        [ 0.0000e+00,  1.0000e+00,  1.0000e+00]], device='cuda:0',\n",
       "       dtype=torch.float64)"
      ]
     },
     "execution_count": 27,
     "metadata": {},
     "output_type": "execute_result"
    }
   ],
   "source": [
    "vec_torch[idx].real-vec3[idx]"
   ]
  },
  {
   "cell_type": "code",
   "execution_count": 23,
   "metadata": {},
   "outputs": [
    {
     "data": {
      "text/plain": [
       "tensor([[ 0.9091,  6.6804,  0.0000],\n",
       "        [ 6.6804, 49.0909,  0.0000],\n",
       "        [ 0.0000,  0.0000,  0.0000]], device='cuda:0', dtype=torch.float64)"
      ]
     },
     "execution_count": 23,
     "metadata": {},
     "output_type": "execute_result"
    }
   ],
   "source": [
    "AlamdaI = W[idx]-val1[idx,1]*torch.eye(3).to(torchdeviceId)\n",
    "AlamdaI"
   ]
  },
  {
   "cell_type": "code",
   "execution_count": 24,
   "metadata": {},
   "outputs": [
    {
     "data": {
      "text/plain": [
       "tensor([ 0.9909, -0.1348,  0.0000], device='cuda:0', dtype=torch.float64)"
      ]
     },
     "execution_count": 24,
     "metadata": {},
     "output_type": "execute_result"
    }
   ],
   "source": [
    "v = torch.cross(AlamdaI[:,0],vec1[idx,:,2])\n",
    "v/torch.norm(v)"
   ]
  },
  {
   "cell_type": "code",
   "execution_count": 31,
   "metadata": {
    "scrolled": true
   },
   "outputs": [
    {
     "data": {
      "text/plain": [
       "tensor(-1.4204e-08, device='cuda:0', dtype=torch.float64)"
      ]
     },
     "execution_count": 31,
     "metadata": {},
     "output_type": "execute_result"
    }
   ],
   "source": [
    "torch.dot(v/torch.norm(v),vec1[idx,:,2])"
   ]
  },
  {
   "cell_type": "markdown",
   "metadata": {},
   "source": [
    "--------------------------------------------------"
   ]
  },
  {
   "cell_type": "code",
   "execution_count": 37,
   "metadata": {},
   "outputs": [],
   "source": [
    "logm_tor = sitk.GetArrayFromImage(sitk.ReadImage(f'logm_tor.nhdr'))\n",
    "logm_sym = sitk.GetArrayFromImage(sitk.ReadImage(f'logm_sym.nhdr'))"
   ]
  },
  {
   "cell_type": "code",
   "execution_count": 44,
   "metadata": {},
   "outputs": [
    {
     "data": {
      "text/plain": [
       "(array([359175, 359185, 367375, 367376, 367384, 367385]),\n",
       " array([1, 1, 1, 1, 1, 1]),\n",
       " array([0, 0, 0, 0, 0, 0]))"
      ]
     },
     "execution_count": 44,
     "metadata": {},
     "output_type": "execute_result"
    }
   ],
   "source": [
    "np.where(abs(logm_tor-logm_sym)>5e-06)"
   ]
  },
  {
   "cell_type": "code",
   "execution_count": 47,
   "metadata": {},
   "outputs": [
    {
     "data": {
      "text/plain": [
       "array([[ 9.03234412e-08, -1.09350114e-09,  0.00000000e+00],\n",
       "       [ 5.09198546e-06, -6.16461442e-08,  0.00000000e+00],\n",
       "       [ 0.00000000e+00,  0.00000000e+00, -2.86772956e-08]])"
      ]
     },
     "execution_count": 47,
     "metadata": {},
     "output_type": "execute_result"
    }
   ],
   "source": [
    "index = 367376\n",
    "logm_tor[index]-logm_sym[index]"
   ]
  },
  {
   "cell_type": "markdown",
   "metadata": {},
   "source": [
    "--------------------------------------------------"
   ]
  },
  {
   "cell_type": "code",
   "execution_count": 5,
   "metadata": {},
   "outputs": [],
   "source": [
    "file_name = [1,2]\n",
    "input_dir = '/usr/sci/projects/HCP/Kris/NSFCRCNS/TestResults/working_3d_python'\n",
    "tensor_lin_list, tensor_met_list, mask_list, mask_thresh_list = [], [], [], []\n",
    "height, width, depth = 100,100,41\n",
    "\n",
    "for s in range(len(file_name)):\n",
    "#     read tensor and mask files\n",
    "    tensor_np = sitk.GetArrayFromImage(sitk.ReadImage(f'{input_dir}/cubic{file_name[s]}_orig_tensors.nhdr'))\n",
    "    mask_np = sitk.GetArrayFromImage(sitk.ReadImage(f'{input_dir}/cubic{file_name[s]}_filt_mask.nhdr'))\n",
    "    tensor_lin_list.append(torch.from_numpy(tensor_np).double().permute(3,2,1,0))\n",
    "#     create union of masks\n",
    "#     mask_union += torch.from_numpy(mask_np).double().permute(2,1,0).to(device)\n",
    "    mask_list.append(torch.from_numpy(mask_np).double().permute(2,1,0))\n",
    "#     rearrange tensor_lin to tensor_met\n",
    "    tensor_met_zeros = torch.zeros(height,width,depth,3,3,dtype=torch.float64)\n",
    "    tensor_met_zeros[:,:,:,0,0] = tensor_lin_list[s][0]\n",
    "    tensor_met_zeros[:,:,:,0,1] = tensor_lin_list[s][1]\n",
    "    tensor_met_zeros[:,:,:,0,2] = tensor_lin_list[s][2]\n",
    "    tensor_met_zeros[:,:,:,1,0] = tensor_lin_list[s][1]\n",
    "    tensor_met_zeros[:,:,:,1,1] = tensor_lin_list[s][3]\n",
    "    tensor_met_zeros[:,:,:,1,2] = tensor_lin_list[s][4]\n",
    "    tensor_met_zeros[:,:,:,2,0] = tensor_lin_list[s][2]\n",
    "    tensor_met_zeros[:,:,:,2,1] = tensor_lin_list[s][4]\n",
    "    tensor_met_zeros[:,:,:,2,2] = tensor_lin_list[s][5]\n",
    "    tensor_met_list.append(torch.inverse(tensor_met_zeros))"
   ]
  },
  {
   "cell_type": "code",
   "execution_count": 6,
   "metadata": {},
   "outputs": [],
   "source": [
    "file_name = [105923,103818]\n",
    "input_dir = '/usr/sci/projects/HCP/Kris/NSFCRCNS/TestResults/working_3d_python'\n",
    "output_dir = 'BrainAtlas2'\n",
    "height, width, depth = 145,174,145\n",
    "sample_num = len(file_name)\n",
    "tensor_lin_list, tensor_met_list, mask_list, mask_thresh_list, fa_list = [], [], [], [], []\n",
    "mask_union = torch.zeros(height, width, depth).double()\n",
    "phi_inv_acc_list, phi_acc_list, energy_list = [], [], []\n",
    "resume = False\n",
    "\n",
    "for s in range(len(file_name)):\n",
    "# for s in range(1):\n",
    "#     read tensor and mask files\n",
    "    tensor_np = sitk.GetArrayFromImage(sitk.ReadImage(f'{input_dir}/{file_name[s]}/scaled_tensors.nhdr'))\n",
    "    mask_np = sitk.GetArrayFromImage(sitk.ReadImage(f'{input_dir}/{file_name[s]}/filt_mask.nhdr'))\n",
    "    tensor_lin_list.append(torch.from_numpy(tensor_np).double().permute(3,2,1,0))\n",
    "#     create union of masks\n",
    "    mask_union += torch.from_numpy(mask_np).double().permute(2,1,0)\n",
    "    mask_list.append(torch.from_numpy(mask_np).double().permute(2,1,0))\n",
    "#     rearrange tensor_lin to tensor_met\n",
    "    tensor_met_zeros = torch.zeros(height,width,depth,3,3,dtype=torch.float64)\n",
    "    tensor_met_zeros[:,:,:,0,0] = tensor_lin_list[s][0]\n",
    "    tensor_met_zeros[:,:,:,0,1] = tensor_lin_list[s][1]\n",
    "    tensor_met_zeros[:,:,:,0,2] = tensor_lin_list[s][2]\n",
    "    tensor_met_zeros[:,:,:,1,0] = tensor_lin_list[s][1]\n",
    "    tensor_met_zeros[:,:,:,1,1] = tensor_lin_list[s][3]\n",
    "    tensor_met_zeros[:,:,:,1,2] = tensor_lin_list[s][4]\n",
    "    tensor_met_zeros[:,:,:,2,0] = tensor_lin_list[s][2]\n",
    "    tensor_met_zeros[:,:,:,2,1] = tensor_lin_list[s][4]\n",
    "    tensor_met_zeros[:,:,:,2,2] = tensor_lin_list[s][5]\n",
    "#     balance the background and subject by rescaling\n",
    "#     tensor_met_zeros = tensor_cleaning(tensor_met_zeros, scale_factor=torch.tensor(1,dtype=torch.float64))\n",
    "#     fa_list.append(fractional_anisotropy(tensor_met_zeros))\n",
    "    tensor_met_list.append(torch.inverse(tensor_met_zeros))\n",
    "    fore_back_adaptor = torch.where(torch.det(tensor_met_list[s])>1e1, 5e-4, 1.)\n",
    "    mask_thresh_list.append(fore_back_adaptor)\n",
    "    tensor_met_list[s] = torch.einsum('ijk...,lijk->ijk...', tensor_met_list[s], mask_thresh_list[s].unsqueeze(0))\n",
    "#     initialize the accumulative diffeomorphism    \n",
    "#     if resume==False:\n",
    "#         print('start from identity')\n",
    "#         phi_inv_acc_list.append(get_idty(height, width, depth))\n",
    "#         phi_acc_list.append(get_idty(height, width, depth))\n",
    "#     else:\n",
    "#         print('start from checkpoint')\n",
    "#         phi_inv_acc_list.append(torch.from_numpy(sio.loadmat(f'{output_dir}/brain{file_name[s]}_{start_iter-1}_phi_inv.mat')['diffeo']))\n",
    "#         phi_acc_list.append(torch.from_numpy(sio.loadmat(f'{output_dir}/brain{file_name[s]}_{start_iter-1}_phi.mat')['diffeo']))\n",
    "#         tensor_met_list[s] = phi_pullback(phi_inv_acc_list[s], tensor_met_list[s])\n",
    "#     energy_list.append([])    \n",
    "    \n",
    "mask_union[mask_union>0] = 1"
   ]
  },
  {
   "cell_type": "code",
   "execution_count": 7,
   "metadata": {},
   "outputs": [],
   "source": [
    "# print out the nonPDS matrix and the determinant\n",
    "if torch.min(torch.det(g0))<0:\n",
    "    g = g0\n",
    "    detg = torch.det(g)\n",
    "    I1,I2,I3 = (detg0==torch.min(detg)).nonzero().reshape(-1)\n",
    "    print('g0 is not PD')\n",
    "    print(g0[I1,I2,I3])\n",
    "    print('The det is', g0[I1,I2,I3].det().item())\n",
    "elif torch.min(torch.det(g1))<0:\n",
    "    g = g1\n",
    "    detg = torch.det(g)\n",
    "    I1,I2,I3 = (detg0==torch.min(detg)).nonzero().reshape(-1)\n",
    "    print('g1 is not PD')\n",
    "    print(g1[I1,I2,I3])\n",
    "    print('The det is',g1[I1,I2,I3].det())"
   ]
  },
  {
   "cell_type": "code",
   "execution_count": 8,
   "metadata": {},
   "outputs": [],
   "source": [
    "# A, B = g0, g1\n",
    "A, B = tensor_met_list[0], tensor_met_list[1]"
   ]
  },
  {
   "cell_type": "code",
   "execution_count": 9,
   "metadata": {},
   "outputs": [
    {
     "name": "stdout",
     "output_type": "stream",
     "text": [
      "CPU times: user 11.1 s, sys: 2.18 s, total: 13.3 s\n",
      "Wall time: 1.26 s\n"
     ]
    }
   ],
   "source": [
    "%%time\n",
    "G = LA.cholesky(A)\n",
    "G_inv = torch.inverse(G)\n",
    "W = torch.einsum(\"...ik,...ks,...js->...ij\",[G_inv, B, G_inv])"
   ]
  },
  {
   "cell_type": "code",
   "execution_count": 10,
   "metadata": {},
   "outputs": [
    {
     "data": {
      "text/plain": [
       "tensor(11529832.9221, dtype=torch.float64)"
      ]
     },
     "execution_count": 10,
     "metadata": {},
     "output_type": "execute_result"
    }
   ],
   "source": [
    "torch.sum(LA.cholesky(W))"
   ]
  },
  {
   "cell_type": "code",
   "execution_count": 60,
   "metadata": {},
   "outputs": [],
   "source": [
    "import math"
   ]
  },
  {
   "cell_type": "markdown",
   "metadata": {},
   "source": []
  },
  {
   "cell_type": "code",
   "execution_count": 53,
   "metadata": {},
   "outputs": [],
   "source": [
    "def eigenvalues(M):\n",
    "    a11 = M[:,0,0]\n",
    "    a12 = M[:,0,1]\n",
    "    a13 = M[:,0,2]\n",
    "    a22 = M[:,1,1]\n",
    "    a23 = M[:,1,2]\n",
    "    a33 = M[:,2,2]\n",
    "    c2 = -a11-a22-a33\n",
    "    c1 = a11*a22+a11*a33+a22*a33-torch.pow(a12,2)-torch.pow(a13,2)-torch.pow(a23,2)\n",
    "    c0 = a11*torch.pow(a23,2)+a22*torch.pow(a13,2)+a33*torch.pow(a12,2)-a11*a22*a33-2*a13*a12*a23\n",
    "    p = torch.pow(c2,2)-3*c1\n",
    "    q = -13.5*c0-torch.pow(c2,3)+4.5*c2*c1\n",
    "    t = 2*torch.pow(p,-1.5)*q\n",
    "    phi = torch.arctan(torch.sqrt(27*(torch.pow(c1,2)*(p-c1)/4.+c0*(q+27./4.*c0)))/q)/3.\n",
    "    x1 = 2*torch.cos(phi)\n",
    "    x2 = -torch.cos(phi)-math.sqrt(3)*torch.sin(phi)\n",
    "    x3 = -torch.cos(phi)+math.sqrt(3)*torch.sin(phi)\n",
    "    lamda1 = torch.sqrt(p)*x1/3.-c2/3.\n",
    "    lamda2 = torch.sqrt(p)*x2/3.-c2/3.\n",
    "    lamda3 = torch.sqrt(p)*x3/3.-c2/3.\n",
    "    return lamda1, lamda2, lamda3"
   ]
  },
  {
   "cell_type": "code",
   "execution_count": 54,
   "metadata": {},
   "outputs": [
    {
     "data": {
      "text/plain": [
       "(tensor([0.1278], dtype=torch.float64),\n",
       " tensor([0.0445], dtype=torch.float64),\n",
       " tensor([0.0444], dtype=torch.float64))"
      ]
     },
     "execution_count": 54,
     "metadata": {},
     "output_type": "execute_result"
    }
   ],
   "source": [
    "eigenvalues(g.unsqueeze(0))"
   ]
  },
  {
   "cell_type": "code",
   "execution_count": null,
   "metadata": {},
   "outputs": [],
   "source": []
  }
 ],
 "metadata": {
  "kernelspec": {
   "display_name": "Python 3",
   "language": "python",
   "name": "python3"
  },
  "language_info": {
   "codemirror_mode": {
    "name": "ipython",
    "version": 3
   },
   "file_extension": ".py",
   "mimetype": "text/x-python",
   "name": "python",
   "nbconvert_exporter": "python",
   "pygments_lexer": "ipython3",
   "version": "3.7.9"
  },
  "varInspector": {
   "cols": {
    "lenName": 16,
    "lenType": 16,
    "lenVar": 40
   },
   "kernels_config": {
    "python": {
     "delete_cmd_postfix": "",
     "delete_cmd_prefix": "del ",
     "library": "var_list.py",
     "varRefreshCmd": "print(var_dic_list())"
    },
    "r": {
     "delete_cmd_postfix": ") ",
     "delete_cmd_prefix": "rm(",
     "library": "var_list.r",
     "varRefreshCmd": "cat(var_dic_list()) "
    }
   },
   "types_to_exclude": [
    "module",
    "function",
    "builtin_function_or_method",
    "instance",
    "_Feature"
   ],
   "window_display": false
  }
 },
 "nbformat": 4,
 "nbformat_minor": 5
}
