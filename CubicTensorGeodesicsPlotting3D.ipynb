{
 "cells": [
  {
   "cell_type": "code",
   "execution_count": 1,
   "metadata": {},
   "outputs": [],
   "source": [
    "import torch\n",
    "from tqdm import tqdm\n",
    "import numpy as np\n",
    "import scipy.io as sio\n",
    "import matplotlib.pyplot as plt\n",
    "import SimpleITK as sitk\n",
    "from lazy_imports import itkwidgets\n",
    "from lazy_imports import itkview\n",
    "from lazy_imports import interactive\n",
    "from lazy_imports import ipywidgets\n",
    "from lazy_imports import pv"
   ]
  },
  {
   "cell_type": "code",
   "execution_count": 2,
   "metadata": {},
   "outputs": [],
   "source": [
    "from mtch.RegistrationFunc3D import *\n",
    "from mtch.SplitEbinMetric3D import *\n",
    "from mtch.GeoPlot import *"
   ]
  },
  {
   "cell_type": "code",
   "execution_count": 3,
   "metadata": {},
   "outputs": [],
   "source": [
    "# from Packages.disp.vis import show_2d, show_2d_tensors\n",
    "from disp.vis import vis_tensors, vis_path, disp_scalar_to_file\n",
    "from disp.vis import disp_vector_to_file, disp_tensor_to_file\n",
    "from disp.vis import disp_gradG_to_file, disp_gradA_to_file\n",
    "from disp.vis import view_3d_tensors, tensors_to_mesh"
   ]
  },
  {
   "cell_type": "code",
   "execution_count": 4,
   "metadata": {},
   "outputs": [],
   "source": [
    "import algo.metricModSolver2d as mms\n",
    "import algo.geodesic as geo\n",
    "import algo.euler as euler\n",
    "import algo.dijkstra as dijkstra"
   ]
  },
  {
   "cell_type": "markdown",
   "metadata": {},
   "source": [
    "## I/O convention\n",
    "Due to the certain reason of Kris' simulated data generation, please follow the i/o convention below which is symmetric, to make sure the files are read and written correctly. Following example is for 2D situation, 3D case is analogous.\n",
    "### Read\n",
    "Shape of input_tensor.nhdr is [w, h, 3], and Shape of input_mask.nhdr is [w, h]\n",
    "```\n",
    "input_tensor = np.transpose(sitk.GetArrayFromImage(sitk.ReadImage(path)),(2,1,0))\n",
    "input_mask = np.transpose(sitk.GetArrayFromImage(sitk.ReadImage(path)),(1,0))\n",
    "```\n",
    "input_tensor.shape is [3, h, w], and input_mask.shape is [h, w]\n",
    "### Write\n",
    "output_tensor.shape is [3, h, w], and output_mask.shape is [h, w]\n",
    "```\n",
    "output_tensor = sitk.WriteImage(sitk.GetImageFromArray(np.transpose(output_tensor,(2,1,0)), path)\n",
    "output_mask = sitk.WriteImage(sitk.GetImageFromArray(np.transpose(output_tensor,(2,1,0)), path)\n",
    "```\n",
    "Shape of output_tensor.nhdr is [w, h, 3], and Shape of output_mask.nhdr is [w, h]\n",
    "\n",
    "### Note\n",
    "`sitk.WriteImage(sitk.GetImageFromArray())` and `sitk.GetArrayFromImage(sitk.ReadImage(path))` is a pair of inverse operation, and you can see there is no inconsistence with regards to the dimension issue.\n",
    "```\n",
    "output_tensor = np.zeros((12,34,56,78))\n",
    "sitk.WriteImage(sitk.GetImageFromArray(output_tensor), path)\n",
    "input_tensor = sitk.GetArrayFromImage(sitk.ReadImage(path))\n",
    "print(input_tensor)\n",
    "'(12,34,56,78)'\n",
    "```"
   ]
  },
  {
   "cell_type": "markdown",
   "metadata": {},
   "source": [
    "## Import data"
   ]
  },
  {
   "cell_type": "code",
   "execution_count": 5,
   "metadata": {},
   "outputs": [],
   "source": [
    "index0, index1 = 4, 6\n",
    "input_dir = '/usr/sci/projects/HCP/Kris/NSFCRCNS/TestResults/working_3d_python'\n",
    "output_dir = 'Cubic46Geo'\n",
    "g0_lin = torch.from_numpy(sitk.GetArrayFromImage(sitk.ReadImage(f'{input_dir}/cubic{index0}_scaled_tensors.nhdr'))).double().permute(3,2,1,0)\n",
    "g1_lin = torch.from_numpy(sitk.GetArrayFromImage(sitk.ReadImage(f'{input_dir}/cubic{index1}_scaled_tensors.nhdr'))).double().permute(3,2,1,0)\n",
    "\n",
    "height, width, depth = 100,100,41\n",
    "g0_met, g1_met = torch.zeros(height, width, depth, 3, 3, dtype=torch.double), torch.zeros(height, width, depth, 3, 3, dtype=torch.double)\n",
    "g0_met[:,:,:,0,0] = g0_lin[0]\n",
    "g0_met[:,:,:,0,1] = g0_lin[1]\n",
    "g0_met[:,:,:,0,2] = g0_lin[2]\n",
    "g0_met[:,:,:,1,0] = g0_lin[1]\n",
    "g0_met[:,:,:,1,1] = g0_lin[3]\n",
    "g0_met[:,:,:,1,2] = g0_lin[4]\n",
    "g0_met[:,:,:,2,0] = g0_lin[2]\n",
    "g0_met[:,:,:,2,1] = g0_lin[4]\n",
    "g0_met[:,:,:,2,2] = g0_lin[5]\n",
    "\n",
    "g1_met[:,:,:,0,0] = g1_lin[0]\n",
    "g1_met[:,:,:,0,1] = g1_lin[1]\n",
    "g1_met[:,:,:,0,2] = g1_lin[2]\n",
    "g1_met[:,:,:,1,0] = g1_lin[1]\n",
    "g1_met[:,:,:,1,1] = g1_lin[3]\n",
    "g1_met[:,:,:,1,2] = g1_lin[4]\n",
    "g1_met[:,:,:,2,0] = g1_lin[2]\n",
    "g1_met[:,:,:,2,1] = g1_lin[4]\n",
    "g1_met[:,:,:,2,2] = g1_lin[5]"
   ]
  },
  {
   "cell_type": "markdown",
   "metadata": {},
   "source": [
    "## Calculate Geodesic"
   ]
  },
  {
   "cell_type": "code",
   "execution_count": 6,
   "metadata": {},
   "outputs": [
    {
     "name": "stderr",
     "output_type": "stream",
     "text": [
      "This overload of nonzero is deprecated:\n",
      "\tnonzero()\n",
      "Consider using one of the following signatures instead:\n",
      "\tnonzero(*, bool as_tuple) (Triggered internally at  /opt/conda/conda-bld/pytorch_1607370141920/work/torch/csrc/utils/python_arg_parser.cpp:882.)\n"
     ]
    }
   ],
   "source": [
    "Tpts = 7\n",
    "geo_met_list = get_geo(g0_met, g1_met, 1./3., Tpts)"
   ]
  },
  {
   "cell_type": "markdown",
   "metadata": {},
   "source": [
    "## Save Result"
   ]
  },
  {
   "cell_type": "code",
   "execution_count": 7,
   "metadata": {
    "scrolled": false
   },
   "outputs": [],
   "source": [
    "geo_lin_list = []\n",
    "geo_mask_list = []\n",
    "\n",
    "for i in range(Tpts):\n",
    "    geo_lin = torch.zeros((6,height,width,depth))\n",
    "    geo_lin[0]=geo_met_list[i][:,:,:,0,0]\n",
    "    geo_lin[1]=geo_met_list[i][:,:,:,0,1]\n",
    "    geo_lin[2]=geo_met_list[i][:,:,:,0,2]\n",
    "    geo_lin[3]=geo_met_list[i][:,:,:,1,1]\n",
    "    geo_lin[4]=geo_met_list[i][:,:,:,1,2]\n",
    "    geo_lin[5]=geo_met_list[i][:,:,:,2,2]\n",
    "    geo_mask = torch.where(torch.det(geo_met_list[i])>1,1,0)\n",
    "    geo_lin_list.append(geo_lin)\n",
    "    geo_mask_list.append(geo_mask)\n",
    "    sitk.WriteImage(sitk.GetImageFromArray(geo_lin.permute(3,2,1,0).numpy()), f'{output_dir}/cubic_46_geodesic_{i}_tens.nhdr')\n",
    "    sitk.WriteImage(sitk.GetImageFromArray(geo_mask.permute(2,1,0).numpy()), f'{output_dir}/cubic_46_geodesic_{i}_mask.nhdr')"
   ]
  },
  {
   "cell_type": "code",
   "execution_count": 8,
   "metadata": {},
   "outputs": [],
   "source": [
    "# vwr = itkview(torch.where(torch.det(geo_met_list[i])>1,1,0))\n",
    "# vwr\n",
    "start_coords = [[13, 14, 21]]\n",
    "init_velocities = [None]\n",
    "geo_delta_t = -0.08\n",
    "geo_iters = 1300 "
   ]
  },
  {
   "cell_type": "code",
   "execution_count": 11,
   "metadata": {
    "scrolled": true
   },
   "outputs": [
    {
     "name": "stdout",
     "output_type": "stream",
     "text": [
      "Finding geodesic path from [13, 14, 21] with initial velocity [0.26580047 0.96402806 0.        ]\n",
      "masking pixel 8 14 16 for boundary type shiftzbottomleft\n",
      "masking pixel 8 14 17 for boundary type shiftzbottomleft\n",
      "masking pixel 8 14 24 for boundary type shiftzbottomleft\n",
      "masking pixel 8 14 25 for boundary type shiftzbottomleft\n",
      "masking pixel 8 15 16 for boundary type rearshiftyleft\n",
      "masking pixel 8 16 16 for boundary type rearshiftyleft\n",
      "masking pixel 10 14 14 for boundary type rearshiftbottomleft\n",
      "masking pixel 10 15 14 for boundary type rearshiftyleft\n",
      "masking pixel 10 27 20 for boundary type shiftztopleft\n",
      "masking pixel 10 27 21 for boundary type shiftztopleft\n",
      "masking pixel 15 37 20 for boundary type shiftztopleft\n",
      "masking pixel 15 37 21 for boundary type shiftztopleft\n",
      "masking pixel 17 40 20 for boundary type shiftztopleft\n",
      "masking pixel 17 40 21 for boundary type shiftztopleft\n",
      "masking pixel 20 44 20 for boundary type shiftztopleft\n",
      "masking pixel 20 44 21 for boundary type shiftztopleft\n",
      "masking pixel 21 13 20 for boundary type shiftzbottomright\n",
      "masking pixel 21 13 21 for boundary type shiftzbottomright\n",
      "masking pixel 25 24 20 for boundary type shiftzbottomright\n",
      "masking pixel 25 24 21 for boundary type shiftzbottomright\n",
      "masking pixel 26 26 20 for boundary type shiftzbottomright\n",
      "masking pixel 26 26 21 for boundary type shiftzbottomright\n",
      "masking pixel 26 50 20 for boundary type shiftztopleft\n",
      "masking pixel 26 50 21 for boundary type shiftztopleft\n",
      "masking pixel 27 28 20 for boundary type shiftzbottomright\n",
      "masking pixel 27 28 21 for boundary type shiftzbottomright\n",
      "masking pixel 30 53 20 for boundary type shiftztopleft\n",
      "masking pixel 30 53 21 for boundary type shiftztopleft\n",
      "masking pixel 32 35 20 for boundary type shiftzbottomright\n",
      "masking pixel 32 35 21 for boundary type shiftzbottomright\n",
      "masking pixel 35 38 20 for boundary type shiftzbottomright\n",
      "masking pixel 35 38 21 for boundary type shiftzbottomright\n",
      "masking pixel 39 41 20 for boundary type shiftzbottomright\n",
      "masking pixel 39 41 21 for boundary type shiftzbottomright\n",
      "masking pixel 43 43 20 for boundary type shiftzbottomright\n",
      "masking pixel 43 43 21 for boundary type shiftzbottomright\n",
      "masking pixel 48 60 20 for boundary type shiftztopleft\n",
      "masking pixel 48 60 21 for boundary type shiftztopleft\n",
      "masking pixel 49 45 20 for boundary type shiftzbottomright\n",
      "masking pixel 49 45 21 for boundary type shiftzbottomright\n",
      "masking pixel 55 46 20 for boundary type shiftzbottomright\n",
      "masking pixel 55 46 21 for boundary type shiftzbottomright\n",
      "masking pixel 55 61 20 for boundary type shiftztopleft\n",
      "masking pixel 55 61 21 for boundary type shiftztopleft\n",
      "masking pixel 66 47 20 for boundary type shiftzbottomright\n",
      "masking pixel 66 47 21 for boundary type shiftzbottomright\n",
      "masking pixel 67 62 20 for boundary type shiftztopleft\n",
      "masking pixel 67 62 21 for boundary type shiftztopleft\n",
      "masking pixel 74 48 20 for boundary type shiftzbottomright\n",
      "masking pixel 74 48 21 for boundary type shiftzbottomright\n",
      "masking pixel 75 79 19 for boundary type rearshiftyleft\n",
      "masking pixel 75 80 19 for boundary type rearshiftyleft\n",
      "masking pixel 76 68 20 for boundary type shiftzbottomleft\n",
      "masking pixel 76 69 20 for boundary type shiftzbottomleft\n",
      "masking pixel 76 69 21 for boundary type shiftzbottomleft\n",
      "masking pixel 76 70 20 for boundary type shiftzbottomleft\n",
      "masking pixel 76 70 21 for boundary type shiftzbottomleft\n",
      "masking pixel 76 80 25 for boundary type frontshiftyleft\n",
      "masking pixel 76 81 25 for boundary type frontshifttopleft\n",
      "masking pixel 80 50 20 for boundary type shiftzbottomright\n",
      "masking pixel 80 50 21 for boundary type shiftzbottomright\n",
      "masking pixel 82 51 20 for boundary type shiftzbottomright\n",
      "masking pixel 82 51 21 for boundary type shiftzbottomright\n",
      "masking pixel 85 83 15 for boundary type reartopshiftx\n",
      "masking pixel 85 83 26 for boundary type fronttopshiftx\n",
      "masking pixel 86 83 15 for boundary type reartopshiftx\n",
      "masking pixel 86 83 26 for boundary type fronttopshiftx\n",
      "masking pixel 90 62 20 for boundary type shiftzbottomright\n",
      "masking pixel 90 62 21 for boundary type shiftzbottomright\n",
      "numpts 89\n",
      "smallest,largest max eigenvalue 4.312407224198091 13.624126471772486\n"
     ]
    },
    {
     "data": {
      "application/vnd.jupyter.widget-view+json": {
       "model_id": "1e635ae7561047398a11c59ea86f4baf",
       "version_major": 2,
       "version_minor": 0
      },
      "text/plain": [
       "Viewer(geometries=[{'vtkClass': 'vtkPolyData', 'points': {'vtkClass': 'vtkPoints', 'name': '_points', 'numberO…"
      ]
     },
     "metadata": {},
     "output_type": "display_data"
    }
   ],
   "source": [
    "tensor_lin = np.transpose(sitk.GetArrayFromImage(sitk.ReadImage(f'{output_dir}/cubic_46_geodesic_{0}_tens.nhdr')),(3,2,1,0))\n",
    "mask = np.transpose(sitk.GetArrayFromImage(sitk.ReadImage(f'{output_dir}/cubic_46_geodesic_{0}_mask.nhdr')),(2,1,0))\n",
    "geox, geoy, geoz = geo.geodesicpath_3d(tensor_lin, mask,\\\n",
    "                                        start_coords[0], init_velocities[0], \\\n",
    "                                        geo_delta_t, iter_num=geo_iters, both_directions=False)\n",
    "vwr = view_3d_tensors(np.transpose(tensor_lin,(1,2,3,0)),\n",
    "                      mask,\n",
    "                      mask,\n",
    "                      paths=[],stride=6,scale=6)\n",
    "vwr"
   ]
  },
  {
   "cell_type": "code",
   "execution_count": 12,
   "metadata": {
    "scrolled": true
   },
   "outputs": [
    {
     "name": "stdout",
     "output_type": "stream",
     "text": [
      "Finding geodesic path from [13, 14, 21] with initial velocity [0.26896079 0.96315113 0.        ]\n",
      "masking pixel 8 14 16 for boundary type shiftzbottomleft\n",
      "masking pixel 8 14 17 for boundary type shiftzbottomleft\n",
      "masking pixel 8 14 24 for boundary type shiftzbottomleft\n",
      "masking pixel 8 14 25 for boundary type shiftzbottomleft\n",
      "masking pixel 8 15 16 for boundary type rearshiftyleft\n",
      "masking pixel 8 16 16 for boundary type rearshiftyleft\n",
      "masking pixel 10 14 14 for boundary type rearshiftbottomleft\n",
      "masking pixel 10 15 14 for boundary type rearshiftyleft\n",
      "masking pixel 10 27 20 for boundary type shiftztopleft\n",
      "masking pixel 10 27 21 for boundary type shiftztopleft\n",
      "masking pixel 15 37 20 for boundary type shiftztopleft\n",
      "masking pixel 15 37 21 for boundary type shiftztopleft\n",
      "masking pixel 17 40 20 for boundary type shiftztopleft\n",
      "masking pixel 17 40 21 for boundary type shiftztopleft\n",
      "masking pixel 19 11 19 for boundary type rearbottomshiftx\n",
      "masking pixel 19 11 20 for boundary type rearbottomshiftx\n",
      "masking pixel 19 11 21 for boundary type shiftzbottomshiftx\n",
      "masking pixel 19 11 22 for boundary type shiftzbottomshiftx\n",
      "masking pixel 20 11 19 for boundary type rearbottomshiftright\n",
      "masking pixel 20 11 20 for boundary type rearbottomshiftright\n",
      "masking pixel 20 11 21 for boundary type shiftzbottomshiftright\n",
      "masking pixel 20 11 22 for boundary type shiftzbottomshiftright\n",
      "masking pixel 20 44 20 for boundary type shiftztopleft\n",
      "masking pixel 20 44 21 for boundary type shiftztopleft\n",
      "masking pixel 21 13 20 for boundary type shiftzbottomright\n",
      "masking pixel 21 13 21 for boundary type shiftzbottomright\n",
      "masking pixel 22 16 20 for boundary type shiftzbottomright\n",
      "masking pixel 22 16 21 for boundary type shiftzbottomright\n",
      "masking pixel 24 21 20 for boundary type shiftzbottomright\n",
      "masking pixel 24 21 21 for boundary type shiftzbottomright\n",
      "masking pixel 26 25 20 for boundary type shiftzbottomright\n",
      "masking pixel 26 25 21 for boundary type shiftzbottomright\n",
      "masking pixel 26 50 20 for boundary type shiftztopleft\n",
      "masking pixel 26 50 21 for boundary type shiftztopleft\n",
      "masking pixel 29 30 20 for boundary type shiftzbottomright\n",
      "masking pixel 29 30 21 for boundary type shiftzbottomright\n",
      "masking pixel 30 53 20 for boundary type shiftztopleft\n",
      "masking pixel 30 53 21 for boundary type shiftztopleft\n",
      "masking pixel 37 38 20 for boundary type shiftzbottomright\n",
      "masking pixel 37 38 21 for boundary type shiftzbottomright\n",
      "masking pixel 48 60 20 for boundary type shiftztopleft\n",
      "masking pixel 48 60 21 for boundary type shiftztopleft\n",
      "masking pixel 49 43 20 for boundary type shiftzbottomright\n",
      "masking pixel 49 43 21 for boundary type shiftzbottomright\n",
      "masking pixel 55 61 20 for boundary type shiftztopleft\n",
      "masking pixel 55 61 21 for boundary type shiftztopleft\n",
      "masking pixel 56 44 20 for boundary type shiftzbottomright\n",
      "masking pixel 56 44 21 for boundary type shiftzbottomright\n",
      "masking pixel 67 62 20 for boundary type shiftztopleft\n",
      "masking pixel 67 62 21 for boundary type shiftztopleft\n",
      "masking pixel 71 45 20 for boundary type shiftzbottomright\n",
      "masking pixel 71 45 21 for boundary type shiftzbottomright\n",
      "masking pixel 75 79 19 for boundary type rearshiftyleft\n",
      "masking pixel 75 80 19 for boundary type rearshiftyleft\n",
      "masking pixel 76 69 20 for boundary type shiftzbottomleft\n",
      "masking pixel 76 69 21 for boundary type shiftzbottomleft\n",
      "masking pixel 76 70 20 for boundary type shiftzbottomleft\n",
      "masking pixel 76 70 21 for boundary type shiftzbottomleft\n",
      "masking pixel 76 80 25 for boundary type frontshiftyleft\n",
      "masking pixel 76 81 25 for boundary type frontshifttopleft\n",
      "masking pixel 77 46 20 for boundary type shiftzbottomright\n",
      "masking pixel 77 46 21 for boundary type shiftzbottomright\n",
      "masking pixel 80 47 20 for boundary type shiftzbottomright\n",
      "masking pixel 80 47 21 for boundary type shiftzbottomright\n",
      "masking pixel 84 83 14 for boundary type reartopshiftx\n",
      "masking pixel 84 83 27 for boundary type fronttopshiftx\n",
      "masking pixel 85 83 14 for boundary type reartopshiftx\n",
      "masking pixel 85 83 27 for boundary type fronttopshiftx\n",
      "masking pixel 88 53 20 for boundary type shiftzbottomright\n",
      "masking pixel 88 53 21 for boundary type shiftzbottomright\n",
      "masking pixel 91 60 20 for boundary type shiftzbottomright\n",
      "masking pixel 91 60 21 for boundary type shiftzbottomright\n",
      "masking pixel 91 74 20 for boundary type shiftztopright\n",
      "masking pixel 91 74 21 for boundary type shiftztopright\n",
      "numpts 97\n",
      "smallest,largest max eigenvalue 1.4731469631176426 13.186175371962328\n"
     ]
    },
    {
     "data": {
      "application/vnd.jupyter.widget-view+json": {
       "model_id": "98995fe30e54462ea4b6e8b8ca4412ee",
       "version_major": 2,
       "version_minor": 0
      },
      "text/plain": [
       "Viewer(geometries=[{'vtkClass': 'vtkPolyData', 'points': {'vtkClass': 'vtkPoints', 'name': '_points', 'numberO…"
      ]
     },
     "metadata": {},
     "output_type": "display_data"
    }
   ],
   "source": [
    "tensor_lin = np.transpose(sitk.GetArrayFromImage(sitk.ReadImage(f'{output_dir}/cubic_46_geodesic_{1}_tens.nhdr')),(3,2,1,0))\n",
    "mask = np.transpose(sitk.GetArrayFromImage(sitk.ReadImage(f'{output_dir}/cubic_46_geodesic_{1}_mask.nhdr')),(2,1,0))\n",
    "geox, geoy, geoz = geo.geodesicpath_3d(tensor_lin, mask,\\\n",
    "                                        start_coords[0], init_velocities[0], \\\n",
    "                                        geo_delta_t, iter_num=geo_iters, both_directions=False)\n",
    "vwr = view_3d_tensors(np.transpose(tensor_lin,(1,2,3,0)),\n",
    "                      mask,\n",
    "                      mask,\n",
    "                      paths=[],stride=6,scale=6)\n",
    "vwr"
   ]
  },
  {
   "cell_type": "code",
   "execution_count": 13,
   "metadata": {
    "scrolled": true
   },
   "outputs": [
    {
     "name": "stdout",
     "output_type": "stream",
     "text": [
      "Finding geodesic path from [13, 14, 21] with initial velocity [0.27209659 0.96226994 0.        ]\n",
      "masking pixel 8 14 16 for boundary type shiftzbottomleft\n",
      "masking pixel 8 14 17 for boundary type shiftzbottomleft\n",
      "masking pixel 8 14 24 for boundary type shiftzbottomleft\n",
      "masking pixel 8 14 25 for boundary type shiftzbottomleft\n",
      "masking pixel 8 15 16 for boundary type rearshiftyleft\n",
      "masking pixel 8 16 16 for boundary type rearshiftyleft\n",
      "masking pixel 10 14 14 for boundary type rearshiftbottomleft\n",
      "masking pixel 10 15 14 for boundary type rearshiftyleft\n",
      "masking pixel 10 27 20 for boundary type shiftztopleft\n",
      "masking pixel 10 27 21 for boundary type shiftztopleft\n",
      "masking pixel 15 37 20 for boundary type shiftztopleft\n",
      "masking pixel 15 37 21 for boundary type shiftztopleft\n",
      "masking pixel 17 40 20 for boundary type shiftztopleft\n",
      "masking pixel 17 40 21 for boundary type shiftztopleft\n",
      "masking pixel 19 11 19 for boundary type rearbottomshiftx\n",
      "masking pixel 19 11 20 for boundary type rearbottomshiftx\n",
      "masking pixel 19 11 21 for boundary type shiftzbottomshiftx\n",
      "masking pixel 19 11 22 for boundary type shiftzbottomshiftx\n",
      "masking pixel 20 11 19 for boundary type rearbottomshiftright\n",
      "masking pixel 20 11 20 for boundary type rearbottomshiftright\n",
      "masking pixel 20 11 21 for boundary type shiftzbottomshiftright\n",
      "masking pixel 20 11 22 for boundary type shiftzbottomshiftright\n",
      "masking pixel 20 44 20 for boundary type shiftztopleft\n",
      "masking pixel 20 44 21 for boundary type shiftztopleft\n",
      "masking pixel 21 13 20 for boundary type shiftzbottomright\n",
      "masking pixel 21 13 21 for boundary type shiftzbottomright\n",
      "masking pixel 22 16 20 for boundary type shiftzbottomright\n",
      "masking pixel 22 16 21 for boundary type shiftzbottomright\n",
      "masking pixel 24 21 20 for boundary type shiftzbottomright\n",
      "masking pixel 24 21 21 for boundary type shiftzbottomright\n",
      "masking pixel 26 25 20 for boundary type shiftzbottomright\n",
      "masking pixel 26 25 21 for boundary type shiftzbottomright\n",
      "masking pixel 26 50 20 for boundary type shiftztopleft\n",
      "masking pixel 26 50 21 for boundary type shiftztopleft\n",
      "masking pixel 29 30 20 for boundary type shiftzbottomright\n",
      "masking pixel 29 30 21 for boundary type shiftzbottomright\n",
      "masking pixel 30 53 20 for boundary type shiftztopleft\n",
      "masking pixel 30 53 21 for boundary type shiftztopleft\n",
      "masking pixel 37 38 20 for boundary type shiftzbottomright\n",
      "masking pixel 37 38 21 for boundary type shiftzbottomright\n",
      "masking pixel 48 60 20 for boundary type shiftztopleft\n",
      "masking pixel 48 60 21 for boundary type shiftztopleft\n",
      "masking pixel 49 43 20 for boundary type shiftzbottomright\n",
      "masking pixel 49 43 21 for boundary type shiftzbottomright\n",
      "masking pixel 55 61 20 for boundary type shiftztopleft\n",
      "masking pixel 55 61 21 for boundary type shiftztopleft\n",
      "masking pixel 56 44 20 for boundary type shiftzbottomright\n",
      "masking pixel 56 44 21 for boundary type shiftzbottomright\n",
      "masking pixel 67 62 20 for boundary type shiftztopleft\n",
      "masking pixel 67 62 21 for boundary type shiftztopleft\n",
      "masking pixel 71 45 20 for boundary type shiftzbottomright\n",
      "masking pixel 71 45 21 for boundary type shiftzbottomright\n",
      "masking pixel 75 79 19 for boundary type rearshiftyleft\n",
      "masking pixel 75 80 19 for boundary type rearshiftyleft\n",
      "masking pixel 76 70 20 for boundary type shiftzbottomleft\n",
      "masking pixel 76 70 21 for boundary type shiftzbottomleft\n",
      "masking pixel 76 80 25 for boundary type frontshiftyleft\n",
      "masking pixel 76 81 25 for boundary type frontshifttopleft\n",
      "masking pixel 77 46 20 for boundary type shiftzbottomright\n",
      "masking pixel 77 46 21 for boundary type shiftzbottomright\n",
      "masking pixel 80 47 20 for boundary type shiftzbottomright\n",
      "masking pixel 80 47 21 for boundary type shiftzbottomright\n",
      "masking pixel 84 83 14 for boundary type reartopshiftx\n",
      "masking pixel 84 83 27 for boundary type fronttopshiftx\n",
      "masking pixel 85 83 14 for boundary type reartopshiftx\n",
      "masking pixel 85 83 27 for boundary type fronttopshiftx\n",
      "masking pixel 88 53 20 for boundary type shiftzbottomright\n",
      "masking pixel 88 53 21 for boundary type shiftzbottomright\n",
      "masking pixel 91 60 20 for boundary type shiftzbottomright\n",
      "masking pixel 91 60 21 for boundary type shiftzbottomright\n",
      "masking pixel 91 74 20 for boundary type shiftztopright\n",
      "masking pixel 91 74 21 for boundary type shiftztopright\n",
      "numpts 97\n",
      "smallest,largest max eigenvalue 2.121148471622376 12.764938114005748\n"
     ]
    },
    {
     "data": {
      "application/vnd.jupyter.widget-view+json": {
       "model_id": "566b13d3eeaf4d5caceb122d5efaccd3",
       "version_major": 2,
       "version_minor": 0
      },
      "text/plain": [
       "Viewer(geometries=[{'vtkClass': 'vtkPolyData', 'points': {'vtkClass': 'vtkPoints', 'name': '_points', 'numberO…"
      ]
     },
     "metadata": {},
     "output_type": "display_data"
    }
   ],
   "source": [
    "tensor_lin = np.transpose(sitk.GetArrayFromImage(sitk.ReadImage(f'{output_dir}/cubic_46_geodesic_{2}_tens.nhdr')),(3,2,1,0))\n",
    "mask = np.transpose(sitk.GetArrayFromImage(sitk.ReadImage(f'{output_dir}/cubic_46_geodesic_{2}_mask.nhdr')),(2,1,0))\n",
    "geox, geoy, geoz = geo.geodesicpath_3d(tensor_lin, mask,\\\n",
    "                                        start_coords[0], init_velocities[0], \\\n",
    "                                        geo_delta_t, iter_num=geo_iters, both_directions=False)\n",
    "vwr = view_3d_tensors(np.transpose(tensor_lin,(1,2,3,0)),\n",
    "                      mask,\n",
    "                      mask,\n",
    "                      paths=[],stride=6,scale=6)\n",
    "vwr"
   ]
  },
  {
   "cell_type": "code",
   "execution_count": 14,
   "metadata": {
    "scrolled": true
   },
   "outputs": [
    {
     "name": "stdout",
     "output_type": "stream",
     "text": [
      "Finding geodesic path from [13, 14, 21] with initial velocity [0.27520736 0.96138489 0.        ]\n",
      "masking pixel 8 14 16 for boundary type shiftzbottomleft\n",
      "masking pixel 8 14 17 for boundary type shiftzbottomleft\n",
      "masking pixel 8 14 24 for boundary type shiftzbottomleft\n",
      "masking pixel 8 14 25 for boundary type shiftzbottomleft\n",
      "masking pixel 8 15 16 for boundary type rearshiftyleft\n",
      "masking pixel 8 16 16 for boundary type rearshiftyleft\n",
      "masking pixel 10 14 14 for boundary type rearshiftbottomleft\n",
      "masking pixel 10 15 14 for boundary type rearshiftyleft\n",
      "masking pixel 10 27 20 for boundary type shiftztopleft\n",
      "masking pixel 10 27 21 for boundary type shiftztopleft\n",
      "masking pixel 15 37 20 for boundary type shiftztopleft\n",
      "masking pixel 15 37 21 for boundary type shiftztopleft\n",
      "masking pixel 17 40 20 for boundary type shiftztopleft\n",
      "masking pixel 17 40 21 for boundary type shiftztopleft\n",
      "masking pixel 19 11 19 for boundary type rearbottomshiftx\n",
      "masking pixel 19 11 20 for boundary type rearbottomshiftx\n",
      "masking pixel 19 11 21 for boundary type shiftzbottomshiftx\n",
      "masking pixel 19 11 22 for boundary type shiftzbottomshiftx\n",
      "masking pixel 20 11 19 for boundary type rearbottomshiftright\n",
      "masking pixel 20 11 20 for boundary type rearbottomshiftright\n",
      "masking pixel 20 11 21 for boundary type shiftzbottomshiftright\n",
      "masking pixel 20 11 22 for boundary type shiftzbottomshiftright\n",
      "masking pixel 20 44 20 for boundary type shiftztopleft\n",
      "masking pixel 20 44 21 for boundary type shiftztopleft\n",
      "masking pixel 21 13 20 for boundary type shiftzbottomright\n",
      "masking pixel 21 13 21 for boundary type shiftzbottomright\n",
      "masking pixel 22 16 20 for boundary type shiftzbottomright\n",
      "masking pixel 22 16 21 for boundary type shiftzbottomright\n",
      "masking pixel 24 21 20 for boundary type shiftzbottomright\n",
      "masking pixel 24 21 21 for boundary type shiftzbottomright\n",
      "masking pixel 26 25 20 for boundary type shiftzbottomright\n",
      "masking pixel 26 25 21 for boundary type shiftzbottomright\n",
      "masking pixel 26 50 20 for boundary type shiftztopleft\n",
      "masking pixel 26 50 21 for boundary type shiftztopleft\n",
      "masking pixel 29 30 20 for boundary type shiftzbottomright\n",
      "masking pixel 29 30 21 for boundary type shiftzbottomright\n",
      "masking pixel 30 53 20 for boundary type shiftztopleft\n",
      "masking pixel 30 53 21 for boundary type shiftztopleft\n",
      "masking pixel 37 38 20 for boundary type shiftzbottomright\n",
      "masking pixel 37 38 21 for boundary type shiftzbottomright\n",
      "masking pixel 48 60 20 for boundary type shiftztopleft\n",
      "masking pixel 48 60 21 for boundary type shiftztopleft\n",
      "masking pixel 49 43 20 for boundary type shiftzbottomright\n",
      "masking pixel 49 43 21 for boundary type shiftzbottomright\n",
      "masking pixel 55 61 20 for boundary type shiftztopleft\n",
      "masking pixel 55 61 21 for boundary type shiftztopleft\n",
      "masking pixel 56 44 20 for boundary type shiftzbottomright\n",
      "masking pixel 56 44 21 for boundary type shiftzbottomright\n",
      "masking pixel 67 62 20 for boundary type shiftztopleft\n",
      "masking pixel 67 62 21 for boundary type shiftztopleft\n",
      "masking pixel 71 45 20 for boundary type shiftzbottomright\n",
      "masking pixel 71 45 21 for boundary type shiftzbottomright\n",
      "masking pixel 75 79 19 for boundary type rearshiftyleft\n",
      "masking pixel 75 80 19 for boundary type rearshiftyleft\n",
      "masking pixel 76 63 20 for boundary type shiftyleft\n",
      "masking pixel 76 63 21 for boundary type rearshiftyleft\n",
      "masking pixel 76 63 22 for boundary type shiftztopleft\n",
      "masking pixel 76 63 23 for boundary type shiftztopleft\n",
      "masking pixel 76 80 25 for boundary type frontshiftyleft\n",
      "masking pixel 76 81 25 for boundary type frontshifttopleft\n",
      "masking pixel 77 46 20 for boundary type shiftzbottomright\n",
      "masking pixel 77 46 21 for boundary type shiftzbottomright\n",
      "masking pixel 80 47 20 for boundary type shiftzbottomright\n",
      "masking pixel 80 47 21 for boundary type shiftzbottomright\n",
      "masking pixel 84 83 14 for boundary type reartopshiftx\n",
      "masking pixel 84 83 27 for boundary type fronttopshiftx\n",
      "masking pixel 85 83 14 for boundary type reartopshiftx\n",
      "masking pixel 85 83 27 for boundary type fronttopshiftx\n",
      "masking pixel 88 53 20 for boundary type shiftzbottomright\n",
      "masking pixel 88 53 21 for boundary type shiftzbottomright\n",
      "masking pixel 91 60 20 for boundary type shiftzbottomright\n",
      "masking pixel 91 60 21 for boundary type shiftzbottomright\n",
      "masking pixel 91 74 20 for boundary type shiftztopright\n",
      "masking pixel 91 74 21 for boundary type shiftztopright\n",
      "masking pixel 76 63 18 for boundary type shiftztopleft\n",
      "masking pixel 76 63 19 for boundary type shiftztopleft\n",
      "numpts 97\n",
      "smallest,largest max eigenvalue 2.4814098806647866 12.361107380045372\n"
     ]
    },
    {
     "data": {
      "application/vnd.jupyter.widget-view+json": {
       "model_id": "23042b5aa68c411da5fe34170955ad3e",
       "version_major": 2,
       "version_minor": 0
      },
      "text/plain": [
       "Viewer(geometries=[{'vtkClass': 'vtkPolyData', 'points': {'vtkClass': 'vtkPoints', 'name': '_points', 'numberO…"
      ]
     },
     "metadata": {},
     "output_type": "display_data"
    }
   ],
   "source": [
    "tensor_lin = np.transpose(sitk.GetArrayFromImage(sitk.ReadImage(f'{output_dir}/cubic_46_geodesic_{3}_tens.nhdr')),(3,2,1,0))\n",
    "mask = np.transpose(sitk.GetArrayFromImage(sitk.ReadImage(f'{output_dir}/cubic_46_geodesic_{3}_mask.nhdr')),(2,1,0))\n",
    "geox, geoy, geoz = geo.geodesicpath_3d(tensor_lin, mask,\\\n",
    "                                        start_coords[0], init_velocities[0], \\\n",
    "                                        geo_delta_t, iter_num=geo_iters, both_directions=False)\n",
    "vwr = view_3d_tensors(np.transpose(tensor_lin,(1,2,3,0)),\n",
    "                      mask,\n",
    "                      mask,\n",
    "                      paths=[],stride=6,scale=6)\n",
    "vwr"
   ]
  },
  {
   "cell_type": "code",
   "execution_count": 15,
   "metadata": {
    "scrolled": true
   },
   "outputs": [
    {
     "name": "stdout",
     "output_type": "stream",
     "text": [
      "Finding geodesic path from [13, 14, 21] with initial velocity [0.27829286 0.96049627 0.        ]\n",
      "masking pixel 8 14 16 for boundary type shiftzbottomleft\n",
      "masking pixel 8 14 17 for boundary type shiftzbottomleft\n",
      "masking pixel 8 14 24 for boundary type shiftzbottomleft\n",
      "masking pixel 8 14 25 for boundary type shiftzbottomleft\n",
      "masking pixel 8 15 16 for boundary type rearshiftyleft\n",
      "masking pixel 8 16 16 for boundary type rearshiftyleft\n",
      "masking pixel 10 14 14 for boundary type rearshiftbottomleft\n",
      "masking pixel 10 15 14 for boundary type rearshiftyleft\n",
      "masking pixel 10 27 20 for boundary type shiftztopleft\n",
      "masking pixel 10 27 21 for boundary type shiftztopleft\n",
      "masking pixel 15 37 20 for boundary type shiftztopleft\n",
      "masking pixel 15 37 21 for boundary type shiftztopleft\n",
      "masking pixel 17 40 20 for boundary type shiftztopleft\n",
      "masking pixel 17 40 21 for boundary type shiftztopleft\n",
      "masking pixel 19 11 19 for boundary type rearbottomshiftx\n",
      "masking pixel 19 11 20 for boundary type rearbottomshiftx\n",
      "masking pixel 19 11 21 for boundary type shiftzbottomshiftx\n",
      "masking pixel 19 11 22 for boundary type shiftzbottomshiftx\n",
      "masking pixel 20 11 19 for boundary type rearbottomshiftright\n",
      "masking pixel 20 11 20 for boundary type rearbottomshiftright\n",
      "masking pixel 20 11 21 for boundary type shiftzbottomshiftright\n",
      "masking pixel 20 11 22 for boundary type shiftzbottomshiftright\n",
      "masking pixel 20 44 20 for boundary type shiftztopleft\n",
      "masking pixel 20 44 21 for boundary type shiftztopleft\n",
      "masking pixel 21 13 20 for boundary type shiftzbottomright\n",
      "masking pixel 21 13 21 for boundary type shiftzbottomright\n",
      "masking pixel 22 16 20 for boundary type shiftzbottomright\n",
      "masking pixel 22 16 21 for boundary type shiftzbottomright\n",
      "masking pixel 24 21 20 for boundary type shiftzbottomright\n",
      "masking pixel 24 21 21 for boundary type shiftzbottomright\n",
      "masking pixel 26 25 20 for boundary type shiftzbottomright\n",
      "masking pixel 26 25 21 for boundary type shiftzbottomright\n",
      "masking pixel 26 50 20 for boundary type shiftztopleft\n",
      "masking pixel 26 50 21 for boundary type shiftztopleft\n",
      "masking pixel 29 30 20 for boundary type shiftzbottomright\n",
      "masking pixel 29 30 21 for boundary type shiftzbottomright\n",
      "masking pixel 30 53 20 for boundary type shiftztopleft\n",
      "masking pixel 30 53 21 for boundary type shiftztopleft\n",
      "masking pixel 37 38 20 for boundary type shiftzbottomright\n",
      "masking pixel 37 38 21 for boundary type shiftzbottomright\n",
      "masking pixel 48 60 20 for boundary type shiftztopleft\n",
      "masking pixel 48 60 21 for boundary type shiftztopleft\n",
      "masking pixel 49 43 20 for boundary type shiftzbottomright\n",
      "masking pixel 49 43 21 for boundary type shiftzbottomright\n",
      "masking pixel 55 61 20 for boundary type shiftztopleft\n",
      "masking pixel 55 61 21 for boundary type shiftztopleft\n",
      "masking pixel 56 44 20 for boundary type shiftzbottomright\n",
      "masking pixel 56 44 21 for boundary type shiftzbottomright\n",
      "masking pixel 67 62 20 for boundary type shiftztopleft\n",
      "masking pixel 67 62 21 for boundary type shiftztopleft\n",
      "masking pixel 71 45 20 for boundary type shiftzbottomright\n",
      "masking pixel 71 45 21 for boundary type shiftzbottomright\n",
      "masking pixel 75 62 20 for boundary type shifttopright\n",
      "masking pixel 75 62 21 for boundary type rearshifttopright\n",
      "masking pixel 75 62 22 for boundary type rearshifttop\n",
      "masking pixel 75 79 19 for boundary type rearshiftyleft\n",
      "masking pixel 75 80 19 for boundary type rearshiftyleft\n",
      "masking pixel 76 62 18 for boundary type shifttop\n",
      "masking pixel 76 62 19 for boundary type shiftzshifttop\n",
      "masking pixel 76 62 23 for boundary type shifttop\n",
      "masking pixel 76 63 20 for boundary type nozshiftyleft\n",
      "masking pixel 76 63 21 for boundary type nozshiftyleft\n",
      "masking pixel 76 71 22 for boundary type shiftzbottomleft\n",
      "masking pixel 76 80 25 for boundary type frontshiftyleft\n",
      "masking pixel 76 81 25 for boundary type frontshifttopleft\n",
      "masking pixel 77 46 20 for boundary type shiftzbottomright\n",
      "masking pixel 77 46 21 for boundary type shiftzbottomright\n",
      "masking pixel 77 62 15 for boundary type shiftztop\n",
      "masking pixel 77 62 16 for boundary type shiftz\n",
      "masking pixel 77 62 25 for boundary type shiftz\n",
      "masking pixel 77 62 26 for boundary type shiftztop\n",
      "masking pixel 77 63 16 for boundary type shiftzshiftyleft\n",
      "masking pixel 77 63 17 for boundary type shiftzshiftyleft\n",
      "masking pixel 77 63 20 for boundary type shiftzleft\n",
      "masking pixel 77 63 21 for boundary type shiftzleft\n",
      "masking pixel 77 63 24 for boundary type shiftzshiftyleft\n",
      "masking pixel 77 63 25 for boundary type shiftzshiftyleft\n",
      "masking pixel 77 64 18 for boundary type rearshiftyleft\n",
      "masking pixel 80 47 20 for boundary type shiftzbottomright\n",
      "masking pixel 80 47 21 for boundary type shiftzbottomright\n",
      "masking pixel 84 83 14 for boundary type reartopshiftx\n",
      "masking pixel 84 83 27 for boundary type fronttopshiftx\n",
      "masking pixel 85 83 14 for boundary type reartopshiftx\n",
      "masking pixel 85 83 27 for boundary type fronttopshiftx\n",
      "masking pixel 88 53 20 for boundary type shiftzbottomright\n",
      "masking pixel 88 53 21 for boundary type shiftzbottomright\n",
      "masking pixel 91 60 20 for boundary type shiftzbottomright\n",
      "masking pixel 91 60 21 for boundary type shiftzbottomright\n",
      "masking pixel 91 74 20 for boundary type shiftztopright\n",
      "masking pixel 91 74 21 for boundary type shiftztopright\n",
      "masking pixel 75 62 16 for boundary type reartopshiftx\n",
      "masking pixel 75 62 25 for boundary type fronttopshiftx\n",
      "masking pixel 76 62 15 for boundary type reartopshiftx\n",
      "masking pixel 76 62 16 for boundary type shiftztopshiftx\n",
      "masking pixel 76 62 17 for boundary type shiftreartopright\n",
      "masking pixel 76 62 22 for boundary type shiftztopleft\n",
      "masking pixel 76 62 25 for boundary type topshiftx\n",
      "masking pixel 76 62 26 for boundary type shiftfronttopshiftx\n",
      "masking pixel 75 62 23 for boundary type shiftztopright\n",
      "masking pixel 75 62 24 for boundary type shiftztop\n",
      "masking pixel 76 62 24 for boundary type shiftreartopshiftx\n",
      "numpts 97\n",
      "smallest,largest max eigenvalue 1.8472727073490733 11.975420840957941\n"
     ]
    },
    {
     "data": {
      "application/vnd.jupyter.widget-view+json": {
       "model_id": "54a314da5764475a9ee1dce88cad29c3",
       "version_major": 2,
       "version_minor": 0
      },
      "text/plain": [
       "Viewer(geometries=[{'vtkClass': 'vtkPolyData', 'points': {'vtkClass': 'vtkPoints', 'name': '_points', 'numberO…"
      ]
     },
     "metadata": {},
     "output_type": "display_data"
    }
   ],
   "source": [
    "tensor_lin = np.transpose(sitk.GetArrayFromImage(sitk.ReadImage(f'{output_dir}/cubic_46_geodesic_{4}_tens.nhdr')),(3,2,1,0))\n",
    "mask = np.transpose(sitk.GetArrayFromImage(sitk.ReadImage(f'{output_dir}/cubic_46_geodesic_{4}_mask.nhdr')),(2,1,0))\n",
    "geox, geoy, geoz = geo.geodesicpath_3d(tensor_lin, mask,\\\n",
    "                                        start_coords[0], init_velocities[0], \\\n",
    "                                        geo_delta_t, iter_num=geo_iters, both_directions=False)\n",
    "vwr = view_3d_tensors(np.transpose(tensor_lin,(1,2,3,0)),\n",
    "                      mask,\n",
    "                      mask,\n",
    "                      paths=[],stride=6,scale=6)\n",
    "vwr"
   ]
  },
  {
   "cell_type": "code",
   "execution_count": 16,
   "metadata": {
    "scrolled": true
   },
   "outputs": [
    {
     "name": "stdout",
     "output_type": "stream",
     "text": [
      "Finding geodesic path from [13, 14, 21] with initial velocity [0.28135269 0.95960443 0.        ]\n",
      "masking pixel 8 14 16 for boundary type shiftzbottomleft\n",
      "masking pixel 8 14 17 for boundary type shiftzbottomleft\n",
      "masking pixel 8 14 24 for boundary type shiftzbottomleft\n",
      "masking pixel 8 14 25 for boundary type shiftzbottomleft\n",
      "masking pixel 8 15 16 for boundary type rearshiftyleft\n",
      "masking pixel 8 16 16 for boundary type rearshiftyleft\n",
      "masking pixel 10 14 14 for boundary type rearshiftbottomleft\n",
      "masking pixel 10 15 14 for boundary type rearshiftyleft\n",
      "masking pixel 10 27 20 for boundary type shiftztopleft\n",
      "masking pixel 10 27 21 for boundary type shiftztopleft\n",
      "masking pixel 15 37 20 for boundary type shiftztopleft\n",
      "masking pixel 15 37 21 for boundary type shiftztopleft\n",
      "masking pixel 17 40 20 for boundary type shiftztopleft\n",
      "masking pixel 17 40 21 for boundary type shiftztopleft\n",
      "masking pixel 19 11 19 for boundary type rearbottomshiftx\n",
      "masking pixel 19 11 20 for boundary type rearbottomshiftx\n",
      "masking pixel 19 11 21 for boundary type shiftzbottomshiftx\n",
      "masking pixel 19 11 22 for boundary type shiftzbottomshiftx\n",
      "masking pixel 20 11 19 for boundary type rearbottomshiftright\n",
      "masking pixel 20 11 20 for boundary type rearbottomshiftright\n",
      "masking pixel 20 11 21 for boundary type shiftzbottomshiftright\n",
      "masking pixel 20 11 22 for boundary type shiftzbottomshiftright\n",
      "masking pixel 20 44 20 for boundary type shiftztopleft\n",
      "masking pixel 20 44 21 for boundary type shiftztopleft\n",
      "masking pixel 21 13 20 for boundary type shiftzbottomright\n",
      "masking pixel 21 13 21 for boundary type shiftzbottomright\n",
      "masking pixel 22 16 20 for boundary type shiftzbottomright\n",
      "masking pixel 22 16 21 for boundary type shiftzbottomright\n",
      "masking pixel 24 21 20 for boundary type shiftzbottomright\n",
      "masking pixel 24 21 21 for boundary type shiftzbottomright\n",
      "masking pixel 26 25 20 for boundary type shiftzbottomright\n",
      "masking pixel 26 25 21 for boundary type shiftzbottomright\n",
      "masking pixel 26 50 20 for boundary type shiftztopleft\n",
      "masking pixel 26 50 21 for boundary type shiftztopleft\n",
      "masking pixel 29 30 20 for boundary type shiftzbottomright\n",
      "masking pixel 29 30 21 for boundary type shiftzbottomright\n",
      "masking pixel 30 53 20 for boundary type shiftztopleft\n",
      "masking pixel 30 53 21 for boundary type shiftztopleft\n",
      "masking pixel 37 38 20 for boundary type shiftzbottomright\n",
      "masking pixel 37 38 21 for boundary type shiftzbottomright\n",
      "masking pixel 48 60 20 for boundary type shiftztopleft\n",
      "masking pixel 48 60 21 for boundary type shiftztopleft\n",
      "masking pixel 49 43 20 for boundary type shiftzbottomright\n",
      "masking pixel 49 43 21 for boundary type shiftzbottomright\n",
      "masking pixel 55 61 20 for boundary type shiftztopleft\n",
      "masking pixel 55 61 21 for boundary type shiftztopleft\n",
      "masking pixel 56 44 20 for boundary type shiftzbottomright\n",
      "masking pixel 56 44 21 for boundary type shiftzbottomright\n",
      "masking pixel 67 62 20 for boundary type shiftztopleft\n",
      "masking pixel 67 62 21 for boundary type shiftztopleft\n",
      "masking pixel 71 45 20 for boundary type shiftzbottomright\n",
      "masking pixel 71 45 21 for boundary type shiftzbottomright\n",
      "masking pixel 75 62 18 for boundary type reartopshiftright\n",
      "masking pixel 75 62 19 for boundary type reartopshiftright\n",
      "masking pixel 75 62 20 for boundary type rearnoynox\n",
      "masking pixel 75 62 21 for boundary type rearnoynox\n",
      "masking pixel 75 62 22 for boundary type rearshifttopnox\n",
      "masking pixel 75 62 23 for boundary type shiftztopshiftright\n",
      "masking pixel 75 62 24 for boundary type shiftztopshiftx\n",
      "masking pixel 75 79 19 for boundary type rearshiftyleft\n",
      "masking pixel 75 80 19 for boundary type rearshiftyleft\n",
      "masking pixel 76 62 17 for boundary type topshiftleft\n",
      "masking pixel 76 62 18 for boundary type noznoynox\n",
      "masking pixel 76 62 19 for boundary type noznoynox\n",
      "masking pixel 76 62 22 for boundary type rearnoynox\n",
      "masking pixel 76 62 23 for boundary type rearshifttopnox\n",
      "masking pixel 76 62 24 for boundary type shiftreartopshiftleft\n",
      "masking pixel 76 62 25 for boundary type shiftztopleft\n",
      "masking pixel 76 72 19 for boundary type shiftzbottomleft\n",
      "masking pixel 76 80 25 for boundary type frontshiftyleft\n",
      "masking pixel 76 81 25 for boundary type frontshifttopleft\n",
      "masking pixel 77 46 20 for boundary type shiftzbottomright\n",
      "masking pixel 77 46 21 for boundary type shiftzbottomright\n",
      "masking pixel 77 61 14 for boundary type shiftreartopleft\n",
      "masking pixel 77 61 15 for boundary type shiftz\n",
      "masking pixel 77 61 26 for boundary type shiftz\n",
      "masking pixel 77 61 27 for boundary type shiftfronttopleft\n",
      "masking pixel 77 62 15 for boundary type shiftzshiftyleft\n",
      "masking pixel 77 62 16 for boundary type shiftzshifty\n",
      "masking pixel 77 62 25 for boundary type shiftzshiftyleft\n",
      "masking pixel 77 62 26 for boundary type shiftzshiftyleft\n",
      "masking pixel 77 63 16 for boundary type shiftzshiftyleft\n",
      "masking pixel 77 63 17 for boundary type shiftzshiftyleft\n",
      "masking pixel 77 63 24 for boundary type shiftzshiftyleft\n",
      "masking pixel 77 63 25 for boundary type shiftzshiftyleft\n",
      "masking pixel 80 47 20 for boundary type shiftzbottomright\n",
      "masking pixel 80 47 21 for boundary type shiftzbottomright\n",
      "masking pixel 84 83 14 for boundary type reartopshiftx\n",
      "masking pixel 84 83 27 for boundary type fronttopshiftx\n",
      "masking pixel 85 83 14 for boundary type reartopshiftx\n",
      "masking pixel 85 83 27 for boundary type fronttopshiftx\n",
      "masking pixel 88 53 20 for boundary type shiftzbottomright\n",
      "masking pixel 88 53 21 for boundary type shiftzbottomright\n",
      "masking pixel 91 60 20 for boundary type shiftzbottomright\n",
      "masking pixel 91 60 21 for boundary type shiftzbottomright\n",
      "masking pixel 91 74 20 for boundary type shiftztopright\n",
      "masking pixel 91 74 21 for boundary type shiftztopright\n",
      "masking pixel 76 62 16 for boundary type shiftztopshiftright\n",
      "numpts 97\n",
      "smallest,largest max eigenvalue 1.3599936599131024 11.608669961953723\n"
     ]
    },
    {
     "data": {
      "application/vnd.jupyter.widget-view+json": {
       "model_id": "0805a185e8c04058bcaeb143dbfc8281",
       "version_major": 2,
       "version_minor": 0
      },
      "text/plain": [
       "Viewer(geometries=[{'vtkClass': 'vtkPolyData', 'points': {'vtkClass': 'vtkPoints', 'name': '_points', 'numberO…"
      ]
     },
     "metadata": {},
     "output_type": "display_data"
    }
   ],
   "source": [
    "tensor_lin = np.transpose(sitk.GetArrayFromImage(sitk.ReadImage(f'{output_dir}/cubic_46_geodesic_{5}_tens.nhdr')),(3,2,1,0))\n",
    "mask = np.transpose(sitk.GetArrayFromImage(sitk.ReadImage(f'{output_dir}/cubic_46_geodesic_{5}_mask.nhdr')),(2,1,0))\n",
    "geox, geoy, geoz = geo.geodesicpath_3d(tensor_lin, mask,\\\n",
    "                                        start_coords[0], init_velocities[0], \\\n",
    "                                        geo_delta_t, iter_num=geo_iters, both_directions=False)\n",
    "vwr = view_3d_tensors(np.transpose(tensor_lin,(1,2,3,0)),\n",
    "                      mask,\n",
    "                      mask,\n",
    "                      paths=[],stride=6,scale=6)\n",
    "vwr"
   ]
  },
  {
   "cell_type": "code",
   "execution_count": 17,
   "metadata": {
    "scrolled": true
   },
   "outputs": [
    {
     "name": "stdout",
     "output_type": "stream",
     "text": [
      "Finding geodesic path from [13, 14, 21] with initial velocity [0.28438653 0.95870971 0.        ]\n",
      "masking pixel 7 18 20 for boundary type shiftztopleft\n",
      "masking pixel 7 18 21 for boundary type shiftztopleft\n",
      "masking pixel 8 15 16 for boundary type rearshiftyleft\n",
      "masking pixel 8 15 25 for boundary type frontshiftyleft\n",
      "masking pixel 8 16 16 for boundary type rearshiftyleft\n",
      "masking pixel 8 16 25 for boundary type frontshiftyleft\n",
      "masking pixel 8 21 20 for boundary type shiftztopleft\n",
      "masking pixel 8 21 21 for boundary type shiftztopleft\n",
      "masking pixel 10 14 14 for boundary type rearshiftbottomleft\n",
      "masking pixel 10 15 14 for boundary type rearshiftyleft\n",
      "masking pixel 12 13 18 for boundary type shiftzbottomleft\n",
      "masking pixel 12 13 19 for boundary type shiftzbottomleft\n",
      "masking pixel 12 13 22 for boundary type shiftzbottomleft\n",
      "masking pixel 12 13 23 for boundary type shiftzbottomleft\n",
      "masking pixel 12 13 26 for boundary type shiftzbottomleft\n",
      "masking pixel 12 13 27 for boundary type shiftfrontbottomleft\n",
      "masking pixel 19 11 19 for boundary type rearbottomshiftx\n",
      "masking pixel 19 11 20 for boundary type rearbottomshiftx\n",
      "masking pixel 19 11 21 for boundary type shiftzbottomshiftx\n",
      "masking pixel 19 11 22 for boundary type shiftzbottomshiftx\n",
      "masking pixel 20 11 19 for boundary type rearbottomshiftright\n",
      "masking pixel 20 11 20 for boundary type rearbottomshiftright\n",
      "masking pixel 20 11 21 for boundary type shiftzbottomshiftright\n",
      "masking pixel 20 11 22 for boundary type shiftzbottomshiftright\n",
      "masking pixel 21 13 20 for boundary type shiftzbottomright\n",
      "masking pixel 21 13 21 for boundary type shiftzbottomright\n",
      "masking pixel 22 16 20 for boundary type shiftzbottomright\n",
      "masking pixel 22 16 21 for boundary type shiftzbottomright\n",
      "masking pixel 24 21 20 for boundary type shiftzbottomright\n",
      "masking pixel 24 21 21 for boundary type shiftzbottomright\n",
      "masking pixel 26 25 20 for boundary type shiftzbottomright\n",
      "masking pixel 26 25 21 for boundary type shiftzbottomright\n",
      "masking pixel 29 30 20 for boundary type shiftzbottomright\n",
      "masking pixel 29 30 21 for boundary type shiftzbottomright\n",
      "masking pixel 33 53 20 for boundary type shiftztopleft\n",
      "masking pixel 33 53 21 for boundary type shiftztopleft\n",
      "masking pixel 35 54 20 for boundary type shiftztopleft\n",
      "masking pixel 35 54 21 for boundary type shiftztopleft\n",
      "masking pixel 37 38 20 for boundary type shiftzbottomright\n",
      "masking pixel 37 38 21 for boundary type shiftzbottomright\n",
      "masking pixel 49 43 20 for boundary type shiftzbottomright\n",
      "masking pixel 49 43 21 for boundary type shiftzbottomright\n",
      "masking pixel 56 44 20 for boundary type shiftzbottomright\n",
      "masking pixel 56 44 21 for boundary type shiftzbottomright\n",
      "masking pixel 57 59 20 for boundary type shiftztopleft\n",
      "masking pixel 57 59 21 for boundary type shiftztopleft\n",
      "masking pixel 71 45 20 for boundary type shiftzbottomright\n",
      "masking pixel 71 45 21 for boundary type shiftzbottomright\n",
      "masking pixel 71 60 20 for boundary type shiftztopleft\n",
      "masking pixel 71 60 21 for boundary type shiftztopleft\n",
      "masking pixel 75 78 20 for boundary type shiftzbottomleft\n",
      "masking pixel 75 78 21 for boundary type shiftzbottomleft\n",
      "masking pixel 75 79 19 for boundary type rearshiftyleft\n",
      "masking pixel 75 79 20 for boundary type rearshiftyleft\n",
      "masking pixel 75 79 21 for boundary type shiftzshiftyleft\n",
      "masking pixel 75 79 22 for boundary type shiftzshiftyleft\n",
      "masking pixel 75 80 19 for boundary type rearshifttopleft\n",
      "masking pixel 75 80 20 for boundary type rearshifttopleft\n",
      "masking pixel 75 80 21 for boundary type shiftzshifttopleft\n",
      "masking pixel 75 80 22 for boundary type shiftzshifttopleft\n",
      "masking pixel 77 46 20 for boundary type shiftzbottomright\n",
      "masking pixel 77 46 21 for boundary type shiftzbottomright\n",
      "masking pixel 77 80 15 for boundary type rearshiftyleft\n",
      "masking pixel 77 81 15 for boundary type rearshifttopleft\n",
      "masking pixel 80 47 20 for boundary type shiftzbottomright\n",
      "masking pixel 80 47 21 for boundary type shiftzbottomright\n",
      "masking pixel 80 82 26 for boundary type shiftztopleft\n",
      "masking pixel 80 82 27 for boundary type shiftfronttopleft\n",
      "masking pixel 84 83 14 for boundary type reartopshiftx\n",
      "masking pixel 84 83 27 for boundary type fronttopshiftx\n",
      "masking pixel 85 83 14 for boundary type reartopshiftx\n",
      "masking pixel 85 83 27 for boundary type fronttopshiftx\n",
      "masking pixel 88 53 20 for boundary type shiftzbottomright\n",
      "masking pixel 88 53 21 for boundary type shiftzbottomright\n",
      "masking pixel 91 60 20 for boundary type shiftzbottomright\n",
      "masking pixel 91 60 21 for boundary type shiftzbottomright\n",
      "masking pixel 91 74 20 for boundary type shiftztopright\n",
      "masking pixel 91 74 21 for boundary type shiftztopright\n",
      "numpts 87\n",
      "smallest,largest max eigenvalue 4.1386973761187535 13.44902308159283\n"
     ]
    },
    {
     "data": {
      "application/vnd.jupyter.widget-view+json": {
       "model_id": "93c28bfdb8794dde9934962e3bc04de7",
       "version_major": 2,
       "version_minor": 0
      },
      "text/plain": [
       "Viewer(geometries=[{'vtkClass': 'vtkPolyData', 'points': {'vtkClass': 'vtkPoints', 'name': '_points', 'numberO…"
      ]
     },
     "metadata": {},
     "output_type": "display_data"
    }
   ],
   "source": [
    "tensor_lin = np.transpose(sitk.GetArrayFromImage(sitk.ReadImage(f'{output_dir}/cubic_46_geodesic_{6}_tens.nhdr')),(3,2,1,0))\n",
    "mask = np.transpose(sitk.GetArrayFromImage(sitk.ReadImage(f'{output_dir}/cubic_46_geodesic_{6}_mask.nhdr')),(2,1,0))\n",
    "geox, geoy, geoz = geo.geodesicpath_3d(tensor_lin, mask,\\\n",
    "                                        start_coords[0], init_velocities[0], \\\n",
    "                                        geo_delta_t, iter_num=geo_iters, both_directions=False)\n",
    "vwr = view_3d_tensors(np.transpose(tensor_lin,(1,2,3,0)),\n",
    "                      mask,\n",
    "                      mask,\n",
    "                      paths=[],stride=6,scale=6)\n",
    "vwr"
   ]
  },
  {
   "cell_type": "code",
   "execution_count": 5,
   "metadata": {},
   "outputs": [
    {
     "data": {
      "image/png": "[encoded data removed]",
      "text/plain": [
       "<Figure size 432x288 with 1 Axes>"
      ]
     },
     "metadata": {
      "needs_background": "light"
     },
     "output_type": "display_data"
    }
   ],
   "source": [
    "mask00 = torch.from_numpy(sitk.GetArrayFromImage(sitk.ReadImage(f'Data/Cubic/cubic{index0}_filt_mask.nhdr'))).double().permute(1,0)\n",
    "mask11 = torch.from_numpy(sitk.GetArrayFromImage(sitk.ReadImage(f'Data/Cubic/cubic{index1}_filt_mask.nhdr'))).double().permute(1,0)\n",
    "mask = mask00+mask11\n",
    "mask_bin = np.zeros_like(mask)\n",
    "mask_bin[mask>0] = 1\n",
    "plt.imshow(mask_bin)\n",
    "plt.show()\n",
    "# print(mask_bin.shape)\n",
    "sitk.WriteImage(sitk.GetImageFromArray(mask_bin.transpose()), f'Output/cubic_46_geodesic_{7}/cubic_46_filt_mask.nhdr')"
   ]
  },
  {
   "cell_type": "code",
   "execution_count": null,
   "metadata": {},
   "outputs": [],
   "source": []
  }
 ],
 "metadata": {
  "kernelspec": {
   "display_name": "Python 3",
   "language": "python",
   "name": "python3"
  },
  "language_info": {
   "codemirror_mode": {
    "name": "ipython",
    "version": 3
   },
   "file_extension": ".py",
   "mimetype": "text/x-python",
   "name": "python",
   "nbconvert_exporter": "python",
   "pygments_lexer": "ipython3",
   "version": "3.7.9"
  },
  "varInspector": {
   "cols": {
    "lenName": 16,
    "lenType": 16,
    "lenVar": 40
   },
   "kernels_config": {
    "python": {
     "delete_cmd_postfix": "",
     "delete_cmd_prefix": "del ",
     "library": "var_list.py",
     "varRefreshCmd": "print(var_dic_list())"
    },
    "r": {
     "delete_cmd_postfix": ") ",
     "delete_cmd_prefix": "rm(",
     "library": "var_list.r",
     "varRefreshCmd": "cat(var_dic_list()) "
    }
   },
   "types_to_exclude": [
    "module",
    "function",
    "builtin_function_or_method",
    "instance",
    "_Feature"
   ],
   "window_display": false
  }
 },
 "nbformat": 4,
 "nbformat_minor": 2
}
