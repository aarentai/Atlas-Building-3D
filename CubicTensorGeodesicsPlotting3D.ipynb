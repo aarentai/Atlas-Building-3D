{
 "cells": [
  {
   "cell_type": "code",
   "execution_count": 1,
   "metadata": {},
   "outputs": [],
   "source": [
    "import torch\n",
    "from tqdm import tqdm\n",
    "import numpy as np\n",
    "import scipy.io as sio\n",
    "import matplotlib.pyplot as plt\n",
    "import SimpleITK as sitk\n",
    "from lazy_imports import itkwidgets\n",
    "from lazy_imports import itkview\n",
    "from lazy_imports import interactive\n",
    "from lazy_imports import ipywidgets\n",
    "from lazy_imports import pv"
   ]
  },
  {
   "cell_type": "code",
   "execution_count": 2,
   "metadata": {},
   "outputs": [],
   "source": [
    "from mtch.RegistrationFunc3D import *\n",
    "from mtch.SplitEbinMetric3D import *\n",
    "from mtch.GeoPlot import *"
   ]
  },
  {
   "cell_type": "code",
   "execution_count": 3,
   "metadata": {},
   "outputs": [],
   "source": [
    "# from Packages.disp.vis import show_2d, show_2d_tensors\n",
    "from disp.vis import vis_tensors, vis_path, disp_scalar_to_file\n",
    "from disp.vis import disp_vector_to_file, disp_tensor_to_file\n",
    "from disp.vis import disp_gradG_to_file, disp_gradA_to_file\n",
    "from disp.vis import view_3d_tensors, tensors_to_mesh"
   ]
  },
  {
   "cell_type": "code",
   "execution_count": 4,
   "metadata": {},
   "outputs": [],
   "source": [
    "import algo.metricModSolver2d as mms\n",
    "import algo.geodesic as geo\n",
    "import algo.euler as euler\n",
    "import algo.dijkstra as dijkstra"
   ]
  },
  {
   "cell_type": "markdown",
   "metadata": {},
   "source": [
    "## I/O convention\n",
    "Due to the certain reason of Kris' simulated data generation, please follow the i/o convention below which is symmetric, to make sure the files are read and written correctly. Following example is for 2D situation, 3D case is analogous.\n",
    "### Read\n",
    "Shape of input_tensor.nhdr is [w, h, 3], and Shape of input_mask.nhdr is [w, h]\n",
    "```\n",
    "input_tensor = np.transpose(sitk.GetArrayFromImage(sitk.ReadImage(path)),(2,1,0))\n",
    "input_mask = np.transpose(sitk.GetArrayFromImage(sitk.ReadImage(path)),(1,0))\n",
    "```\n",
    "input_tensor.shape is [3, h, w], and input_mask.shape is [h, w]\n",
    "### Write\n",
    "output_tensor.shape is [3, h, w], and output_mask.shape is [h, w]\n",
    "```\n",
    "output_tensor = sitk.WriteImage(sitk.GetImageFromArray(np.transpose(output_tensor,(2,1,0)), path)\n",
    "output_mask = sitk.WriteImage(sitk.GetImageFromArray(np.transpose(output_tensor,(2,1,0)), path)\n",
    "```\n",
    "Shape of output_tensor.nhdr is [w, h, 3], and Shape of output_mask.nhdr is [w, h]\n",
    "\n",
    "### Note\n",
    "`sitk.WriteImage(sitk.GetImageFromArray())` and `sitk.GetArrayFromImage(sitk.ReadImage(path))` is a pair of inverse operation, and you can see there is no inconsistence with regards to the dimension issue.\n",
    "```\n",
    "output_tensor = np.zeros((12,34,56,78))\n",
    "sitk.WriteImage(sitk.GetImageFromArray(output_tensor), path)\n",
    "input_tensor = sitk.GetArrayFromImage(sitk.ReadImage(path))\n",
    "print(input_tensor)\n",
    "'(12,34,56,78)'\n",
    "```"
   ]
  },
  {
   "cell_type": "markdown",
   "metadata": {},
   "source": [
    "## Import data"
   ]
  },
  {
   "cell_type": "code",
   "execution_count": 9,
   "metadata": {},
   "outputs": [],
   "source": [
    "index0, index1 = 4, 6\n",
    "input_dir = '/usr/sci/projects/HCP/Kris/NSFCRCNS/TestResults/working_3d_python'\n",
    "output_dir = 'output/Cubic12Geo'\n",
    "g0_lin = torch.from_numpy(sitk.GetArrayFromImage(sitk.ReadImage(f'{input_dir}/cubic{index0}_scaled_tensors.nhdr'))).double().permute(3,2,1,0)\n",
    "g1_lin = torch.from_numpy(sitk.GetArrayFromImage(sitk.ReadImage(f'{input_dir}/cubic{index1}_scaled_tensors.nhdr'))).double().permute(3,2,1,0)\n",
    "\n",
    "height, width, depth = 100,100,41\n",
    "g0_met, g1_met = torch.zeros(height, width, depth, 3, 3, dtype=torch.double), torch.zeros(height, width, depth, 3, 3, dtype=torch.double)\n",
    "g0_met[:,:,:,0,0] = g0_lin[0]\n",
    "g0_met[:,:,:,0,1] = g0_lin[1]\n",
    "g0_met[:,:,:,0,2] = g0_lin[2]\n",
    "g0_met[:,:,:,1,0] = g0_lin[1]\n",
    "g0_met[:,:,:,1,1] = g0_lin[3]\n",
    "g0_met[:,:,:,1,2] = g0_lin[4]\n",
    "g0_met[:,:,:,2,0] = g0_lin[2]\n",
    "g0_met[:,:,:,2,1] = g0_lin[4]\n",
    "g0_met[:,:,:,2,2] = g0_lin[5]\n",
    "\n",
    "g1_met[:,:,:,0,0] = g1_lin[0]\n",
    "g1_met[:,:,:,0,1] = g1_lin[1]\n",
    "g1_met[:,:,:,0,2] = g1_lin[2]\n",
    "g1_met[:,:,:,1,0] = g1_lin[1]\n",
    "g1_met[:,:,:,1,1] = g1_lin[3]\n",
    "g1_met[:,:,:,1,2] = g1_lin[4]\n",
    "g1_met[:,:,:,2,0] = g1_lin[2]\n",
    "g1_met[:,:,:,2,1] = g1_lin[4]\n",
    "g1_met[:,:,:,2,2] = g1_lin[5]"
   ]
  },
  {
   "cell_type": "markdown",
   "metadata": {},
   "source": [
    "## Calculate Geodesic"
   ]
  },
  {
   "cell_type": "code",
   "execution_count": 6,
   "metadata": {},
   "outputs": [
    {
     "name": "stderr",
     "output_type": "stream",
     "text": [
      "This overload of nonzero is deprecated:\n",
      "\tnonzero()\n",
      "Consider using one of the following signatures instead:\n",
      "\tnonzero(*, bool as_tuple) (Triggered internally at  /opt/conda/conda-bld/pytorch_1607370141920/work/torch/csrc/utils/python_arg_parser.cpp:882.)\n"
     ]
    }
   ],
   "source": [
    "Tpts = 7\n",
    "geo_met_list = get_geo(g0_met, g1_met, 1./3., Tpts)"
   ]
  },
  {
   "cell_type": "markdown",
   "metadata": {},
   "source": [
    "## Save Result"
   ]
  },
  {
   "cell_type": "code",
   "execution_count": null,
   "metadata": {
    "scrolled": false
   },
   "outputs": [],
   "source": [
    "geo_lin_list = []\n",
    "geo_mask_list = []\n",
    "\n",
    "for i in range(Tpts):\n",
    "    geo_lin = torch.zeros((6,height,width,depth))\n",
    "    geo_lin[0]=geo_met_list[i][:,:,:,0,0]\n",
    "    geo_lin[1]=geo_met_list[i][:,:,:,0,1]\n",
    "    geo_lin[2]=geo_met_list[i][:,:,:,0,2]\n",
    "    geo_lin[3]=geo_met_list[i][:,:,:,1,1]\n",
    "    geo_lin[4]=geo_met_list[i][:,:,:,1,2]\n",
    "    geo_lin[5]=geo_met_list[i][:,:,:,2,2]\n",
    "    geo_mask = torch.where(torch.det(geo_met_list[i])>1,1,0)\n",
    "    geo_lin_list.append(geo_lin)\n",
    "    geo_mask_list.append(geo_mask)\n",
    "#     sitk.WriteImage(sitk.GetImageFromArray(geo_lin.permute(3,2,1,0).numpy()), f'{output_dir}/cubic_46_geodesic_{i}_tens.nhdr')\n",
    "#     sitk.WriteImage(sitk.GetImageFromArray(geo_mask.permute(2,1,0).numpy()), f'{output_dir}/cubic_46_geodesic_{i}_mask.nhdr')"
   ]
  },
  {
   "cell_type": "code",
   "execution_count": 16,
   "metadata": {},
   "outputs": [],
   "source": [
    "# vwr = itkview(torch.where(torch.det(geo_met_list[i])>1,1,0))\n",
    "# vwr\n",
    "start_coords = [[13, 14, 21]]\n",
    "init_velocities = [None]\n",
    "geo_delta_t = 0.08\n",
    "geo_iters = 1300 "
   ]
  },
  {
   "cell_type": "code",
   "execution_count": 18,
   "metadata": {
    "scrolled": true
   },
   "outputs": [
    {
     "name": "stdout",
     "output_type": "stream",
     "text": [
      "Finding geodesic path from [13, 14, 21] with initial velocity [0.32780118 0.94474673 0.        ]\n",
      "Found 0 voxels where unable to take 1st derivative.\n",
      "Found 0 reduced accuracy 2nd derivative voxels.\n",
      "numpts 97\n",
      "smallest,largest max eigenvalue 3.5280353735091987 12.981618818751645\n"
     ]
    },
    {
     "data": {
      "application/vnd.jupyter.widget-view+json": {
       "model_id": "1869d991b11d4b8785367b566c21afb3",
       "version_major": 2,
       "version_minor": 0
      },
      "text/plain": [
       "Viewer(geometries=[{'vtkClass': 'vtkPolyData', 'points': {'vtkClass': 'vtkPoints', 'name': '_points', 'numberO…"
      ]
     },
     "metadata": {},
     "output_type": "display_data"
    }
   ],
   "source": [
    "tensor_lin = np.transpose(sitk.GetArrayFromImage(sitk.ReadImage(f'{output_dir}/cubic12_{0}_tens.nhdr')),(3,2,1,0))\n",
    "mask = np.transpose(sitk.GetArrayFromImage(sitk.ReadImage(f'{output_dir}/cubic12_{0}_mask.nhdr')),(2,1,0))\n",
    "geox, geoy, geoz = geo.geodesicpath_3d(tensor_lin, mask,\\\n",
    "                                        start_coords[0], init_velocities[0], \\\n",
    "                                        geo_delta_t, iter_num=geo_iters, both_directions=False)\n",
    "vwr = view_3d_tensors(np.transpose(tensor_lin,(1,2,3,0)),\n",
    "                      mask,\n",
    "                      mask,\n",
    "                      paths=[(geox[:-2], geoy[:-2], geoz[:-2])],stride=6,scale=6)\n",
    "vwr"
   ]
  },
  {
   "cell_type": "code",
   "execution_count": 19,
   "metadata": {
    "scrolled": true
   },
   "outputs": [
    {
     "name": "stdout",
     "output_type": "stream",
     "text": [
      "Finding geodesic path from [13, 14, 21] with initial velocity [0.31583873 0.94881289 0.        ]\n",
      "Found 0 voxels where unable to take 1st derivative.\n",
      "Found 0 reduced accuracy 2nd derivative voxels.\n",
      "numpts 135\n",
      "smallest,largest max eigenvalue 1.2490172296091875 10.3267820041831\n"
     ]
    },
    {
     "data": {
      "application/vnd.jupyter.widget-view+json": {
       "model_id": "43e623665d9e498f99e22113ab634a19",
       "version_major": 2,
       "version_minor": 0
      },
      "text/plain": [
       "Viewer(geometries=[{'vtkClass': 'vtkPolyData', 'points': {'vtkClass': 'vtkPoints', 'name': '_points', 'numberO…"
      ]
     },
     "metadata": {},
     "output_type": "display_data"
    }
   ],
   "source": [
    "tensor_lin = np.transpose(sitk.GetArrayFromImage(sitk.ReadImage(f'{output_dir}/cubic12_{1}_tens.nhdr')),(3,2,1,0))\n",
    "mask = np.transpose(sitk.GetArrayFromImage(sitk.ReadImage(f'{output_dir}/cubic12_{1}_mask.nhdr')),(2,1,0))\n",
    "geox, geoy, geoz = geo.geodesicpath_3d(tensor_lin, mask,\\\n",
    "                                        start_coords[0], init_velocities[0], \\\n",
    "                                        geo_delta_t, iter_num=geo_iters, both_directions=False)\n",
    "vwr = view_3d_tensors(np.transpose(tensor_lin,(1,2,3,0)),\n",
    "                      mask,\n",
    "                      mask,\n",
    "                      paths=[(geox[:-2], geoy[:-2], geoz[:-2])],stride=6,scale=6)\n",
    "vwr"
   ]
  },
  {
   "cell_type": "code",
   "execution_count": 20,
   "metadata": {
    "scrolled": true
   },
   "outputs": [
    {
     "name": "stdout",
     "output_type": "stream",
     "text": [
      "Finding geodesic path from [13, 14, 21] with initial velocity [0.30258274 0.95312312 0.        ]\n",
      "Found 0 voxels where unable to take 1st derivative.\n",
      "Found 0 reduced accuracy 2nd derivative voxels.\n",
      "numpts 135\n",
      "smallest,largest max eigenvalue 1.5801098277369667 9.559687055469483\n"
     ]
    },
    {
     "data": {
      "application/vnd.jupyter.widget-view+json": {
       "model_id": "8c6cd56280ff4118936ac0ff54834013",
       "version_major": 2,
       "version_minor": 0
      },
      "text/plain": [
       "Viewer(geometries=[{'vtkClass': 'vtkPolyData', 'points': {'vtkClass': 'vtkPoints', 'name': '_points', 'numberO…"
      ]
     },
     "metadata": {},
     "output_type": "display_data"
    }
   ],
   "source": [
    "tensor_lin = np.transpose(sitk.GetArrayFromImage(sitk.ReadImage(f'{output_dir}/cubic12_{2}_tens.nhdr')),(3,2,1,0))\n",
    "mask = np.transpose(sitk.GetArrayFromImage(sitk.ReadImage(f'{output_dir}/cubic12_{2}_mask.nhdr')),(2,1,0))\n",
    "geox, geoy, geoz = geo.geodesicpath_3d(tensor_lin, mask,\\\n",
    "                                        start_coords[0], init_velocities[0], \\\n",
    "                                        geo_delta_t, iter_num=geo_iters, both_directions=False)\n",
    "vwr = view_3d_tensors(np.transpose(tensor_lin,(1,2,3,0)),\n",
    "                      mask,\n",
    "                      mask,\n",
    "                      paths=[(geox[:-2], geoy[:-2], geoz[:-2])],stride=6,scale=6)\n",
    "vwr"
   ]
  },
  {
   "cell_type": "code",
   "execution_count": 21,
   "metadata": {
    "scrolled": true
   },
   "outputs": [
    {
     "name": "stdout",
     "output_type": "stream",
     "text": [
      "Finding geodesic path from [13, 14, 21] with initial velocity [0.28787325 0.95766852 0.        ]\n",
      "Found 0 voxels where unable to take 1st derivative.\n",
      "Found 0 reduced accuracy 2nd derivative voxels.\n",
      "numpts 135\n",
      "smallest,largest max eigenvalue 1.8475599159179434 8.83122635409812\n"
     ]
    },
    {
     "data": {
      "application/vnd.jupyter.widget-view+json": {
       "model_id": "83ef39a0cd5a46d69d6224ce47cbd79e",
       "version_major": 2,
       "version_minor": 0
      },
      "text/plain": [
       "Viewer(geometries=[{'vtkClass': 'vtkPolyData', 'points': {'vtkClass': 'vtkPoints', 'name': '_points', 'numberO…"
      ]
     },
     "metadata": {},
     "output_type": "display_data"
    }
   ],
   "source": [
    "tensor_lin = np.transpose(sitk.GetArrayFromImage(sitk.ReadImage(f'{output_dir}/cubic12_{3}_tens.nhdr')),(3,2,1,0))\n",
    "mask = np.transpose(sitk.GetArrayFromImage(sitk.ReadImage(f'{output_dir}/cubic12_{3}_mask.nhdr')),(2,1,0))\n",
    "geox, geoy, geoz = geo.geodesicpath_3d(tensor_lin, mask,\\\n",
    "                                        start_coords[0], init_velocities[0], \\\n",
    "                                        geo_delta_t, iter_num=geo_iters, both_directions=False)\n",
    "vwr = view_3d_tensors(np.transpose(tensor_lin,(1,2,3,0)),\n",
    "                      mask,\n",
    "                      mask,\n",
    "                      paths=[(geox[:-2], geoy[:-2], geoz[:-2])],stride=6,scale=6)\n",
    "vwr"
   ]
  },
  {
   "cell_type": "code",
   "execution_count": null,
   "metadata": {
    "scrolled": true
   },
   "outputs": [],
   "source": [
    "tensor_lin = np.transpose(sitk.GetArrayFromImage(sitk.ReadImage(f'{output_dir}/cubic12_{4}_tens.nhdr')),(3,2,1,0))\n",
    "mask = np.transpose(sitk.GetArrayFromImage(sitk.ReadImage(f'{output_dir}/cubic12_{4}_mask.nhdr')),(2,1,0))\n",
    "geox, geoy, geoz = geo.geodesicpath_3d(tensor_lin, mask,\\\n",
    "                                        start_coords[0], init_velocities[0], \\\n",
    "                                        geo_delta_t, iter_num=geo_iters, both_directions=False)\n",
    "vwr = view_3d_tensors(np.transpose(tensor_lin,(1,2,3,0)),\n",
    "                      mask,\n",
    "                      mask,\n",
    "                      paths=[(geox[:-2], geoy[:-2], geoz[:-2])],stride=6,scale=6)\n",
    "vwr"
   ]
  },
  {
   "cell_type": "code",
   "execution_count": null,
   "metadata": {
    "scrolled": true
   },
   "outputs": [],
   "source": [
    "tensor_lin = np.transpose(sitk.GetArrayFromImage(sitk.ReadImage(f'{output_dir}/cubic12_{5}_tens.nhdr')),(3,2,1,0))\n",
    "mask = np.transpose(sitk.GetArrayFromImage(sitk.ReadImage(f'{output_dir}/cubic12_{5}_mask.nhdr')),(2,1,0))\n",
    "geox, geoy, geoz = geo.geodesicpath_3d(tensor_lin, mask,\\\n",
    "                                        start_coords[0], init_velocities[0], \\\n",
    "                                        geo_delta_t, iter_num=geo_iters, both_directions=False)\n",
    "vwr = view_3d_tensors(np.transpose(tensor_lin,(1,2,3,0)),\n",
    "                      mask,\n",
    "                      mask,\n",
    "                      paths=[(geox[:-2], geoy[:-2], geoz[:-2])],stride=6,scale=6)\n",
    "vwr"
   ]
  },
  {
   "cell_type": "code",
   "execution_count": null,
   "metadata": {
    "scrolled": true
   },
   "outputs": [],
   "source": [
    "tensor_lin = np.transpose(sitk.GetArrayFromImage(sitk.ReadImage(f'{output_dir}/cubic12_{6}_tens.nhdr')),(3,2,1,0))\n",
    "mask = np.transpose(sitk.GetArrayFromImage(sitk.ReadImage(f'{output_dir}/cubic12_{6}_mask.nhdr')),(2,1,0))\n",
    "geox, geoy, geoz = geo.geodesicpath_3d(tensor_lin, mask,\\\n",
    "                                        start_coords[0], init_velocities[0], \\\n",
    "                                        geo_delta_t, iter_num=geo_iters, both_directions=False)\n",
    "vwr = view_3d_tensors(np.transpose(tensor_lin,(1,2,3,0)),\n",
    "                      mask,\n",
    "                      mask,\n",
    "                      paths=[(geox[:-2], geoy[:-2], geoz[:-2])],stride=6,scale=6)\n",
    "vwr"
   ]
  },
  {
   "cell_type": "code",
   "execution_count": null,
   "metadata": {},
   "outputs": [],
   "source": [
    "mask00 = torch.from_numpy(sitk.GetArrayFromImage(sitk.ReadImage(f'Data/Cubic/cubic{index0}_filt_mask.nhdr'))).double().permute(1,0)\n",
    "mask11 = torch.from_numpy(sitk.GetArrayFromImage(sitk.ReadImage(f'Data/Cubic/cubic{index1}_filt_mask.nhdr'))).double().permute(1,0)\n",
    "mask = mask00+mask11\n",
    "mask_bin = np.zeros_like(mask)\n",
    "mask_bin[mask>0] = 1\n",
    "plt.imshow(mask_bin)\n",
    "plt.show()\n",
    "# print(mask_bin.shape)\n",
    "sitk.WriteImage(sitk.GetImageFromArray(mask_bin.transpose()), f'Output/cubic_46_geodesic_{7}/cubic_46_filt_mask.nhdr')"
   ]
  },
  {
   "cell_type": "code",
   "execution_count": null,
   "metadata": {},
   "outputs": [],
   "source": []
  }
 ],
 "metadata": {
  "kernelspec": {
   "display_name": "Python 3",
   "language": "python",
   "name": "python3"
  },
  "language_info": {
   "codemirror_mode": {
    "name": "ipython",
    "version": 3
   },
   "file_extension": ".py",
   "mimetype": "text/x-python",
   "name": "python",
   "nbconvert_exporter": "python",
   "pygments_lexer": "ipython3",
   "version": "3.7.9"
  },
  "varInspector": {
   "cols": {
    "lenName": 16,
    "lenType": 16,
    "lenVar": 40
   },
   "kernels_config": {
    "python": {
     "delete_cmd_postfix": "",
     "delete_cmd_prefix": "del ",
     "library": "var_list.py",
     "varRefreshCmd": "print(var_dic_list())"
    },
    "r": {
     "delete_cmd_postfix": ") ",
     "delete_cmd_prefix": "rm(",
     "library": "var_list.r",
     "varRefreshCmd": "cat(var_dic_list()) "
    }
   },
   "types_to_exclude": [
    "module",
    "function",
    "builtin_function_or_method",
    "instance",
    "_Feature"
   ],
   "window_display": false
  }
 },
 "nbformat": 4,
 "nbformat_minor": 2
}
