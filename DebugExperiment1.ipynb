{
 "cells": [
  {
   "cell_type": "code",
   "execution_count": 1,
   "metadata": {},
   "outputs": [],
   "source": [
    "import torch\n",
    "from tqdm import tqdm\n",
    "import numpy as np\n",
    "import scipy.io as sio\n",
    "import matplotlib.pyplot as plt\n",
    "import SimpleITK as sitk\n",
    "from lazy_imports import itkwidgets\n",
    "from lazy_imports import itkview\n",
    "from lazy_imports import interactive\n",
    "from lazy_imports import ipywidgets\n",
    "from lazy_imports import pv"
   ]
  },
  {
   "cell_type": "code",
   "execution_count": 2,
   "metadata": {},
   "outputs": [],
   "source": [
    "from mtch.RegistrationFunc3D import *\n",
    "from mtch.SplitEbinMetric3D import *\n",
    "from mtch.GeoPlot import *"
   ]
  },
  {
   "cell_type": "code",
   "execution_count": 3,
   "metadata": {},
   "outputs": [],
   "source": [
    "# from Packages.disp.vis import show_2d, show_2d_tensors\n",
    "from disp.vis import vis_tensors, vis_path, disp_scalar_to_file\n",
    "from disp.vis import disp_vector_to_file, disp_tensor_to_file\n",
    "from disp.vis import disp_gradG_to_file, disp_gradA_to_file\n",
    "from disp.vis import view_3d_tensors, tensors_to_mesh"
   ]
  },
  {
   "cell_type": "code",
   "execution_count": 4,
   "metadata": {},
   "outputs": [],
   "source": [
    "import algo.metricModSolver2d as mms\n",
    "import algo.geodesic as geo\n",
    "import algo.euler as euler\n",
    "import algo.dijkstra as dijkstra"
   ]
  },
  {
   "cell_type": "code",
   "execution_count": 5,
   "metadata": {},
   "outputs": [],
   "source": [
    "from torch import linalg as la"
   ]
  },
  {
   "cell_type": "code",
   "execution_count": 16,
   "metadata": {},
   "outputs": [],
   "source": [
    "mode = 'gpu'\n",
    "if mode=='gpu':\n",
    "    device = torch.device('cuda' if torch.cuda.is_available() else 'cpu')\n",
    "    # after switch device, you need restart the script\n",
    "    torch.cuda.set_device(0)\n",
    "    torch.set_default_tensor_type('torch.cuda.DoubleTensor')\n",
    "else:\n",
    "    device = torch.device('cpu')\n",
    "    torch.set_default_dtype(torch.float64)"
   ]
  },
  {
   "cell_type": "code",
   "execution_count": 7,
   "metadata": {},
   "outputs": [],
   "source": [
    "def compute_eigenvalues(input: torch.Tensor):\n",
    "    h, w, d, _, _ = input.size()\n",
    "    a11 = input[:, :, :, 0, 0].double()\n",
    "    a12 = input[:, :, :, 0, 1].double()\n",
    "    a13 = input[:, :, :, 0, 2].double()\n",
    "    a22 = input[:, :, :, 1, 1].double()\n",
    "    a23 = input[:, :, :, 1, 2].double()\n",
    "    a33 = input[:, :, :, 2, 2].double()\n",
    "    eig_vals = torch.zeros(h, w, d, 3).to(input.device).double()\n",
    "\n",
    "    nd = torch.pow(a12, 2) + torch.pow(a13, 2) + torch.pow(a23, 2)\n",
    "\n",
    "    if torch.any(nd != 0):\n",
    "        q = (a11 + a22 + a33) / 3.0\n",
    "        p = torch.pow((a11 - q), 2) + torch.pow((a22 - q), 2) + torch.pow((a33 - q), 2) + 2.0 * nd\n",
    "        p = torch.sqrt(p / 6.0)\n",
    "\n",
    "        r = torch.pow((1.0 / p), 3) * ((a11 - q) * ((a22 - q) * (a33 - q) - a23 * a23) - a12 * (\n",
    "                a12 * (a33 - q) - a13 * a23) + a13 * (a12 * a23 - a13 * (a22 - q))) / 2.0\n",
    "\n",
    "        phi = torch.acos(r) / 3.0\n",
    "        phi[r <= -1] = pi / 3\n",
    "        phi[r >= 1] = 0\n",
    "\n",
    "        eig_vals[:, :, :, 0] = q + 2 * p * torch.cos(phi)\n",
    "        eig_vals[:, :, :, 2] = q + 2 * p * torch.cos(phi + pi * (2.0 / 3.0))\n",
    "        eig_vals[:, :, :, 1] = 3 * q - eig_vals[:, :, :, 0] - eig_vals[:, :, :, 2]\n",
    "\n",
    "    if torch.any(nd == 0):\n",
    "        diag_matrix_index = torch.where(nd == 0)\n",
    "        eig_vals[:, :, :, 0][diag_matrix_index] = a11[diag_matrix_index]\n",
    "        eig_vals[:, :, :, 1][diag_matrix_index] = a22[diag_matrix_index]\n",
    "        eig_vals[:, :, :, 2][diag_matrix_index] = a33[diag_matrix_index]\n",
    "    print(eig_vals.type())\n",
    "    return eig_vals"
   ]
  },
  {
   "cell_type": "code",
   "execution_count": 8,
   "metadata": {},
   "outputs": [],
   "source": [
    "length = 200\n",
    "tensor_rand = torch.rand(6,length,length,length)"
   ]
  },
  {
   "cell_type": "code",
   "execution_count": 9,
   "metadata": {},
   "outputs": [],
   "source": [
    "tensor_symmetric = torch.zeros((3,3,length,length,length))\n",
    "tensor_symmetric[0,0] = tensor_rand[0]\n",
    "tensor_symmetric[0,1] = tensor_rand[1]\n",
    "tensor_symmetric[0,2] = tensor_rand[2]\n",
    "tensor_symmetric[1,0] = tensor_rand[1]\n",
    "tensor_symmetric[1,1] = tensor_rand[3]\n",
    "tensor_symmetric[1,2] = tensor_rand[4]\n",
    "tensor_symmetric[2,0] = tensor_rand[2]\n",
    "tensor_symmetric[2,1] = tensor_rand[4]\n",
    "tensor_symmetric[2,2] = tensor_rand[5]\n",
    "tensor_psd = torch.matrix_exp(tensor_symmetric.permute(2,3,4,0,1))"
   ]
  },
  {
   "cell_type": "code",
   "execution_count": 10,
   "metadata": {},
   "outputs": [],
   "source": [
    "import time"
   ]
  },
  {
   "cell_type": "code",
   "execution_count": 17,
   "metadata": {},
   "outputs": [
    {
     "name": "stdout",
     "output_type": "stream",
     "text": [
      "torch.cuda.DoubleTensor\n",
      "CPU times: user 3.41 s, sys: 789 ms, total: 4.2 s\n",
      "Wall time: 4.45 s\n"
     ]
    },
    {
     "data": {
      "text/plain": [
       "'torch.cuda.DoubleTensor'"
      ]
     },
     "execution_count": 17,
     "metadata": {},
     "output_type": "execute_result"
    }
   ],
   "source": [
    "%%time\n",
    "a = compute_eigenvalues(tensor_psd.to(device))\n",
    "torch.sum(a, (-1)).type()"
   ]
  },
  {
   "cell_type": "code",
   "execution_count": 18,
   "metadata": {},
   "outputs": [
    {
     "name": "stdout",
     "output_type": "stream",
     "text": [
      "CPU times: user 17.5 s, sys: 436 ms, total: 18 s\n",
      "Wall time: 14.9 s\n"
     ]
    },
    {
     "data": {
      "text/plain": [
       "'torch.cuda.DoubleTensor'"
      ]
     },
     "execution_count": 18,
     "metadata": {},
     "output_type": "execute_result"
    }
   ],
   "source": [
    "%%time\n",
    "b = torch.linalg.eigvals(tensor_psd.to(device)).real\n",
    "torch.sum(b, (-1)).type()"
   ]
  },
  {
   "cell_type": "code",
   "execution_count": null,
   "metadata": {},
   "outputs": [],
   "source": [
    "%%time\n",
    "c = torch.symeig(tensor_psd.to(device), eigenvectors=True)[0]\n",
    "torch.sum(c, (-1)).type()"
   ]
  },
  {
   "cell_type": "code",
   "execution_count": 14,
   "metadata": {},
   "outputs": [
    {
     "ename": "NameError",
     "evalue": "name 'ev_compute' is not defined",
     "output_type": "error",
     "traceback": [
      "\u001b[0;31m---------------------------------------------------------------------------\u001b[0m",
      "\u001b[0;31mNameError\u001b[0m                                 Traceback (most recent call last)",
      "\u001b[0;32m<ipython-input-14-46e01e28e7fe>\u001b[0m in \u001b[0;36m<module>\u001b[0;34m\u001b[0m\n\u001b[0;32m----> 1\u001b[0;31m \u001b[0mtorch\u001b[0m\u001b[0;34m.\u001b[0m\u001b[0msum\u001b[0m\u001b[0;34m(\u001b[0m\u001b[0mtorch\u001b[0m\u001b[0;34m.\u001b[0m\u001b[0mlog\u001b[0m\u001b[0;34m(\u001b[0m\u001b[0mev_compute\u001b[0m\u001b[0;34m)\u001b[0m \u001b[0;34m**\u001b[0m \u001b[0;36m2\u001b[0m\u001b[0;34m,\u001b[0m \u001b[0;34m(\u001b[0m\u001b[0;34m-\u001b[0m\u001b[0;36m1\u001b[0m\u001b[0;34m)\u001b[0m\u001b[0;34m)\u001b[0m\u001b[0;34m\u001b[0m\u001b[0;34m\u001b[0m\u001b[0m\n\u001b[0m",
      "\u001b[0;31mNameError\u001b[0m: name 'ev_compute' is not defined"
     ]
    }
   ],
   "source": [
    "torch.sum(torch.log(ev_compute) ** 2, (-1))"
   ]
  },
  {
   "cell_type": "code",
   "execution_count": 15,
   "metadata": {},
   "outputs": [
    {
     "ename": "NameError",
     "evalue": "name 'ev_eigvals' is not defined",
     "output_type": "error",
     "traceback": [
      "\u001b[0;31m---------------------------------------------------------------------------\u001b[0m",
      "\u001b[0;31mNameError\u001b[0m                                 Traceback (most recent call last)",
      "\u001b[0;32m<ipython-input-15-bb6f9e9ada05>\u001b[0m in \u001b[0;36m<module>\u001b[0;34m\u001b[0m\n\u001b[0;32m----> 1\u001b[0;31m \u001b[0mtorch\u001b[0m\u001b[0;34m.\u001b[0m\u001b[0msum\u001b[0m\u001b[0;34m(\u001b[0m\u001b[0mtorch\u001b[0m\u001b[0;34m.\u001b[0m\u001b[0mlog\u001b[0m\u001b[0;34m(\u001b[0m\u001b[0mev_eigvals\u001b[0m\u001b[0;34m)\u001b[0m \u001b[0;34m**\u001b[0m \u001b[0;36m2\u001b[0m\u001b[0;34m,\u001b[0m \u001b[0;34m(\u001b[0m\u001b[0;34m-\u001b[0m\u001b[0;36m1\u001b[0m\u001b[0;34m)\u001b[0m\u001b[0;34m)\u001b[0m\u001b[0;34m\u001b[0m\u001b[0;34m\u001b[0m\u001b[0m\n\u001b[0m",
      "\u001b[0;31mNameError\u001b[0m: name 'ev_eigvals' is not defined"
     ]
    }
   ],
   "source": [
    "torch.sum(torch.log(ev_eigvals) ** 2, (-1))"
   ]
  },
  {
   "cell_type": "code",
   "execution_count": 23,
   "metadata": {},
   "outputs": [
    {
     "data": {
      "text/plain": [
       "tensor([[[3.7513, 0.3651, 2.5773,  ..., 2.8953, 2.5914, 1.9670],\n",
       "         [2.2858, 2.4179, 4.2734,  ..., 2.9989, 2.3992, 2.6493],\n",
       "         [2.6776, 1.9859, 2.8950,  ..., 2.3942, 5.4251, 3.3042],\n",
       "         ...,\n",
       "         [2.0228, 2.3759, 3.0897,  ..., 4.5562, 3.7919, 4.0769],\n",
       "         [3.8905, 2.1013, 1.5331,  ..., 0.8359, 2.4469, 1.8388],\n",
       "         [2.1955, 2.0983, 2.8195,  ..., 6.2514, 2.5539, 1.8819]],\n",
       "\n",
       "        [[1.9546, 3.0803, 4.1626,  ..., 4.1607, 1.3837, 3.3956],\n",
       "         [2.9694, 4.3767, 3.7231,  ..., 3.3218, 2.1218, 5.7248],\n",
       "         [4.7651, 4.8011, 2.5437,  ..., 4.0145, 3.8681, 3.9207],\n",
       "         ...,\n",
       "         [2.3323, 4.2464, 3.1693,  ..., 4.4671, 3.4908, 3.8269],\n",
       "         [3.8638, 2.9806, 2.5045,  ..., 3.2118, 0.1861, 2.6195],\n",
       "         [3.3888, 3.1386, 1.9089,  ..., 1.9357, 5.4593, 1.9556]],\n",
       "\n",
       "        [[2.6642, 2.7570, 3.5018,  ..., 4.1753, 1.3042, 2.1998],\n",
       "         [3.2421, 1.9905, 3.3665,  ..., 2.8691, 1.8344, 3.0069],\n",
       "         [2.2511, 2.7952, 4.5326,  ..., 3.2880, 4.5484, 1.8732],\n",
       "         ...,\n",
       "         [3.5991, 2.7464, 2.1065,  ..., 3.1928, 3.8954, 4.8114],\n",
       "         [2.7788, 4.4971, 2.4656,  ..., 3.9333, 3.2574, 2.8869],\n",
       "         [2.2662, 3.4866, 2.3911,  ..., 4.0667, 2.0919, 4.2556]],\n",
       "\n",
       "        ...,\n",
       "\n",
       "        [[2.5394, 1.9103, 4.1602,  ..., 6.2283, 3.9305, 1.0478],\n",
       "         [1.3836, 3.6097, 4.0455,  ..., 4.9604, 4.5290, 2.0360],\n",
       "         [4.9353, 2.4437, 2.7067,  ..., 3.3881, 2.9112, 1.9664],\n",
       "         ...,\n",
       "         [2.9149, 4.8230, 5.2642,  ..., 2.9454, 3.8495, 2.9351],\n",
       "         [1.5776, 2.0728, 2.6293,  ..., 5.6544, 3.8824, 3.7958],\n",
       "         [3.4584, 3.8494, 3.9119,  ..., 3.4917, 1.5978, 1.5372]],\n",
       "\n",
       "        [[2.5261, 2.7493, 2.4832,  ..., 5.3707, 2.2381, 3.4298],\n",
       "         [2.7649, 3.1114, 2.9498,  ..., 3.4987, 2.2481, 3.4194],\n",
       "         [4.4263, 2.9123, 3.2668,  ..., 2.1117, 2.1020, 3.0127],\n",
       "         ...,\n",
       "         [3.8917, 2.6301, 5.0461,  ..., 2.1292, 1.9849, 3.0822],\n",
       "         [3.1415, 2.8989, 0.9941,  ..., 2.5826, 4.9260, 3.3156],\n",
       "         [3.0012, 4.2152, 3.1191,  ..., 1.4744, 5.4110, 4.0440]],\n",
       "\n",
       "        [[0.3620, 3.7897, 1.8840,  ..., 2.5579, 1.8588, 2.3882],\n",
       "         [1.7712, 2.6422, 4.7499,  ..., 2.5749, 2.8454, 2.2425],\n",
       "         [2.4830, 2.0671, 3.5069,  ..., 2.9629, 3.2377, 0.9034],\n",
       "         ...,\n",
       "         [4.3624, 2.6333, 1.5845,  ..., 3.7647, 1.2461, 4.5685],\n",
       "         [3.6535, 2.9377, 3.1375,  ..., 5.3757, 4.7879, 3.6332],\n",
       "         [1.0390, 3.4904, 1.7269,  ..., 4.9853, 2.5947, 2.5414]]])"
      ]
     },
     "execution_count": 23,
     "metadata": {},
     "output_type": "execute_result"
    }
   ],
   "source": [
    "torch.sum(torch.log(ev_symeig) ** 2, (-1))"
   ]
  },
  {
   "cell_type": "code",
   "execution_count": 37,
   "metadata": {},
   "outputs": [
    {
     "data": {
      "text/plain": [
       "tensor([[[-3.5527e-15,  1.2768e-15,  0.0000e+00,  ..., -6.2172e-15,\n",
       "           5.3291e-15, -4.4409e-16],\n",
       "         [ 4.4409e-16,  1.3323e-15,  3.5527e-15,  ..., -4.4409e-16,\n",
       "           4.4409e-16,  1.7764e-15],\n",
       "         [ 3.1086e-15, -4.4409e-16,  8.8818e-16,  ..., -3.1086e-15,\n",
       "          -8.8818e-16, -4.4409e-15],\n",
       "         ...,\n",
       "         [ 0.0000e+00, -1.7764e-15, -1.7764e-15,  ...,  2.6645e-15,\n",
       "           4.8850e-15, -2.6645e-15],\n",
       "         [ 3.5527e-15, -4.4409e-16, -8.8818e-16,  ...,  1.1102e-16,\n",
       "           8.8818e-16,  1.5543e-15],\n",
       "         [ 2.2204e-15, -8.8818e-16, -2.2204e-15,  ...,  1.7764e-15,\n",
       "          -1.7764e-15,  2.2204e-16]],\n",
       "\n",
       "        [[-6.6613e-16,  2.2204e-15,  3.5527e-15,  ...,  8.8818e-16,\n",
       "          -2.4425e-15,  4.8850e-15],\n",
       "         [-2.2204e-15,  2.6645e-15, -7.1054e-15,  ...,  2.2204e-15,\n",
       "          -4.4409e-16, -3.5527e-15],\n",
       "         [-1.7764e-15, -2.6645e-15,  4.4409e-16,  ..., -8.8818e-16,\n",
       "           8.8818e-16,  3.5527e-15],\n",
       "         ...,\n",
       "         [ 8.8818e-16,  3.5527e-15, -4.4409e-16,  ..., -8.8818e-16,\n",
       "          -4.4409e-15, -4.4409e-16],\n",
       "         [-3.9968e-15,  1.3323e-15, -3.9968e-15,  ...,  8.8818e-16,\n",
       "           1.0270e-15,  4.4409e-15],\n",
       "         [-1.3323e-15, -1.7764e-15, -2.2204e-15,  ..., -1.1102e-15,\n",
       "          -8.8818e-16, -1.1102e-15]],\n",
       "\n",
       "        [[-3.5527e-15, -2.2204e-15,  0.0000e+00,  ...,  8.8818e-16,\n",
       "          -2.2204e-16,  2.6645e-15],\n",
       "         [-2.6645e-15,  0.0000e+00, -4.8850e-15,  ..., -1.3323e-15,\n",
       "           8.8818e-16, -8.8818e-16],\n",
       "         [ 0.0000e+00, -8.8818e-16,  8.8818e-16,  ...,  9.3259e-15,\n",
       "          -1.7764e-15,  6.6613e-16],\n",
       "         ...,\n",
       "         [ 6.2172e-15, -1.3323e-15, -8.8818e-16,  ..., -1.3323e-15,\n",
       "           4.4409e-16,  1.7764e-15],\n",
       "         [ 8.8818e-16,  1.7764e-15,  0.0000e+00,  ..., -4.4409e-16,\n",
       "          -4.4409e-16,  5.3291e-15],\n",
       "         [ 1.3323e-15, -8.8818e-16, -8.8818e-16,  ...,  4.4409e-15,\n",
       "           8.8818e-16, -1.7764e-15]],\n",
       "\n",
       "        ...,\n",
       "\n",
       "        [[-8.8818e-16, -4.4409e-16, -8.8818e-16,  ..., -8.8818e-16,\n",
       "           2.6645e-15, -1.9984e-15],\n",
       "         [-4.4409e-16,  2.6645e-15,  1.7764e-15,  ..., -6.2172e-15,\n",
       "           3.5527e-15, -2.2204e-15],\n",
       "         [ 3.5527e-15, -3.9968e-15, -4.4409e-15,  ..., -8.8818e-16,\n",
       "           0.0000e+00, -1.1102e-15],\n",
       "         ...,\n",
       "         [ 1.7764e-15,  4.4409e-15, -8.8818e-16,  ...,  1.3323e-15,\n",
       "           8.8818e-16,  4.4409e-16],\n",
       "         [ 2.2204e-16,  2.6645e-15, -3.5527e-15,  ...,  2.6645e-15,\n",
       "           0.0000e+00,  0.0000e+00],\n",
       "         [ 0.0000e+00,  5.3291e-15,  1.7764e-15,  ...,  2.2204e-15,\n",
       "          -4.4409e-16,  6.6613e-16]],\n",
       "\n",
       "        [[ 4.4409e-16, -1.7764e-15,  4.4409e-16,  ...,  3.5527e-15,\n",
       "          -1.7764e-15, -2.6645e-15],\n",
       "         [-4.4409e-16, -8.8818e-16,  3.1086e-15,  ...,  0.0000e+00,\n",
       "           2.6645e-15,  1.3323e-15],\n",
       "         [ 0.0000e+00, -3.9968e-15,  3.5527e-15,  ...,  0.0000e+00,\n",
       "           1.3323e-15, -1.3323e-15],\n",
       "         ...,\n",
       "         [-4.8850e-15,  2.2204e-15, -8.8818e-16,  ..., -1.7764e-15,\n",
       "           2.2204e-16, -2.6645e-15],\n",
       "         [-1.3323e-15, -3.5527e-15,  3.3307e-16,  ...,  4.8850e-15,\n",
       "           3.5527e-15, -1.3323e-15],\n",
       "         [ 1.7764e-15,  8.8818e-16,  4.4409e-15,  ..., -1.3323e-15,\n",
       "           5.3291e-15,  8.8818e-16]],\n",
       "\n",
       "        [[-8.3267e-16, -4.4409e-16,  4.4409e-16,  ...,  4.4409e-16,\n",
       "           0.0000e+00,  0.0000e+00],\n",
       "         [-1.3323e-15, -2.6645e-15, -8.8818e-16,  ...,  8.8818e-16,\n",
       "          -2.6645e-15,  2.2204e-15],\n",
       "         [ 8.8818e-16, -1.7764e-15, -1.7764e-15,  ..., -8.8818e-16,\n",
       "           0.0000e+00,  3.3307e-16],\n",
       "         ...,\n",
       "         [-1.7764e-15, -4.4409e-16, -8.8818e-16,  ...,  8.8818e-16,\n",
       "          -1.7764e-15, -8.8818e-16],\n",
       "         [-1.7764e-15,  8.8818e-16,  3.1086e-15,  ...,  1.7764e-15,\n",
       "           6.2172e-15, -4.8850e-15],\n",
       "         [-6.6613e-16,  4.4409e-16,  4.4409e-16,  ..., -1.7764e-15,\n",
       "           1.3323e-15,  3.1086e-15]]])"
      ]
     },
     "execution_count": 37,
     "metadata": {},
     "output_type": "execute_result"
    }
   ],
   "source": [
    "torch.sum(torch.log(b) ** 2, (-1))-torch.sum(torch.log(c) ** 2, (-1))"
   ]
  },
  {
   "cell_type": "code",
   "execution_count": 22,
   "metadata": {},
   "outputs": [
    {
     "data": {
      "text/plain": [
       "tensor([[[-2.3842e-07, -1.1921e-06, -1.4305e-06,  ..., -2.3842e-07,\n",
       "          -9.5367e-07,  2.3842e-07],\n",
       "         [ 5.9605e-07, -4.7684e-07, -7.1526e-07,  ..., -3.5763e-07,\n",
       "           1.1921e-06,  1.7881e-06],\n",
       "         [ 2.3842e-06,  2.3842e-07, -2.3842e-07,  ...,  1.1921e-06,\n",
       "          -2.3842e-07, -7.1526e-07],\n",
       "         ...,\n",
       "         [-1.1921e-06,  3.5763e-07,  7.1526e-07,  ..., -3.5763e-07,\n",
       "           3.5763e-07, -1.9073e-06],\n",
       "         [ 5.9605e-07, -2.3842e-07, -2.3842e-07,  ...,  1.1921e-07,\n",
       "          -1.1921e-07, -8.3447e-07],\n",
       "         [-2.3842e-07, -4.7684e-07, -1.1921e-07,  ...,  1.0729e-06,\n",
       "          -1.1921e-07, -2.3842e-07]],\n",
       "\n",
       "        [[ 9.5367e-07,  2.3842e-07, -1.1921e-07,  ...,  4.7684e-07,\n",
       "          -9.5367e-07,  9.5367e-07],\n",
       "         [ 1.1921e-06, -1.1921e-07,  2.3842e-07,  ...,  0.0000e+00,\n",
       "           1.9073e-06, -3.5763e-07],\n",
       "         [ 1.4305e-06,  0.0000e+00,  0.0000e+00,  ..., -3.5763e-07,\n",
       "           1.0729e-06,  7.1526e-07],\n",
       "         ...,\n",
       "         [-1.1921e-07, -1.1921e-07,  2.3842e-07,  ...,  2.3842e-07,\n",
       "           1.1921e-07,  7.1526e-07],\n",
       "         [-5.9605e-07, -4.7684e-07,  2.3842e-07,  ...,  8.3447e-07,\n",
       "           2.3842e-07, -3.5763e-07],\n",
       "         [ 8.3447e-07, -9.5367e-07, -1.6689e-06,  ..., -2.1458e-06,\n",
       "           2.3842e-07,  0.0000e+00]],\n",
       "\n",
       "        [[-4.7684e-07, -4.7684e-07, -8.3447e-07,  ..., -2.6226e-06,\n",
       "          -1.1921e-06,  9.5367e-07],\n",
       "         [-2.3842e-07, -4.7684e-07,  0.0000e+00,  ..., -7.1526e-07,\n",
       "           4.7684e-07, -4.7684e-07],\n",
       "         [ 1.1921e-07, -1.9073e-06,  0.0000e+00,  ..., -7.1526e-07,\n",
       "           4.7684e-07,  1.1921e-06],\n",
       "         ...,\n",
       "         [ 2.3842e-07,  7.1526e-07,  9.5367e-07,  ..., -9.5367e-07,\n",
       "          -1.1921e-06, -7.1526e-07],\n",
       "         [ 7.1526e-07,  9.5367e-07,  2.3842e-07,  ...,  0.0000e+00,\n",
       "          -2.3842e-07, -3.5763e-07],\n",
       "         [ 0.0000e+00, -1.1921e-06, -2.3842e-07,  ...,  8.3447e-07,\n",
       "           0.0000e+00,  1.4305e-06]],\n",
       "\n",
       "        ...,\n",
       "\n",
       "        [[ 1.1921e-07,  5.9605e-07,  9.5367e-07,  ..., -7.1526e-07,\n",
       "           9.5367e-07,  0.0000e+00],\n",
       "         [-1.1921e-06,  8.3447e-07, -7.1526e-07,  ..., -1.1921e-07,\n",
       "           5.9605e-07,  3.5763e-07],\n",
       "         [-7.1526e-07,  5.9605e-07,  2.3842e-07,  ...,  5.9605e-07,\n",
       "           1.1921e-06, -4.7684e-07],\n",
       "         ...,\n",
       "         [-9.5367e-07, -2.3842e-07, -4.7684e-07,  ...,  2.1458e-06,\n",
       "           0.0000e+00,  5.9605e-07],\n",
       "         [ 1.9073e-06,  1.6689e-06,  2.3842e-07,  ..., -5.9605e-07,\n",
       "          -4.7684e-07,  4.7684e-07],\n",
       "         [ 0.0000e+00, -2.3842e-07,  7.1526e-07,  ...,  2.3842e-07,\n",
       "          -9.5367e-07,  2.1458e-06]],\n",
       "\n",
       "        [[ 1.0729e-06,  2.3842e-07,  1.1921e-07,  ..., -4.7684e-07,\n",
       "           1.1921e-06,  2.3842e-07],\n",
       "         [ 4.7684e-07, -3.5763e-07,  1.1921e-06,  ...,  5.9605e-07,\n",
       "           4.7684e-07,  9.5367e-07],\n",
       "         [-2.3842e-07, -4.7684e-07, -4.7684e-07,  ...,  3.5763e-07,\n",
       "           0.0000e+00,  1.1921e-06],\n",
       "         ...,\n",
       "         [-2.3842e-07,  1.4305e-06, -1.0729e-06,  ..., -8.3447e-07,\n",
       "           4.7684e-07,  3.5763e-07],\n",
       "         [ 3.5763e-07, -7.1526e-07,  7.1526e-07,  ...,  2.0266e-06,\n",
       "           7.1526e-07, -2.3842e-07],\n",
       "         [ 1.1921e-06,  4.7684e-07,  7.1526e-07,  ..., -5.9605e-07,\n",
       "          -4.7684e-07,  2.3842e-07]],\n",
       "\n",
       "        [[ 1.4305e-06, -1.0729e-06, -1.1921e-06,  ..., -3.5763e-07,\n",
       "          -4.7684e-07, -1.1921e-07],\n",
       "         [-1.1921e-06, -4.7684e-07,  2.3842e-07,  ...,  1.4305e-06,\n",
       "           0.0000e+00,  2.3842e-07],\n",
       "         [ 8.3447e-07,  7.1526e-07, -7.1526e-07,  ..., -1.6689e-06,\n",
       "           1.1921e-06,  2.0266e-06],\n",
       "         ...,\n",
       "         [-7.1526e-07,  0.0000e+00, -4.7684e-07,  ...,  2.3842e-07,\n",
       "          -4.7684e-07, -1.7881e-06],\n",
       "         [ 1.1921e-06,  0.0000e+00,  1.1921e-06,  ...,  3.5763e-07,\n",
       "          -4.7684e-07,  7.1526e-07],\n",
       "         [ 2.3842e-07,  4.7684e-07, -2.3842e-07,  ...,  1.3113e-06,\n",
       "          -2.1458e-06,  1.6689e-06]]], dtype=torch.float64)"
      ]
     },
     "execution_count": 22,
     "metadata": {},
     "output_type": "execute_result"
    }
   ],
   "source": [
    "torch.sum(ev_cos, (-1))-torch.sum(ev_torch, (-1))"
   ]
  },
  {
   "cell_type": "code",
   "execution_count": 10,
   "metadata": {},
   "outputs": [],
   "source": [
    "diffeo = sio.loadmat(f'/home/sci/hdai/Projects/Atlas3D/Brain2AtlasMay21/103818_799_energy.mat')['energy']"
   ]
  },
  {
   "cell_type": "code",
   "execution_count": 11,
   "metadata": {},
   "outputs": [
    {
     "data": {
      "text/plain": [
       "(1, 800)"
      ]
     },
     "execution_count": 11,
     "metadata": {},
     "output_type": "execute_result"
    }
   ],
   "source": [
    "diffeo.shape"
   ]
  },
  {
   "cell_type": "code",
   "execution_count": 12,
   "metadata": {},
   "outputs": [
    {
     "data": {
      "text/plain": [
       "[<matplotlib.lines.Line2D at 0x7f2bbdda7510>]"
      ]
     },
     "execution_count": 12,
     "metadata": {},
     "output_type": "execute_result"
    },
    {
     "data": {
      "image/png": "[encoded data removed]",
      "text/plain": [
       "<Figure size 432x288 with 1 Axes>"
      ]
     },
     "metadata": {
      "needs_background": "light"
     },
     "output_type": "display_data"
    }
   ],
   "source": [
    "plt.plot(diffeo[0])"
   ]
  },
  {
   "cell_type": "code",
   "execution_count": 5,
   "metadata": {},
   "outputs": [
    {
     "name": "stdout",
     "output_type": "stream",
     "text": [
      "(6, 100, 100, 41)\n"
     ]
    },
    {
     "data": {
      "text/plain": [
       "0.0008008409777276603"
      ]
     },
     "execution_count": 5,
     "metadata": {},
     "output_type": "execute_result"
    }
   ],
   "source": [
    "path = '/usr/sci/projects/HCP/Kris/NSFCRCNS/TestResults/working_3d_python'\n",
    "s = 1\n",
    "tensor_np = np.transpose(sitk.GetArrayFromImage(sitk.ReadImage(f'{path}/cubic{s}_orig_tensors.nhdr')),(3,2,1,0))\n",
    "print(tensor_np.shape)\n",
    "# mask_np = np.transpose(sitk.GetArrayFromImage(sitk.ReadImage(f'{path}/cubic{s}_filt_mask.nhdr')),(2,1,0))\n",
    "np.mean(tensor_np[:,:,:,21]-tensor_np[:,:,:,19])"
   ]
  },
  {
   "cell_type": "code",
   "execution_count": 6,
   "metadata": {},
   "outputs": [
    {
     "data": {
      "text/plain": [
       "0.006613043901924739"
      ]
     },
     "execution_count": 6,
     "metadata": {},
     "output_type": "execute_result"
    }
   ],
   "source": [
    "path = '/usr/sci/projects/HCP/Kris/NSFCRCNS/TestResults/working_3d_python'\n",
    "s = 1\n",
    "tensor_np = np.transpose(sitk.GetArrayFromImage(sitk.ReadImage(f'{path}/cubic{s}_orig_tensors.nhdr')),(3,2,1,0))\n",
    "# mask_np = np.transpose(sitk.GetArrayFromImage(sitk.ReadImage(f'{path}/cubic{s}_filt_mask.nhdr')),(2,1,0))\n",
    "np.mean(tensor_np[:,:,:,22]-tensor_np[:,:,:,18])"
   ]
  },
  {
   "cell_type": "code",
   "execution_count": 7,
   "metadata": {},
   "outputs": [
    {
     "data": {
      "text/plain": [
       "0.013798560802689663"
      ]
     },
     "execution_count": 7,
     "metadata": {},
     "output_type": "execute_result"
    }
   ],
   "source": [
    "path = '/usr/sci/projects/HCP/Kris/NSFCRCNS/TestResults/working_3d_python'\n",
    "s = 1\n",
    "tensor_np = np.transpose(sitk.GetArrayFromImage(sitk.ReadImage(f'{path}/cubic{s}_orig_tensors.nhdr')),(3,2,1,0))\n",
    "# mask_np = np.transpose(sitk.GetArrayFromImage(sitk.ReadImage(f'{path}/cubic{s}_filt_mask.nhdr')),(2,1,0))\n",
    "np.mean(tensor_np[:,:,:,23]-tensor_np[:,:,:,17])"
   ]
  },
  {
   "cell_type": "code",
   "execution_count": 8,
   "metadata": {},
   "outputs": [
    {
     "data": {
      "text/plain": [
       "0.0015515587368096222"
      ]
     },
     "execution_count": 8,
     "metadata": {},
     "output_type": "execute_result"
    }
   ],
   "source": [
    "path = '/usr/sci/projects/HCP/Kris/NSFCRCNS/TestResults/working_3d_python'\n",
    "s = 2\n",
    "tensor_np = np.transpose(sitk.GetArrayFromImage(sitk.ReadImage(f'{path}/cubic{s}_orig_tensors.nhdr')),(3,2,1,0))\n",
    "# mask_np = np.transpose(sitk.GetArrayFromImage(sitk.ReadImage(f'{path}/cubic{s}_filt_mask.nhdr')),(2,1,0))\n",
    "np.mean(tensor_np[:,:,:,21]-tensor_np[:,:,:,19])"
   ]
  },
  {
   "cell_type": "code",
   "execution_count": 9,
   "metadata": {},
   "outputs": [
    {
     "data": {
      "text/plain": [
       "0.0009034099626365979"
      ]
     },
     "execution_count": 9,
     "metadata": {},
     "output_type": "execute_result"
    }
   ],
   "source": [
    "path = '/usr/sci/projects/HCP/Kris/NSFCRCNS/TestResults/working_3d_python'\n",
    "s = 4\n",
    "tensor_np = np.transpose(sitk.GetArrayFromImage(sitk.ReadImage(f'{path}/cubic{s}_orig_tensors.nhdr')),(3,2,1,0))\n",
    "# mask_np = np.transpose(sitk.GetArrayFromImage(sitk.ReadImage(f'{path}/cubic{s}_filt_mask.nhdr')),(2,1,0))\n",
    "np.mean(tensor_np[:,:,:,21]-tensor_np[:,:,:,19])"
   ]
  },
  {
   "cell_type": "code",
   "execution_count": 10,
   "metadata": {},
   "outputs": [
    {
     "data": {
      "text/plain": [
       "0.0014410623116006644"
      ]
     },
     "execution_count": 10,
     "metadata": {},
     "output_type": "execute_result"
    }
   ],
   "source": [
    "path = '/usr/sci/projects/HCP/Kris/NSFCRCNS/TestResults/working_3d_python'\n",
    "s = 6\n",
    "tensor_np = np.transpose(sitk.GetArrayFromImage(sitk.ReadImage(f'{path}/cubic{s}_orig_tensors.nhdr')),(3,2,1,0))\n",
    "# mask_np = np.transpose(sitk.GetArrayFromImage(sitk.ReadImage(f'{path}/cubic{s}_filt_mask.nhdr')),(2,1,0))\n",
    "np.mean(tensor_np[:,:,:,21]-tensor_np[:,:,:,19])"
   ]
  },
  {
   "cell_type": "code",
   "execution_count": 11,
   "metadata": {},
   "outputs": [
    {
     "data": {
      "text/plain": [
       "(6, 100, 100, 41)"
      ]
     },
     "execution_count": 11,
     "metadata": {},
     "output_type": "execute_result"
    }
   ],
   "source": [
    "tensor_np.shape"
   ]
  },
  {
   "cell_type": "code",
   "execution_count": 12,
   "metadata": {},
   "outputs": [
    {
     "ename": "NameError",
     "evalue": "name 'mask_np' is not defined",
     "output_type": "error",
     "traceback": [
      "\u001b[0;31m---------------------------------------------------------------------------\u001b[0m",
      "\u001b[0;31mNameError\u001b[0m                                 Traceback (most recent call last)",
      "\u001b[0;32m<ipython-input-12-d7db2e426be1>\u001b[0m in \u001b[0;36m<module>\u001b[0;34m\u001b[0m\n\u001b[1;32m     12\u001b[0m \u001b[0;34m\u001b[0m\u001b[0m\n\u001b[1;32m     13\u001b[0m \u001b[0;31m# geodesicpath_3d([6,h,w,d],[h,w,d],...)\u001b[0m\u001b[0;34m\u001b[0m\u001b[0;34m\u001b[0m\u001b[0;34m\u001b[0m\u001b[0m\n\u001b[0;32m---> 14\u001b[0;31m geox, geoy, geoz = geo.geodesicpath_3d(tensor_np, mask_np,\\\n\u001b[0m\u001b[1;32m     15\u001b[0m                               \u001b[0mstart_coords\u001b[0m\u001b[0;34m[\u001b[0m\u001b[0;36m0\u001b[0m\u001b[0;34m]\u001b[0m\u001b[0;34m,\u001b[0m \u001b[0minit_velocities\u001b[0m\u001b[0;34m[\u001b[0m\u001b[0;36m0\u001b[0m\u001b[0;34m]\u001b[0m\u001b[0;34m,\u001b[0m\u001b[0;31m \u001b[0m\u001b[0;31m\\\u001b[0m\u001b[0;34m\u001b[0m\u001b[0;34m\u001b[0m\u001b[0m\n\u001b[1;32m     16\u001b[0m                               geo_delta_t, iter_num=geo_iters, both_directions=True)\n",
      "\u001b[0;31mNameError\u001b[0m: name 'mask_np' is not defined"
     ]
    }
   ],
   "source": [
    "# start_coords = [[17, 22, 21]]\n",
    "# start_coords = [[50, 51, 21]]\n",
    "# start_coords = [[83, 71, 21]]\n",
    "start_coords = [[13, 14, 21]]\n",
    "init_velocities = [None]\n",
    "# tens_4_path = atlas_lin\n",
    "\n",
    "geo_delta_t = 0.1#0.01#0.005\n",
    "geo_iters = 1200 # 22000 for Kris annulus(delta_t=0.005), 32000 for cubic (delta_t=0.005)\n",
    "euler_delta_t = 0.01\n",
    "euler_iters = 8000 # 14600\n",
    "\n",
    "# geodesicpath_3d([6,h,w,d],[h,w,d],...)\n",
    "geox, geoy, geoz = geo.geodesicpath_3d(tensor_np, mask_np,\\\n",
    "                              start_coords[0], init_velocities[0], \\\n",
    "                              geo_delta_t, iter_num=geo_iters, both_directions=True)\n",
    "#scalegeox, scalegeoy = geo.geodesicpath(scaled_tens_4_path, filt_mask,\\\n",
    "#                              start_coords[0], init_velocities[0], \\\n",
    "#                              geo_delta_t, iter_num=geo_iters)\n",
    "\n",
    "# eulerpath_3d([6,h,w,d],[h,w,d],...)\n",
    "# eulx, euly, eulz = euler.eulerpath_3d(tensor_np, mask_np,\\\n",
    "#                               start_coords[0], init_velocities[0], euler_delta_t, iter_num=euler_iters, both_directions=True)"
   ]
  },
  {
   "cell_type": "code",
   "execution_count": 13,
   "metadata": {},
   "outputs": [
    {
     "ename": "NameError",
     "evalue": "name 'mask_np' is not defined",
     "output_type": "error",
     "traceback": [
      "\u001b[0;31m---------------------------------------------------------------------------\u001b[0m",
      "\u001b[0;31mNameError\u001b[0m                                 Traceback (most recent call last)",
      "\u001b[0;32m<ipython-input-13-980459601767>\u001b[0m in \u001b[0;36m<module>\u001b[0;34m\u001b[0m\n\u001b[1;32m      4\u001b[0m \u001b[0;31m# eultube = eulspline.tube(radius=0.5)\u001b[0m\u001b[0;34m\u001b[0m\u001b[0;34m\u001b[0m\u001b[0;34m\u001b[0m\u001b[0m\n\u001b[1;32m      5\u001b[0m \u001b[0;31m# view_3d_tensors([h,w,d,6],[h,w,d],...)\u001b[0m\u001b[0;34m\u001b[0m\u001b[0;34m\u001b[0m\u001b[0;34m\u001b[0m\u001b[0m\n\u001b[0;32m----> 6\u001b[0;31m \u001b[0mvwr\u001b[0m\u001b[0;34m=\u001b[0m\u001b[0mview_3d_tensors\u001b[0m\u001b[0;34m(\u001b[0m\u001b[0mnp\u001b[0m\u001b[0;34m.\u001b[0m\u001b[0mtranspose\u001b[0m\u001b[0;34m(\u001b[0m\u001b[0mtensor_np\u001b[0m\u001b[0;34m,\u001b[0m\u001b[0;34m(\u001b[0m\u001b[0;36m1\u001b[0m\u001b[0;34m,\u001b[0m\u001b[0;36m2\u001b[0m\u001b[0;34m,\u001b[0m\u001b[0;36m3\u001b[0m\u001b[0;34m,\u001b[0m\u001b[0;36m0\u001b[0m\u001b[0;34m)\u001b[0m\u001b[0;34m)\u001b[0m\u001b[0;34m,\u001b[0m\u001b[0mmask_np\u001b[0m\u001b[0;34m,\u001b[0m\u001b[0mmask_np\u001b[0m\u001b[0;34m,\u001b[0m\u001b[0mpaths\u001b[0m\u001b[0;34m=\u001b[0m\u001b[0;34m[\u001b[0m\u001b[0;34m(\u001b[0m\u001b[0mgeox\u001b[0m\u001b[0;34m[\u001b[0m\u001b[0;34m:\u001b[0m\u001b[0mgeo_iters\u001b[0m\u001b[0;34m-\u001b[0m\u001b[0;36m1\u001b[0m\u001b[0;34m]\u001b[0m\u001b[0;34m,\u001b[0m\u001b[0mgeoy\u001b[0m\u001b[0;34m[\u001b[0m\u001b[0;34m:\u001b[0m\u001b[0mgeo_iters\u001b[0m\u001b[0;34m-\u001b[0m\u001b[0;36m1\u001b[0m\u001b[0;34m]\u001b[0m\u001b[0;34m,\u001b[0m\u001b[0mgeoz\u001b[0m\u001b[0;34m[\u001b[0m\u001b[0;34m:\u001b[0m\u001b[0mgeo_iters\u001b[0m\u001b[0;34m-\u001b[0m\u001b[0;36m1\u001b[0m\u001b[0;34m]\u001b[0m\u001b[0;34m)\u001b[0m\u001b[0;34m]\u001b[0m\u001b[0;34m,\u001b[0m\u001b[0mstride\u001b[0m\u001b[0;34m=\u001b[0m\u001b[0;36m7\u001b[0m\u001b[0;34m,\u001b[0m\u001b[0mscale\u001b[0m\u001b[0;34m=\u001b[0m\u001b[0;36m6\u001b[0m\u001b[0;34m)\u001b[0m\u001b[0;34m\u001b[0m\u001b[0;34m\u001b[0m\u001b[0m\n\u001b[0m\u001b[1;32m      7\u001b[0m \u001b[0;31m# vwr=view_3d_tensors(np.transpose(tensor_np,(1,2,3,0)),mask_np,mask_np,paths=[(eulx,euly,eulz)],stride=7,scale=6)\u001b[0m\u001b[0;34m\u001b[0m\u001b[0;34m\u001b[0m\u001b[0;34m\u001b[0m\u001b[0m\n\u001b[1;32m      8\u001b[0m \u001b[0mvwr\u001b[0m\u001b[0;34m\u001b[0m\u001b[0;34m\u001b[0m\u001b[0m\n",
      "\u001b[0;31mNameError\u001b[0m: name 'mask_np' is not defined"
     ]
    }
   ],
   "source": [
    "# geospline=pv.Spline(np.column_stack((geoz, geoy, geox)), 500)\n",
    "# geotube = geospline.tube(radius=0.5)\n",
    "# eulspline=pv.Spline(np.column_stack((eulz, euly, eulx)), 500)\n",
    "# eultube = eulspline.tube(radius=0.5)\n",
    "# view_3d_tensors([h,w,d,6],[h,w,d],...)\n",
    "vwr=view_3d_tensors(np.transpose(tensor_np,(1,2,3,0)),mask_np,mask_np,paths=[(geox[:geo_iters-1],geoy[:geo_iters-1],geoz[:geo_iters-1])],stride=7,scale=6)\n",
    "# vwr=view_3d_tensors(np.transpose(tensor_np,(1,2,3,0)),mask_np,mask_np,paths=[(eulx,euly,eulz)],stride=7,scale=6)\n",
    "vwr"
   ]
  },
  {
   "cell_type": "code",
   "execution_count": 14,
   "metadata": {},
   "outputs": [
    {
     "ename": "NameError",
     "evalue": "name 'geox' is not defined",
     "output_type": "error",
     "traceback": [
      "\u001b[0;31m---------------------------------------------------------------------------\u001b[0m",
      "\u001b[0;31mNameError\u001b[0m                                 Traceback (most recent call last)",
      "\u001b[0;32m<ipython-input-14-c76bef1306eb>\u001b[0m in \u001b[0;36m<module>\u001b[0;34m\u001b[0m\n\u001b[0;32m----> 1\u001b[0;31m \u001b[0mgeox\u001b[0m\u001b[0;34m.\u001b[0m\u001b[0mshape\u001b[0m\u001b[0;34m\u001b[0m\u001b[0;34m\u001b[0m\u001b[0m\n\u001b[0m",
      "\u001b[0;31mNameError\u001b[0m: name 'geox' is not defined"
     ]
    }
   ],
   "source": [
    "geox.shape"
   ]
  },
  {
   "cell_type": "code",
   "execution_count": 10,
   "metadata": {},
   "outputs": [],
   "source": [
    "def view_3d_diffeos(diffeo, stride, interp):\n",
    "    height, width, depth = diffeo.shape[1:]\n",
    "    spline = []\n",
    "    for i in range(1,height,stride):\n",
    "        for j in range(1,width,stride):\n",
    "            spline.append(pv.Spline(np.transpose(diffeo[:,i,j,:]), interp))\n",
    "            \n",
    "#     for i in range(1,height,stride):\n",
    "#         for k in range(1,depth,stride):\n",
    "#             spline.append(pv.Spline(np.transpose(diffeo[:,i,:,k]), interp))\n",
    "            \n",
    "#     for j in range(1,width,stride):\n",
    "#         for k in range(1,depth,stride):\n",
    "#             spline.append(pv.Spline(np.transpose(diffeo[:,:,j,k]), interp))\n",
    "            \n",
    "    return itkview(geometries=spline)"
   ]
  },
  {
   "cell_type": "code",
   "execution_count": 15,
   "metadata": {},
   "outputs": [
    {
     "data": {
      "application/vnd.jupyter.widget-view+json": {
       "model_id": "e86f3ba0fd62472da543f65ac7ca7b68",
       "version_major": 2,
       "version_minor": 0
      },
      "text/plain": [
       "Viewer(geometries=[{'vtkClass': 'vtkPolyData', 'points': {'vtkClass': 'vtkPoints', 'name': '_points', 'numberO…"
      ]
     },
     "metadata": {},
     "output_type": "display_data"
    }
   ],
   "source": [
    "output_dir = 'Cubic1246AtlasNoDeviation2e-3'\n",
    "diffeo = sio.loadmat(f'{output_dir}/cubic1_100_phi_inv.mat')['diffeo']\n",
    "vwr = view_3d_diffeos(diffeo, 10,1000)\n",
    "vwr"
   ]
  },
  {
   "cell_type": "code",
   "execution_count": 16,
   "metadata": {},
   "outputs": [
    {
     "data": {
      "application/vnd.jupyter.widget-view+json": {
       "model_id": "4e4111cdc03a488380345014295ab284",
       "version_major": 2,
       "version_minor": 0
      },
      "text/plain": [
       "Viewer(geometries=[{'vtkClass': 'vtkPolyData', 'points': {'vtkClass': 'vtkPoints', 'name': '_points', 'numberO…"
      ]
     },
     "metadata": {},
     "output_type": "display_data"
    }
   ],
   "source": [
    "output_dir = 'Cubic1246Atlas'\n",
    "diffeo = sio.loadmat(f'{output_dir}/cubic1_100_phi_inv.mat')['diffeo']\n",
    "vwr = view_3d_diffeos(diffeo, 10,1000)\n",
    "vwr"
   ]
  },
  {
   "cell_type": "code",
   "execution_count": 37,
   "metadata": {},
   "outputs": [
    {
     "name": "stdout",
     "output_type": "stream",
     "text": [
      "Finding geodesic path from [13, 14, 21] with initial velocity [-2.78320707e-01 -9.60488152e-01  3.06480418e-04]\n",
      "numpts 86\n",
      "smallest,largest max eigenvalue 0.3127716010427184 8.285921962550137\n"
     ]
    },
    {
     "data": {
      "application/vnd.jupyter.widget-view+json": {
       "model_id": "3bc6d8358d8944c697fae777b928327f",
       "version_major": 2,
       "version_minor": 0
      },
      "text/plain": [
       "Viewer(geometries=[{'vtkClass': 'vtkPolyData', 'points': {'vtkClass': 'vtkPoints', 'name': '_points', 'numberO…"
      ]
     },
     "metadata": {},
     "output_type": "display_data"
    }
   ],
   "source": [
    "input_dir = '/usr/sci/projects/HCP/Kris/NSFCRCNS/TestResults/working_3d_python'\n",
    "output_dir = 'Cubic1246AtlasNoDeviation'\n",
    "atlas_lin = np.transpose(sitk.GetArrayFromImage(sitk.ReadImage(f'{output_dir}/atlas_400_tens.nhdr')),(3,2,1,0))\n",
    "mask_acc = np.transpose(sitk.GetArrayFromImage(sitk.ReadImage(f'{input_dir}/cubic5_filt_mask.nhdr')),(2,1,0))\n",
    "path_set = []\n",
    "# start_coords = [[17, 22, 21]]\n",
    "# start_coords = [[50, 51, 21]]\n",
    "# start_coords = [[83, 71, 21]] \n",
    "start_coords = [[13, 14, 21]] # golden test start point\n",
    "init_velocities = [None]\n",
    "\n",
    "geo_delta_t = -0.1\n",
    "geo_iters = 500 \n",
    "euler_delta_t = 0.1\n",
    "euler_iters = 8000 \n",
    "\n",
    "# geodesicpath_3d([6,h,w,d],[h,w,d],...)\n",
    "geox, geoy, geoz = geo.geodesicpath_3d(atlas_lin, mask_acc,\\\n",
    "                              start_coords[0], init_velocities[0], \\\n",
    "                              geo_delta_t, iter_num=geo_iters, both_directions=False)\n",
    "\n",
    "# eulerpath_3d([6,h,w,d],[h,w,d],...)\n",
    "# eulx, euly, eulz = euler.eulerpath_3d(atlas_lin, mask_acc,\\\n",
    "#                               start_coords[0], init_velocities[0], euler_delta_t, iter_num=euler_iters, both_directions=False)\n",
    "path_set = [(geox[:-1], geoy[:-1], geoz[:-1])]\n",
    "\n",
    "# view_3d_tensors([h,w,d,6],[h,w,d],...)\n",
    "vwr=view_3d_tensors(np.transpose(atlas_lin,(1,2,3,0)),mask_acc,atlas_lin[3,:,:,:],paths=path_set,stride=6,scale=6)\n",
    "vwr"
   ]
  },
  {
   "cell_type": "code",
   "execution_count": 30,
   "metadata": {},
   "outputs": [
    {
     "name": "stdout",
     "output_type": "stream",
     "text": [
      "Finding geodesic path from [13, 14, 21] with initial velocity [-2.81913076e-01 -9.59439950e-01  1.73268427e-05]\n",
      "numpts 86\n",
      "smallest,largest max eigenvalue 0.31286437684354523 8.30988022110784\n"
     ]
    },
    {
     "data": {
      "application/vnd.jupyter.widget-view+json": {
       "model_id": "",
       "version_major": 2,
       "version_minor": 0
      },
      "text/plain": [
       "Viewer(geometries=[{'vtkClass': 'vtkPolyData', 'points': {'vtkClass': 'vtkPoints', 'name': '_points', 'numberO…"
      ]
     },
     "metadata": {},
     "output_type": "display_data"
    }
   ],
   "source": [
    "input_dir = '/usr/sci/projects/HCP/Kris/NSFCRCNS/TestResults/working_3d_python'\n",
    "output_dir = 'Cubic1246AtlasNoDeviation'\n",
    "atlas_lin = np.transpose(sitk.GetArrayFromImage(sitk.ReadImage(f'{output_dir}/atlas_300_tens.nhdr')),(3,2,1,0))\n",
    "mask_acc = np.transpose(sitk.GetArrayFromImage(sitk.ReadImage(f'{input_dir}/cubic5_filt_mask.nhdr')),(2,1,0))\n",
    "path_set = []\n",
    "# start_coords = [[17, 22, 21]]\n",
    "# start_coords = [[50, 51, 21]]\n",
    "# start_coords = [[83, 71, 21]] \n",
    "start_coords = [[13, 14, 21]] # golden test start point\n",
    "init_velocities = [None]\n",
    "\n",
    "geo_delta_t = -0.1\n",
    "geo_iters = 500 \n",
    "euler_delta_t = 0.1\n",
    "euler_iters = 8000 \n",
    "\n",
    "# geodesicpath_3d([6,h,w,d],[h,w,d],...)\n",
    "geox, geoy, geoz = geo.geodesicpath_3d(atlas_lin, mask_acc,\\\n",
    "                              start_coords[0], init_velocities[0], \\\n",
    "                              geo_delta_t, iter_num=geo_iters, both_directions=False)\n",
    "\n",
    "# eulerpath_3d([6,h,w,d],[h,w,d],...)\n",
    "# eulx, euly, eulz = euler.eulerpath_3d(atlas_lin, mask_acc,\\\n",
    "#                               start_coords[0], init_velocities[0], euler_delta_t, iter_num=euler_iters, both_directions=False)\n",
    "path_set = [(geox[:-1], geoy[:-1], geoz[:-1])]\n",
    "\n",
    "# view_3d_tensors([h,w,d,6],[h,w,d],...)\n",
    "vwr=view_3d_tensors(np.transpose(atlas_lin,(1,2,3,0)),mask_acc,atlas_lin[3,:,:,:],paths=path_set,stride=6,scale=6)\n",
    "vwr"
   ]
  },
  {
   "cell_type": "code",
   "execution_count": 35,
   "metadata": {},
   "outputs": [
    {
     "name": "stdout",
     "output_type": "stream",
     "text": [
      "Finding geodesic path from [13, 14, 21] with initial velocity [-2.89026321e-01 -9.57321010e-01 -5.19338630e-04]\n",
      "numpts 86\n",
      "smallest,largest max eigenvalue 0.3131327619843758 8.32288541203232\n"
     ]
    },
    {
     "data": {
      "application/vnd.jupyter.widget-view+json": {
       "model_id": "822d3bd98af64fe18f79955177c51339",
       "version_major": 2,
       "version_minor": 0
      },
      "text/plain": [
       "Viewer(geometries=[{'vtkClass': 'vtkPolyData', 'points': {'vtkClass': 'vtkPoints', 'name': '_points', 'numberO…"
      ]
     },
     "metadata": {},
     "output_type": "display_data"
    }
   ],
   "source": [
    "input_dir = '/usr/sci/projects/HCP/Kris/NSFCRCNS/TestResults/working_3d_python'\n",
    "output_dir = 'Cubic1246AtlasNoDeviation'\n",
    "atlas_lin = np.transpose(sitk.GetArrayFromImage(sitk.ReadImage(f'{output_dir}/atlas_200_tens.nhdr')),(3,2,1,0))\n",
    "mask_acc = np.transpose(sitk.GetArrayFromImage(sitk.ReadImage(f'{input_dir}/cubic5_filt_mask.nhdr')),(2,1,0))\n",
    "path_set = []\n",
    "# start_coords = [[17, 22, 21]]\n",
    "# start_coords = [[50, 51, 21]]\n",
    "# start_coords = [[83, 71, 21]] \n",
    "start_coords = [[13, 14, 21]] # golden test start point\n",
    "init_velocities = [None]\n",
    "\n",
    "geo_delta_t = -0.1\n",
    "geo_iters = 500 \n",
    "euler_delta_t = 0.1\n",
    "euler_iters = 8000 \n",
    "\n",
    "# geodesicpath_3d([6,h,w,d],[h,w,d],...)\n",
    "geox, geoy, geoz = geo.geodesicpath_3d(atlas_lin, mask_acc,\\\n",
    "                              start_coords[0], init_velocities[0], \\\n",
    "                              geo_delta_t, iter_num=geo_iters, both_directions=False)\n",
    "\n",
    "# eulerpath_3d([6,h,w,d],[h,w,d],...)\n",
    "# eulx, euly, eulz = euler.eulerpath_3d(atlas_lin, mask_acc,\\\n",
    "#                               start_coords[0], init_velocities[0], euler_delta_t, iter_num=euler_iters, both_directions=False)\n",
    "path_set = [(geox[:-1], geoy[:-1], geoz[:-1])]\n",
    "\n",
    "# view_3d_tensors([h,w,d,6],[h,w,d],...)\n",
    "vwr=view_3d_tensors(np.transpose(atlas_lin,(1,2,3,0)),mask_acc,atlas_lin[3,:,:,:],paths=path_set,stride=6,scale=6)\n",
    "vwr"
   ]
  },
  {
   "cell_type": "code",
   "execution_count": 36,
   "metadata": {},
   "outputs": [
    {
     "name": "stdout",
     "output_type": "stream",
     "text": [
      "Finding geodesic path from [13, 14, 21] with initial velocity [-0.30205263 -0.9532901  -0.00147941]\n",
      "numpts 86\n",
      "smallest,largest max eigenvalue 0.31123498296414787 8.32167831653566\n"
     ]
    },
    {
     "data": {
      "application/vnd.jupyter.widget-view+json": {
       "model_id": "10bb6fc3852f44bf8a4ef4b29dd66537",
       "version_major": 2,
       "version_minor": 0
      },
      "text/plain": [
       "Viewer(geometries=[{'vtkClass': 'vtkPolyData', 'points': {'vtkClass': 'vtkPoints', 'name': '_points', 'numberO…"
      ]
     },
     "metadata": {},
     "output_type": "display_data"
    }
   ],
   "source": [
    "input_dir = '/usr/sci/projects/HCP/Kris/NSFCRCNS/TestResults/working_3d_python'\n",
    "output_dir = 'Cubic1246AtlasNoDeviation'\n",
    "atlas_lin = np.transpose(sitk.GetArrayFromImage(sitk.ReadImage(f'{output_dir}/atlas_100_tens.nhdr')),(3,2,1,0))\n",
    "mask_acc = np.transpose(sitk.GetArrayFromImage(sitk.ReadImage(f'{input_dir}/cubic5_filt_mask.nhdr')),(2,1,0))\n",
    "path_set = []\n",
    "# start_coords = [[17, 22, 21]]\n",
    "# start_coords = [[50, 51, 21]]\n",
    "# start_coords = [[83, 71, 21]] \n",
    "start_coords = [[13, 14, 21]] # golden test start point\n",
    "init_velocities = [None]\n",
    "\n",
    "geo_delta_t = -0.1\n",
    "geo_iters = 500 \n",
    "euler_delta_t = 0.1\n",
    "euler_iters = 8000 \n",
    "\n",
    "# geodesicpath_3d([6,h,w,d],[h,w,d],...)\n",
    "geox, geoy, geoz = geo.geodesicpath_3d(atlas_lin, mask_acc,\\\n",
    "                              start_coords[0], init_velocities[0], \\\n",
    "                              geo_delta_t, iter_num=geo_iters, both_directions=False)\n",
    "\n",
    "# eulerpath_3d([6,h,w,d],[h,w,d],...)\n",
    "# eulx, euly, eulz = euler.eulerpath_3d(atlas_lin, mask_acc,\\\n",
    "#                               start_coords[0], init_velocities[0], euler_delta_t, iter_num=euler_iters, both_directions=False)\n",
    "path_set = [(geox[:-1], geoy[:-1], geoz[:-1])]\n",
    "\n",
    "# view_3d_tensors([h,w,d,6],[h,w,d],...)\n",
    "vwr=view_3d_tensors(np.transpose(atlas_lin,(1,2,3,0)),mask_acc,atlas_lin[3,:,:,:],paths=path_set,stride=6,scale=6)\n",
    "vwr"
   ]
  },
  {
   "cell_type": "code",
   "execution_count": 8,
   "metadata": {},
   "outputs": [
    {
     "name": "stdout",
     "output_type": "stream",
     "text": [
      "Finding geodesic path from [13, 14, 21] with initial velocity [-2.74761161e-01 -9.61512230e-01  7.32159120e-04]\n",
      "numpts 86\n",
      "smallest,largest max eigenvalue 0.3226550052204432 8.253832031595914\n"
     ]
    },
    {
     "data": {
      "application/vnd.jupyter.widget-view+json": {
       "model_id": "",
       "version_major": 2,
       "version_minor": 0
      },
      "text/plain": [
       "Viewer(geometries=[{'vtkClass': 'vtkPolyData', 'points': {'vtkClass': 'vtkPoints', 'name': '_points', 'numberO…"
      ]
     },
     "metadata": {},
     "output_type": "display_data"
    }
   ],
   "source": [
    "input_dir = '/usr/sci/projects/HCP/Kris/NSFCRCNS/TestResults/working_3d_python'\n",
    "output_dir = 'Cubic1246AtlasNoDeviation2e-3'\n",
    "atlas_lin = np.transpose(sitk.GetArrayFromImage(sitk.ReadImage(f'{output_dir}/atlas_100_tens.nhdr')),(3,2,1,0))\n",
    "mask_acc = np.transpose(sitk.GetArrayFromImage(sitk.ReadImage(f'{input_dir}/cubic5_filt_mask.nhdr')),(2,1,0))\n",
    "path_set = []\n",
    "# start_coords = [[17, 22, 21]]\n",
    "# start_coords = [[50, 51, 21]]\n",
    "# start_coords = [[83, 71, 21]] \n",
    "start_coords = [[13, 14, 21]] # golden test start point\n",
    "init_velocities = [None]\n",
    "\n",
    "geo_delta_t = -0.1\n",
    "geo_iters = 500 \n",
    "euler_delta_t = 0.1\n",
    "euler_iters = 8000 \n",
    "\n",
    "# geodesicpath_3d([6,h,w,d],[h,w,d],...)\n",
    "geox, geoy, geoz = geo.geodesicpath_3d(atlas_lin, mask_acc,\\\n",
    "                              start_coords[0], init_velocities[0], \\\n",
    "                              geo_delta_t, iter_num=geo_iters, both_directions=False)\n",
    "\n",
    "# eulerpath_3d([6,h,w,d],[h,w,d],...)\n",
    "# eulx, euly, eulz = euler.eulerpath_3d(atlas_lin, mask_acc,\\\n",
    "#                               start_coords[0], init_velocities[0], euler_delta_t, iter_num=euler_iters, both_directions=False)\n",
    "path_set = [(geox[:-1], geoy[:-1], geoz[:-1])]\n",
    "\n",
    "# view_3d_tensors([h,w,d,6],[h,w,d],...)\n",
    "vwr=view_3d_tensors(np.transpose(atlas_lin,(1,2,3,0)),mask_acc,atlas_lin[3,:,:,:],paths=path_set,stride=6,scale=6)\n",
    "vwr"
   ]
  },
  {
   "cell_type": "code",
   "execution_count": 61,
   "metadata": {},
   "outputs": [],
   "source": [
    "import math\n",
    "def coord_register(point_x, point_y, point_z, diffeo):\n",
    "  # TODO work out which is y and which is x, maintain consistency.\n",
    "  # For now, pass in y for point_x, x for point_y\n",
    "    height, width, depth=diffeo.shape[-3:]\n",
    "    new_point_x, new_point_y, new_point_z = [], [], []\n",
    "    for i in range(len(point_x)):\n",
    "        C = point_x[i] - math.floor(point_x[i])\n",
    "        D = point_y[i] - math.floor(point_y[i])\n",
    "        E = point_z[i] - math.floor(point_z[i])\n",
    "        new_point_x.append(\\\n",
    "          (1.-C)*(1.-D)*(1.-E)*diffeo[0, math.floor(point_x[i])%height, math.floor(point_y[i])%width, math.floor(point_z[i])%depth]\\\n",
    "        + (1.-C)*D*(1.-E)*diffeo[0, math.floor(point_x[i])%height, math.ceil(point_y[i])%width, math.floor(point_z[i])%depth]\\\n",
    "        + C*(1.-D)*(1.-E)*diffeo[0, math.ceil(point_x[i])%height, math.floor(point_y[i])%width, math.floor(point_z[i])%depth]\\\n",
    "        + C*D*(1.-E)*diffeo[0, math.ceil(point_x[i])%height, math.ceil(point_y[i])%width, math.floor(point_z[i])%depth]\\\n",
    "        + (1.-C)*(1.-D)*E*diffeo[0, math.floor(point_x[i])%height, math.floor(point_y[i])%width, math.ceil(point_z[i])%depth]\\\n",
    "        + (1.-C)*D*E*diffeo[0, math.floor(point_x[i])%height, math.ceil(point_y[i])%width, math.ceil(point_z[i])%depth]\\\n",
    "        + C*(1.-D)*E*diffeo[0, math.ceil(point_x[i])%height, math.floor(point_y[i])%width, math.ceil(point_z[i])%depth]\\\n",
    "        + C*D*E*diffeo[0, math.ceil(point_x[i])%height, math.ceil(point_y[i])%width, math.ceil(point_z[i])%depth])\n",
    "\n",
    "        new_point_y.append(\\\n",
    "          (1.-C)*(1.-D)*(1.-E)*diffeo[1, math.floor(point_x[i])%height, math.floor(point_y[i])%width, math.floor(point_z[i])%depth]\\\n",
    "        + (1.-C)*D*(1.-E)*diffeo[1, math.floor(point_x[i])%height, math.ceil(point_y[i])%width, math.floor(point_z[i])%depth]\\\n",
    "        + C*(1.-D)*(1.-E)*diffeo[1, math.ceil(point_x[i])%height, math.floor(point_y[i])%width, math.floor(point_z[i])%depth]\\\n",
    "        + C*D*(1.-E)*diffeo[1, math.ceil(point_x[i])%height, math.ceil(point_y[i])%width, math.floor(point_z[i])%depth]\\\n",
    "        + (1.-C)*(1.-D)*E*diffeo[1, math.floor(point_x[i])%height, math.floor(point_y[i])%width, math.ceil(point_z[i])%depth]\\\n",
    "        + (1.-C)*D*E*diffeo[1, math.floor(point_x[i])%height, math.ceil(point_y[i])%width, math.ceil(point_z[i])%depth]\\\n",
    "        + C*(1.-D)*E*diffeo[1, math.ceil(point_x[i])%height, math.floor(point_y[i])%width, math.ceil(point_z[i])%depth]\\\n",
    "        + C*D*E*diffeo[1, math.ceil(point_x[i])%height, math.ceil(point_y[i])%width, math.ceil(point_z[i])%depth])\n",
    "\n",
    "        new_point_z.append(\\\n",
    "          (1.-C)*(1.-D)*(1.-E)*diffeo[2, math.floor(point_x[i])%height, math.floor(point_y[i])%width, math.floor(point_z[i])%depth]\\\n",
    "        + (1.-C)*D*(1.-E)*diffeo[2, math.floor(point_x[i])%height, math.ceil(point_y[i])%width, math.floor(point_z[i])%depth]\\\n",
    "        + C*(1.-D)*(1.-E)*diffeo[2, math.ceil(point_x[i])%height, math.floor(point_y[i])%width, math.floor(point_z[i])%depth]\\\n",
    "        + C*D*(1.-E)*diffeo[2, math.ceil(point_x[i])%height, math.ceil(point_y[i])%width, math.floor(point_z[i])%depth]\\\n",
    "        + (1.-C)*(1.-D)*E*diffeo[2, math.floor(point_x[i])%height, math.floor(point_y[i])%width, math.ceil(point_z[i])%depth]\\\n",
    "        + (1.-C)*D*E*diffeo[2, math.floor(point_x[i])%height, math.ceil(point_y[i])%width, math.ceil(point_z[i])%depth]\\\n",
    "        + C*(1.-D)*E*diffeo[2, math.ceil(point_x[i])%height, math.floor(point_y[i])%width, math.ceil(point_z[i])%depth]\\\n",
    "        + C*D*E*diffeo[2, math.ceil(point_x[i])%height, math.ceil(point_y[i])%width, math.ceil(point_z[i])%depth])\n",
    " \n",
    "    return (new_point_x, new_point_y, new_point_z)"
   ]
  },
  {
   "cell_type": "code",
   "execution_count": 83,
   "metadata": {},
   "outputs": [
    {
     "name": "stdout",
     "output_type": "stream",
     "text": [
      "Finding geodesic path from [13, 14, 21] with initial velocity [-0.26389484 -0.96454827  0.00247913]\n"
     ]
    }
   ],
   "source": [
    "input_dir = '/usr/sci/projects/HCP/Kris/NSFCRCNS/TestResults/working_3d_python'\n",
    "output_dir = 'Cubic1246Atlas'\n",
    "atlas_lin = np.transpose(sitk.GetArrayFromImage(sitk.ReadImage(f'{output_dir}/atlas_400_tens.nhdr')),(3,2,1,0))\n",
    "mask_acc = np.transpose(sitk.GetArrayFromImage(sitk.ReadImage(f'{input_dir}/cubic5_filt_mask.nhdr')),(2,1,0))\n",
    "path_set = []\n",
    "start_coords = [[13, 14, 21]] # golden test start point\n",
    "init_velocities = [None]\n",
    "\n",
    "geo_delta_t = -0.1\n",
    "geo_iters = 500 \n",
    "euler_delta_t = 0.1\n",
    "euler_iters = 8000 \n",
    "\n",
    "# geodesicpath_3d([6,h,w,d],[h,w,d],...)\n",
    "geox, geoy, geoz = geo.geodesicpath_3d(atlas_lin, mask_acc,\\\n",
    "                              start_coords[0], init_velocities[0], \\\n",
    "                              geo_delta_t, iter_num=geo_iters, both_directions=False)\n",
    "\n",
    "# eulerpath_3d([6,h,w,d],[h,w,d],...)\n",
    "# eulx, euly, eulz = euler.eulerpath_3d(atlas_lin, mask_acc,\\\n",
    "#                               start_coords[0], init_velocities[0], euler_delta_t, iter_num=euler_iters, both_directions=False)\n",
    "path_set = [(geox[:-1], geoy[:-1], geoz[:-1])]"
   ]
  },
  {
   "cell_type": "code",
   "execution_count": 84,
   "metadata": {},
   "outputs": [
    {
     "name": "stdout",
     "output_type": "stream",
     "text": [
      "Finding geodesic path from [13, 14, 21] with initial velocity [0.32239139 0.94660646 0.        ]\n"
     ]
    }
   ],
   "source": [
    "input_dir = '/usr/sci/projects/HCP/Kris/NSFCRCNS/TestResults/working_3d_python'\n",
    "output_dir = 'Cubic1246Atlas'\n",
    "s = 1\n",
    "tensor_lin = np.transpose(sitk.GetArrayFromImage(sitk.ReadImage(f'{input_dir}/cubic{s}_scaled_tensors.nhdr')),(3,2,1,0))\n",
    "mask = np.transpose(sitk.GetArrayFromImage(sitk.ReadImage(f'{input_dir}/cubic{s}_filt_mask.nhdr')),(2,1,0))\n",
    "diffeo = sio.loadmat(f'{output_dir}/cubic1_400_phi.mat')['diffeo']\n",
    "geox, geoy, geoz = geo.geodesicpath_3d(tensor_lin, mask,\\\n",
    "                                        start_coords[0], init_velocities[0], \\\n",
    "                                        -geo_delta_t, iter_num=1300, both_directions=False)\n",
    "path_set.append((geox[:-1],geoy[:-1],geoz[:-1]))\n",
    "path_set.append(coord_register(geox[:-1], geoy[:-1], geoz[:-1], diffeo))"
   ]
  },
  {
   "cell_type": "code",
   "execution_count": 85,
   "metadata": {},
   "outputs": [
    {
     "name": "stdout",
     "output_type": "stream",
     "text": [
      "numpts 86\n",
      "smallest,largest max eigenvalue 0.33592650431057974 7.752198883302791\n"
     ]
    },
    {
     "data": {
      "application/vnd.jupyter.widget-view+json": {
       "model_id": "c9f647d9ad12481d9cc227d8466f22eb",
       "version_major": 2,
       "version_minor": 0
      },
      "text/plain": [
       "Viewer(geometries=[{'vtkClass': 'vtkPolyData', 'points': {'vtkClass': 'vtkPoints', 'name': '_points', 'numberO…"
      ]
     },
     "metadata": {},
     "output_type": "display_data"
    }
   ],
   "source": [
    "# view_3d_tensors([h,w,d,6],[h,w,d],...)\n",
    "vwr=view_3d_tensors(np.transpose(atlas_lin,(1,2,3,0)),mask_acc,atlas_lin[3,:,:,:],paths=path_set,stride=6,scale=6)\n",
    "vwr"
   ]
  },
  {
   "cell_type": "markdown",
   "metadata": {},
   "source": [
    "# brain"
   ]
  },
  {
   "cell_type": "code",
   "execution_count": null,
   "metadata": {},
   "outputs": [],
   "source": [
    "%matplotlib widget\n",
    "# plt.imshow(fa_list[0][:,:,110])\n",
    "plt.hist(fa_list[1].flatten().numpy())"
   ]
  },
  {
   "cell_type": "code",
   "execution_count": null,
   "metadata": {},
   "outputs": [],
   "source": [
    "def tensor_cleaning(g, scale_factor):\n",
    "#     det_zero_map = torch.where(torch.det(g)<=0,1.,0.)\n",
    "#     background = torch.einsum(\"mno,ij->mnoij\", torch.ones(*tensor_met_zeros.shape[:3]), torch.eye(3))*scale_factor\n",
    "#     g = g + torch.einsum('ijk...,lijk->ijk...', background, det_zero_map.unsqueeze(0))\n",
    "    e,_ = torch.symeig(g)\n",
    "    lambd1_neg_map = torch.where(e[:,:,:,0]<=0,1.,0.)\n",
    "    lambd2_neg_map = torch.where(e[:,:,:,1]<=0,1.,0.)\n",
    "    lambd3_neg_map = torch.where(e[:,:,:,2]<=0,1.,0.)\n",
    "    abnormal_map = torch.where(lambd1_neg_map+lambd2_neg_map+lambd3_neg_map>0,1.,0.)\n",
    "    background = torch.einsum(\"mno,ij->mnoij\", torch.ones(*tensor_met_zeros.shape[:3]), torch.eye(3))*scale_factor\n",
    "    return torch.einsum('ijk...,lijk->ijk...', g, 1.-abnormal_map.unsqueeze(0))+\\\n",
    "            torch.einsum('ijk...,lijk->ijk...', background, abnormal_map.unsqueeze(0))\n",
    "\n",
    "    \n",
    "def fractional_anisotropy(g):\n",
    "    e, _ = torch.symeig(g)\n",
    "    lambd1 = e[:,:,:,0]\n",
    "    lambd2 = e[:,:,:,1]\n",
    "    lambd3 = e[:,:,:,2]\n",
    "    mean = torch.mean(e,dim=len(e.shape)-1)\n",
    "    return torch.sqrt(3.*(torch.pow((lambd1-mean),2)+torch.pow((lambd2-mean),2)+torch.pow((lambd3-mean),2)))/\\\n",
    "    torch.sqrt(2.*(torch.pow(lambd1,2)+torch.pow(lambd2,2)+torch.pow(lambd3,2)))"
   ]
  },
  {
   "cell_type": "code",
   "execution_count": null,
   "metadata": {},
   "outputs": [],
   "source": [
    "# e, _ = torch.eig(tensor_met_list[0][84,79,110])\n",
    "e=e[:,0].unsqueeze(0).unsqueeze(0).unsqueeze(0)\n",
    "lambd1 = e[:,:,:,0]\n",
    "lambd2 = e[:,:,:,1]\n",
    "lambd3 = e[:,:,:,2]\n",
    "mean = torch.mean(e,dim=len(e.shape)-1)\n",
    "print(torch.sqrt(3.*(torch.pow((lambd1-mean),2)+torch.pow((lambd2-mean),2)+torch.pow((lambd3-mean),2)))/\\\n",
    "    torch.sqrt(2.*(torch.pow(lambd1,2)+torch.pow(lambd2,2)+torch.pow(lambd3,2))))\n",
    "# print(e)"
   ]
  },
  {
   "cell_type": "code",
   "execution_count": null,
   "metadata": {},
   "outputs": [],
   "source": [
    "e, _ = torch.eig(torch.tensor([[0,0,0],[0,0,0],[0,0,0]],dtype=torch.float64))\n",
    "print(e)"
   ]
  },
  {
   "cell_type": "code",
   "execution_count": null,
   "metadata": {},
   "outputs": [],
   "source": [
    "print(fractional_anisotropy(tensor_met_list[0])[17,79,110])\n",
    "# e"
   ]
  },
  {
   "cell_type": "code",
   "execution_count": null,
   "metadata": {},
   "outputs": [],
   "source": [
    "print((fractional_anisotropy(tensor_met_list[0])[:,:,:]>1).nonzero())"
   ]
  },
  {
   "cell_type": "code",
   "execution_count": null,
   "metadata": {},
   "outputs": [],
   "source": [
    "fa_map = torch.where(fa_list[0]>=1,1,0)\n",
    "itkview(fa_map)"
   ]
  },
  {
   "cell_type": "code",
   "execution_count": null,
   "metadata": {},
   "outputs": [],
   "source": [
    "input_dir = '/usr/sci/projects/HCP/Kris/NSFCRCNS/TestResults/working_3d_python'\n",
    "output_dir = 'BrainAtlas'\n",
    "file_name = 111312\n",
    "tensor_np = torch.from_numpy(sitk.GetArrayFromImage(sitk.ReadImage(f'{input_dir}/{file_name}_scaled_tensors.nhdr'))).double().permute(3,2,1,0)\n",
    "mask_np = sitk.GetArrayFromImage(sitk.ReadImage(f'{input_dir}/{file_name}_filt_mask.nhdr'))\n",
    "\n",
    "tensor_met_zeros = torch.zeros(*tensor_np.shape[1:],3,3,dtype=torch.float64)\n",
    "tensor_met_zeros[:,:,:,0,0] = tensor_np[0]\n",
    "tensor_met_zeros[:,:,:,0,1] = tensor_np[1]\n",
    "tensor_met_zeros[:,:,:,0,2] = tensor_np[2]\n",
    "tensor_met_zeros[:,:,:,1,0] = tensor_np[1]\n",
    "tensor_met_zeros[:,:,:,1,1] = tensor_np[3]\n",
    "tensor_met_zeros[:,:,:,1,2] = tensor_np[4]\n",
    "tensor_met_zeros[:,:,:,2,0] = tensor_np[2]\n",
    "tensor_met_zeros[:,:,:,2,1] = tensor_np[4]\n",
    "tensor_met_zeros[:,:,:,2,2] = tensor_np[5]\n",
    "torch.sum(torch.where(torch.det(tensor_met_zeros)<0, 1., 0.))"
   ]
  },
  {
   "cell_type": "code",
   "execution_count": null,
   "metadata": {},
   "outputs": [],
   "source": [
    "sitk.GetArrayFromImage(sitk.ReadImage(f'{input_dir}/{file_name}_scaled_tensors.nhdr')).shape"
   ]
  },
  {
   "cell_type": "code",
   "execution_count": 9,
   "metadata": {},
   "outputs": [],
   "source": [
    "def view_3d_diffeos(diffeo, stride, interp):\n",
    "    height, width, depth = diffeo.shape[1:]\n",
    "    spline = []\n",
    "    for i in range(1,height,stride):\n",
    "        for j in range(1,width,stride):\n",
    "            spline.append(pv.Spline(np.transpose(diffeo[:,i,j,:]), interp))\n",
    "            \n",
    "    for i in range(1,height,stride):\n",
    "        for k in range(1,depth,stride):\n",
    "            spline.append(pv.Spline(np.transpose(diffeo[:,i,:,k]), interp))\n",
    "            \n",
    "#     for j in range(1,width,stride):\n",
    "#         for k in range(1,depth,stride):\n",
    "#             spline.append(pv.Spline(np.transpose(diffeo[:,:,j,k]), interp))\n",
    "            \n",
    "    return itkview(geometries=spline)"
   ]
  },
  {
   "cell_type": "code",
   "execution_count": 10,
   "metadata": {},
   "outputs": [
    {
     "data": {
      "application/vnd.jupyter.widget-view+json": {
       "model_id": "dd95a91ea90044c8a5fdb75359ab3646",
       "version_major": 2,
       "version_minor": 0
      },
      "text/plain": [
       "Viewer(geometries=[{'vtkClass': 'vtkPolyData', 'points': {'vtkClass': 'vtkPoints', 'name': '_points', 'numberO…"
      ]
     },
     "metadata": {},
     "output_type": "display_data"
    }
   ],
   "source": [
    "output_dir = 'BrainAtlas'\n",
    "diffeo = sio.loadmat(f'{output_dir}/105923_25_phi_inv.mat')['diffeo']\n",
    "vwr = view_3d_diffeos(diffeo, 10,1000)\n",
    "vwr"
   ]
  },
  {
   "cell_type": "code",
   "execution_count": null,
   "metadata": {},
   "outputs": [],
   "source": []
  }
 ],
 "metadata": {
  "kernelspec": {
   "display_name": "Python 3",
   "language": "python",
   "name": "python3"
  },
  "language_info": {
   "codemirror_mode": {
    "name": "ipython",
    "version": 3
   },
   "file_extension": ".py",
   "mimetype": "text/x-python",
   "name": "python",
   "nbconvert_exporter": "python",
   "pygments_lexer": "ipython3",
   "version": "3.7.9"
  }
 },
 "nbformat": 4,
 "nbformat_minor": 4
}
