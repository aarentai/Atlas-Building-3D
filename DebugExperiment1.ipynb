{
 "cells": [
  {
   "cell_type": "code",
   "execution_count": 1,
   "metadata": {},
   "outputs": [],
   "source": [
    "import torch\n",
    "from tqdm import tqdm\n",
    "import numpy as np\n",
    "import scipy.io as sio\n",
    "import matplotlib.pyplot as plt\n",
    "import SimpleITK as sitk\n",
    "from lazy_imports import itkwidgets\n",
    "from lazy_imports import itkview\n",
    "from lazy_imports import interactive\n",
    "from lazy_imports import ipywidgets\n",
    "from lazy_imports import pv"
   ]
  },
  {
   "cell_type": "code",
   "execution_count": 2,
   "metadata": {},
   "outputs": [],
   "source": [
    "from mtch.RegistrationFunc3D import *\n",
    "from mtch.SplitEbinMetric3D import *\n",
    "from mtch.GeoPlot import *"
   ]
  },
  {
   "cell_type": "code",
   "execution_count": 3,
   "metadata": {},
   "outputs": [],
   "source": [
    "# from Packages.disp.vis import show_2d, show_2d_tensors\n",
    "from disp.vis import vis_tensors, vis_path, disp_scalar_to_file\n",
    "from disp.vis import disp_vector_to_file, disp_tensor_to_file\n",
    "from disp.vis import disp_gradG_to_file, disp_gradA_to_file\n",
    "from disp.vis import view_3d_tensors, tensors_to_mesh"
   ]
  },
  {
   "cell_type": "code",
   "execution_count": 4,
   "metadata": {},
   "outputs": [],
   "source": [
    "import algo.metricModSolver2d as mms\n",
    "import algo.geodesic as geo\n",
    "import algo.euler as euler\n",
    "import algo.dijkstra as dijkstra"
   ]
  },
  {
   "cell_type": "code",
   "execution_count": 5,
   "metadata": {},
   "outputs": [
    {
     "name": "stdout",
     "output_type": "stream",
     "text": [
      "(6, 100, 100, 41)\n"
     ]
    },
    {
     "data": {
      "text/plain": [
       "0.0008008409777276603"
      ]
     },
     "execution_count": 5,
     "metadata": {},
     "output_type": "execute_result"
    }
   ],
   "source": [
    "path = '/usr/sci/projects/HCP/Kris/NSFCRCNS/TestResults/working_3d_python'\n",
    "s = 1\n",
    "tensor_np = np.transpose(sitk.GetArrayFromImage(sitk.ReadImage(f'{path}/cubic{s}_orig_tensors.nhdr')),(3,2,1,0))\n",
    "print(tensor_np.shape)\n",
    "# mask_np = np.transpose(sitk.GetArrayFromImage(sitk.ReadImage(f'{path}/cubic{s}_filt_mask.nhdr')),(2,1,0))\n",
    "np.mean(tensor_np[:,:,:,21]-tensor_np[:,:,:,19])"
   ]
  },
  {
   "cell_type": "code",
   "execution_count": 6,
   "metadata": {},
   "outputs": [
    {
     "data": {
      "text/plain": [
       "0.006613043901924739"
      ]
     },
     "execution_count": 6,
     "metadata": {},
     "output_type": "execute_result"
    }
   ],
   "source": [
    "path = '/usr/sci/projects/HCP/Kris/NSFCRCNS/TestResults/working_3d_python'\n",
    "s = 1\n",
    "tensor_np = np.transpose(sitk.GetArrayFromImage(sitk.ReadImage(f'{path}/cubic{s}_orig_tensors.nhdr')),(3,2,1,0))\n",
    "# mask_np = np.transpose(sitk.GetArrayFromImage(sitk.ReadImage(f'{path}/cubic{s}_filt_mask.nhdr')),(2,1,0))\n",
    "np.mean(tensor_np[:,:,:,22]-tensor_np[:,:,:,18])"
   ]
  },
  {
   "cell_type": "code",
   "execution_count": 7,
   "metadata": {},
   "outputs": [
    {
     "data": {
      "text/plain": [
       "0.013798560802689663"
      ]
     },
     "execution_count": 7,
     "metadata": {},
     "output_type": "execute_result"
    }
   ],
   "source": [
    "path = '/usr/sci/projects/HCP/Kris/NSFCRCNS/TestResults/working_3d_python'\n",
    "s = 1\n",
    "tensor_np = np.transpose(sitk.GetArrayFromImage(sitk.ReadImage(f'{path}/cubic{s}_orig_tensors.nhdr')),(3,2,1,0))\n",
    "# mask_np = np.transpose(sitk.GetArrayFromImage(sitk.ReadImage(f'{path}/cubic{s}_filt_mask.nhdr')),(2,1,0))\n",
    "np.mean(tensor_np[:,:,:,23]-tensor_np[:,:,:,17])"
   ]
  },
  {
   "cell_type": "code",
   "execution_count": 8,
   "metadata": {},
   "outputs": [
    {
     "data": {
      "text/plain": [
       "0.0015515587368096222"
      ]
     },
     "execution_count": 8,
     "metadata": {},
     "output_type": "execute_result"
    }
   ],
   "source": [
    "path = '/usr/sci/projects/HCP/Kris/NSFCRCNS/TestResults/working_3d_python'\n",
    "s = 2\n",
    "tensor_np = np.transpose(sitk.GetArrayFromImage(sitk.ReadImage(f'{path}/cubic{s}_orig_tensors.nhdr')),(3,2,1,0))\n",
    "# mask_np = np.transpose(sitk.GetArrayFromImage(sitk.ReadImage(f'{path}/cubic{s}_filt_mask.nhdr')),(2,1,0))\n",
    "np.mean(tensor_np[:,:,:,21]-tensor_np[:,:,:,19])"
   ]
  },
  {
   "cell_type": "code",
   "execution_count": 9,
   "metadata": {},
   "outputs": [
    {
     "data": {
      "text/plain": [
       "0.0009034099626365979"
      ]
     },
     "execution_count": 9,
     "metadata": {},
     "output_type": "execute_result"
    }
   ],
   "source": [
    "path = '/usr/sci/projects/HCP/Kris/NSFCRCNS/TestResults/working_3d_python'\n",
    "s = 4\n",
    "tensor_np = np.transpose(sitk.GetArrayFromImage(sitk.ReadImage(f'{path}/cubic{s}_orig_tensors.nhdr')),(3,2,1,0))\n",
    "# mask_np = np.transpose(sitk.GetArrayFromImage(sitk.ReadImage(f'{path}/cubic{s}_filt_mask.nhdr')),(2,1,0))\n",
    "np.mean(tensor_np[:,:,:,21]-tensor_np[:,:,:,19])"
   ]
  },
  {
   "cell_type": "code",
   "execution_count": 10,
   "metadata": {},
   "outputs": [
    {
     "data": {
      "text/plain": [
       "0.0014410623116006644"
      ]
     },
     "execution_count": 10,
     "metadata": {},
     "output_type": "execute_result"
    }
   ],
   "source": [
    "path = '/usr/sci/projects/HCP/Kris/NSFCRCNS/TestResults/working_3d_python'\n",
    "s = 6\n",
    "tensor_np = np.transpose(sitk.GetArrayFromImage(sitk.ReadImage(f'{path}/cubic{s}_orig_tensors.nhdr')),(3,2,1,0))\n",
    "# mask_np = np.transpose(sitk.GetArrayFromImage(sitk.ReadImage(f'{path}/cubic{s}_filt_mask.nhdr')),(2,1,0))\n",
    "np.mean(tensor_np[:,:,:,21]-tensor_np[:,:,:,19])"
   ]
  },
  {
   "cell_type": "code",
   "execution_count": 11,
   "metadata": {},
   "outputs": [
    {
     "data": {
      "text/plain": [
       "(6, 100, 100, 41)"
      ]
     },
     "execution_count": 11,
     "metadata": {},
     "output_type": "execute_result"
    }
   ],
   "source": [
    "tensor_np.shape"
   ]
  },
  {
   "cell_type": "code",
   "execution_count": 12,
   "metadata": {},
   "outputs": [
    {
     "ename": "NameError",
     "evalue": "name 'mask_np' is not defined",
     "output_type": "error",
     "traceback": [
      "\u001b[0;31m---------------------------------------------------------------------------\u001b[0m",
      "\u001b[0;31mNameError\u001b[0m                                 Traceback (most recent call last)",
      "\u001b[0;32m<ipython-input-12-d7db2e426be1>\u001b[0m in \u001b[0;36m<module>\u001b[0;34m\u001b[0m\n\u001b[1;32m     12\u001b[0m \u001b[0;34m\u001b[0m\u001b[0m\n\u001b[1;32m     13\u001b[0m \u001b[0;31m# geodesicpath_3d([6,h,w,d],[h,w,d],...)\u001b[0m\u001b[0;34m\u001b[0m\u001b[0;34m\u001b[0m\u001b[0;34m\u001b[0m\u001b[0m\n\u001b[0;32m---> 14\u001b[0;31m geox, geoy, geoz = geo.geodesicpath_3d(tensor_np, mask_np,\\\n\u001b[0m\u001b[1;32m     15\u001b[0m                               \u001b[0mstart_coords\u001b[0m\u001b[0;34m[\u001b[0m\u001b[0;36m0\u001b[0m\u001b[0;34m]\u001b[0m\u001b[0;34m,\u001b[0m \u001b[0minit_velocities\u001b[0m\u001b[0;34m[\u001b[0m\u001b[0;36m0\u001b[0m\u001b[0;34m]\u001b[0m\u001b[0;34m,\u001b[0m\u001b[0;31m \u001b[0m\u001b[0;31m\\\u001b[0m\u001b[0;34m\u001b[0m\u001b[0;34m\u001b[0m\u001b[0m\n\u001b[1;32m     16\u001b[0m                               geo_delta_t, iter_num=geo_iters, both_directions=True)\n",
      "\u001b[0;31mNameError\u001b[0m: name 'mask_np' is not defined"
     ]
    }
   ],
   "source": [
    "# start_coords = [[17, 22, 21]]\n",
    "# start_coords = [[50, 51, 21]]\n",
    "# start_coords = [[83, 71, 21]]\n",
    "start_coords = [[13, 14, 21]]\n",
    "init_velocities = [None]\n",
    "# tens_4_path = atlas_lin\n",
    "\n",
    "geo_delta_t = 0.1#0.01#0.005\n",
    "geo_iters = 1200 # 22000 for Kris annulus(delta_t=0.005), 32000 for cubic (delta_t=0.005)\n",
    "euler_delta_t = 0.01\n",
    "euler_iters = 8000 # 14600\n",
    "\n",
    "# geodesicpath_3d([6,h,w,d],[h,w,d],...)\n",
    "geox, geoy, geoz = geo.geodesicpath_3d(tensor_np, mask_np,\\\n",
    "                              start_coords[0], init_velocities[0], \\\n",
    "                              geo_delta_t, iter_num=geo_iters, both_directions=True)\n",
    "#scalegeox, scalegeoy = geo.geodesicpath(scaled_tens_4_path, filt_mask,\\\n",
    "#                              start_coords[0], init_velocities[0], \\\n",
    "#                              geo_delta_t, iter_num=geo_iters)\n",
    "\n",
    "# eulerpath_3d([6,h,w,d],[h,w,d],...)\n",
    "# eulx, euly, eulz = euler.eulerpath_3d(tensor_np, mask_np,\\\n",
    "#                               start_coords[0], init_velocities[0], euler_delta_t, iter_num=euler_iters, both_directions=True)"
   ]
  },
  {
   "cell_type": "code",
   "execution_count": 13,
   "metadata": {},
   "outputs": [
    {
     "ename": "NameError",
     "evalue": "name 'mask_np' is not defined",
     "output_type": "error",
     "traceback": [
      "\u001b[0;31m---------------------------------------------------------------------------\u001b[0m",
      "\u001b[0;31mNameError\u001b[0m                                 Traceback (most recent call last)",
      "\u001b[0;32m<ipython-input-13-980459601767>\u001b[0m in \u001b[0;36m<module>\u001b[0;34m\u001b[0m\n\u001b[1;32m      4\u001b[0m \u001b[0;31m# eultube = eulspline.tube(radius=0.5)\u001b[0m\u001b[0;34m\u001b[0m\u001b[0;34m\u001b[0m\u001b[0;34m\u001b[0m\u001b[0m\n\u001b[1;32m      5\u001b[0m \u001b[0;31m# view_3d_tensors([h,w,d,6],[h,w,d],...)\u001b[0m\u001b[0;34m\u001b[0m\u001b[0;34m\u001b[0m\u001b[0;34m\u001b[0m\u001b[0m\n\u001b[0;32m----> 6\u001b[0;31m \u001b[0mvwr\u001b[0m\u001b[0;34m=\u001b[0m\u001b[0mview_3d_tensors\u001b[0m\u001b[0;34m(\u001b[0m\u001b[0mnp\u001b[0m\u001b[0;34m.\u001b[0m\u001b[0mtranspose\u001b[0m\u001b[0;34m(\u001b[0m\u001b[0mtensor_np\u001b[0m\u001b[0;34m,\u001b[0m\u001b[0;34m(\u001b[0m\u001b[0;36m1\u001b[0m\u001b[0;34m,\u001b[0m\u001b[0;36m2\u001b[0m\u001b[0;34m,\u001b[0m\u001b[0;36m3\u001b[0m\u001b[0;34m,\u001b[0m\u001b[0;36m0\u001b[0m\u001b[0;34m)\u001b[0m\u001b[0;34m)\u001b[0m\u001b[0;34m,\u001b[0m\u001b[0mmask_np\u001b[0m\u001b[0;34m,\u001b[0m\u001b[0mmask_np\u001b[0m\u001b[0;34m,\u001b[0m\u001b[0mpaths\u001b[0m\u001b[0;34m=\u001b[0m\u001b[0;34m[\u001b[0m\u001b[0;34m(\u001b[0m\u001b[0mgeox\u001b[0m\u001b[0;34m[\u001b[0m\u001b[0;34m:\u001b[0m\u001b[0mgeo_iters\u001b[0m\u001b[0;34m-\u001b[0m\u001b[0;36m1\u001b[0m\u001b[0;34m]\u001b[0m\u001b[0;34m,\u001b[0m\u001b[0mgeoy\u001b[0m\u001b[0;34m[\u001b[0m\u001b[0;34m:\u001b[0m\u001b[0mgeo_iters\u001b[0m\u001b[0;34m-\u001b[0m\u001b[0;36m1\u001b[0m\u001b[0;34m]\u001b[0m\u001b[0;34m,\u001b[0m\u001b[0mgeoz\u001b[0m\u001b[0;34m[\u001b[0m\u001b[0;34m:\u001b[0m\u001b[0mgeo_iters\u001b[0m\u001b[0;34m-\u001b[0m\u001b[0;36m1\u001b[0m\u001b[0;34m]\u001b[0m\u001b[0;34m)\u001b[0m\u001b[0;34m]\u001b[0m\u001b[0;34m,\u001b[0m\u001b[0mstride\u001b[0m\u001b[0;34m=\u001b[0m\u001b[0;36m7\u001b[0m\u001b[0;34m,\u001b[0m\u001b[0mscale\u001b[0m\u001b[0;34m=\u001b[0m\u001b[0;36m6\u001b[0m\u001b[0;34m)\u001b[0m\u001b[0;34m\u001b[0m\u001b[0;34m\u001b[0m\u001b[0m\n\u001b[0m\u001b[1;32m      7\u001b[0m \u001b[0;31m# vwr=view_3d_tensors(np.transpose(tensor_np,(1,2,3,0)),mask_np,mask_np,paths=[(eulx,euly,eulz)],stride=7,scale=6)\u001b[0m\u001b[0;34m\u001b[0m\u001b[0;34m\u001b[0m\u001b[0;34m\u001b[0m\u001b[0m\n\u001b[1;32m      8\u001b[0m \u001b[0mvwr\u001b[0m\u001b[0;34m\u001b[0m\u001b[0;34m\u001b[0m\u001b[0m\n",
      "\u001b[0;31mNameError\u001b[0m: name 'mask_np' is not defined"
     ]
    }
   ],
   "source": [
    "# geospline=pv.Spline(np.column_stack((geoz, geoy, geox)), 500)\n",
    "# geotube = geospline.tube(radius=0.5)\n",
    "# eulspline=pv.Spline(np.column_stack((eulz, euly, eulx)), 500)\n",
    "# eultube = eulspline.tube(radius=0.5)\n",
    "# view_3d_tensors([h,w,d,6],[h,w,d],...)\n",
    "vwr=view_3d_tensors(np.transpose(tensor_np,(1,2,3,0)),mask_np,mask_np,paths=[(geox[:geo_iters-1],geoy[:geo_iters-1],geoz[:geo_iters-1])],stride=7,scale=6)\n",
    "# vwr=view_3d_tensors(np.transpose(tensor_np,(1,2,3,0)),mask_np,mask_np,paths=[(eulx,euly,eulz)],stride=7,scale=6)\n",
    "vwr"
   ]
  },
  {
   "cell_type": "code",
   "execution_count": 14,
   "metadata": {},
   "outputs": [
    {
     "ename": "NameError",
     "evalue": "name 'geox' is not defined",
     "output_type": "error",
     "traceback": [
      "\u001b[0;31m---------------------------------------------------------------------------\u001b[0m",
      "\u001b[0;31mNameError\u001b[0m                                 Traceback (most recent call last)",
      "\u001b[0;32m<ipython-input-14-c76bef1306eb>\u001b[0m in \u001b[0;36m<module>\u001b[0;34m\u001b[0m\n\u001b[0;32m----> 1\u001b[0;31m \u001b[0mgeox\u001b[0m\u001b[0;34m.\u001b[0m\u001b[0mshape\u001b[0m\u001b[0;34m\u001b[0m\u001b[0;34m\u001b[0m\u001b[0m\n\u001b[0m",
      "\u001b[0;31mNameError\u001b[0m: name 'geox' is not defined"
     ]
    }
   ],
   "source": [
    "geox.shape"
   ]
  },
  {
   "cell_type": "code",
   "execution_count": 10,
   "metadata": {},
   "outputs": [],
   "source": [
    "def view_3d_diffeos(diffeo, stride, interp):\n",
    "    height, width, depth = diffeo.shape[1:]\n",
    "    spline = []\n",
    "    for i in range(1,height,stride):\n",
    "        for j in range(1,width,stride):\n",
    "            spline.append(pv.Spline(np.transpose(diffeo[:,i,j,:]), interp))\n",
    "            \n",
    "#     for i in range(1,height,stride):\n",
    "#         for k in range(1,depth,stride):\n",
    "#             spline.append(pv.Spline(np.transpose(diffeo[:,i,:,k]), interp))\n",
    "            \n",
    "#     for j in range(1,width,stride):\n",
    "#         for k in range(1,depth,stride):\n",
    "#             spline.append(pv.Spline(np.transpose(diffeo[:,:,j,k]), interp))\n",
    "            \n",
    "    return itkview(geometries=spline)"
   ]
  },
  {
   "cell_type": "code",
   "execution_count": 15,
   "metadata": {},
   "outputs": [
    {
     "data": {
      "application/vnd.jupyter.widget-view+json": {
       "model_id": "e86f3ba0fd62472da543f65ac7ca7b68",
       "version_major": 2,
       "version_minor": 0
      },
      "text/plain": [
       "Viewer(geometries=[{'vtkClass': 'vtkPolyData', 'points': {'vtkClass': 'vtkPoints', 'name': '_points', 'numberO…"
      ]
     },
     "metadata": {},
     "output_type": "display_data"
    }
   ],
   "source": [
    "output_dir = 'Cubic1246AtlasNoDeviation2e-3'\n",
    "diffeo = sio.loadmat(f'{output_dir}/cubic1_100_phi_inv.mat')['diffeo']\n",
    "vwr = view_3d_diffeos(diffeo, 10,1000)\n",
    "vwr"
   ]
  },
  {
   "cell_type": "code",
   "execution_count": 16,
   "metadata": {},
   "outputs": [
    {
     "data": {
      "application/vnd.jupyter.widget-view+json": {
       "model_id": "4e4111cdc03a488380345014295ab284",
       "version_major": 2,
       "version_minor": 0
      },
      "text/plain": [
       "Viewer(geometries=[{'vtkClass': 'vtkPolyData', 'points': {'vtkClass': 'vtkPoints', 'name': '_points', 'numberO…"
      ]
     },
     "metadata": {},
     "output_type": "display_data"
    }
   ],
   "source": [
    "output_dir = 'Cubic1246Atlas'\n",
    "diffeo = sio.loadmat(f'{output_dir}/cubic1_100_phi_inv.mat')['diffeo']\n",
    "vwr = view_3d_diffeos(diffeo, 10,1000)\n",
    "vwr"
   ]
  },
  {
   "cell_type": "code",
   "execution_count": 37,
   "metadata": {},
   "outputs": [
    {
     "name": "stdout",
     "output_type": "stream",
     "text": [
      "Finding geodesic path from [13, 14, 21] with initial velocity [-2.78320707e-01 -9.60488152e-01  3.06480418e-04]\n",
      "numpts 86\n",
      "smallest,largest max eigenvalue 0.3127716010427184 8.285921962550137\n"
     ]
    },
    {
     "data": {
      "application/vnd.jupyter.widget-view+json": {
       "model_id": "3bc6d8358d8944c697fae777b928327f",
       "version_major": 2,
       "version_minor": 0
      },
      "text/plain": [
       "Viewer(geometries=[{'vtkClass': 'vtkPolyData', 'points': {'vtkClass': 'vtkPoints', 'name': '_points', 'numberO…"
      ]
     },
     "metadata": {},
     "output_type": "display_data"
    }
   ],
   "source": [
    "input_dir = '/usr/sci/projects/HCP/Kris/NSFCRCNS/TestResults/working_3d_python'\n",
    "output_dir = 'Cubic1246AtlasNoDeviation'\n",
    "atlas_lin = np.transpose(sitk.GetArrayFromImage(sitk.ReadImage(f'{output_dir}/atlas_400_tens.nhdr')),(3,2,1,0))\n",
    "mask_acc = np.transpose(sitk.GetArrayFromImage(sitk.ReadImage(f'{input_dir}/cubic5_filt_mask.nhdr')),(2,1,0))\n",
    "path_set = []\n",
    "# start_coords = [[17, 22, 21]]\n",
    "# start_coords = [[50, 51, 21]]\n",
    "# start_coords = [[83, 71, 21]] \n",
    "start_coords = [[13, 14, 21]] # golden test start point\n",
    "init_velocities = [None]\n",
    "\n",
    "geo_delta_t = -0.1\n",
    "geo_iters = 500 \n",
    "euler_delta_t = 0.1\n",
    "euler_iters = 8000 \n",
    "\n",
    "# geodesicpath_3d([6,h,w,d],[h,w,d],...)\n",
    "geox, geoy, geoz = geo.geodesicpath_3d(atlas_lin, mask_acc,\\\n",
    "                              start_coords[0], init_velocities[0], \\\n",
    "                              geo_delta_t, iter_num=geo_iters, both_directions=False)\n",
    "\n",
    "# eulerpath_3d([6,h,w,d],[h,w,d],...)\n",
    "# eulx, euly, eulz = euler.eulerpath_3d(atlas_lin, mask_acc,\\\n",
    "#                               start_coords[0], init_velocities[0], euler_delta_t, iter_num=euler_iters, both_directions=False)\n",
    "path_set = [(geox[:-1], geoy[:-1], geoz[:-1])]\n",
    "\n",
    "# view_3d_tensors([h,w,d,6],[h,w,d],...)\n",
    "vwr=view_3d_tensors(np.transpose(atlas_lin,(1,2,3,0)),mask_acc,atlas_lin[3,:,:,:],paths=path_set,stride=6,scale=6)\n",
    "vwr"
   ]
  },
  {
   "cell_type": "code",
   "execution_count": 30,
   "metadata": {},
   "outputs": [
    {
     "name": "stdout",
     "output_type": "stream",
     "text": [
      "Finding geodesic path from [13, 14, 21] with initial velocity [-2.81913076e-01 -9.59439950e-01  1.73268427e-05]\n",
      "numpts 86\n",
      "smallest,largest max eigenvalue 0.31286437684354523 8.30988022110784\n"
     ]
    },
    {
     "data": {
      "application/vnd.jupyter.widget-view+json": {
       "model_id": "",
       "version_major": 2,
       "version_minor": 0
      },
      "text/plain": [
       "Viewer(geometries=[{'vtkClass': 'vtkPolyData', 'points': {'vtkClass': 'vtkPoints', 'name': '_points', 'numberO…"
      ]
     },
     "metadata": {},
     "output_type": "display_data"
    }
   ],
   "source": [
    "input_dir = '/usr/sci/projects/HCP/Kris/NSFCRCNS/TestResults/working_3d_python'\n",
    "output_dir = 'Cubic1246AtlasNoDeviation'\n",
    "atlas_lin = np.transpose(sitk.GetArrayFromImage(sitk.ReadImage(f'{output_dir}/atlas_300_tens.nhdr')),(3,2,1,0))\n",
    "mask_acc = np.transpose(sitk.GetArrayFromImage(sitk.ReadImage(f'{input_dir}/cubic5_filt_mask.nhdr')),(2,1,0))\n",
    "path_set = []\n",
    "# start_coords = [[17, 22, 21]]\n",
    "# start_coords = [[50, 51, 21]]\n",
    "# start_coords = [[83, 71, 21]] \n",
    "start_coords = [[13, 14, 21]] # golden test start point\n",
    "init_velocities = [None]\n",
    "\n",
    "geo_delta_t = -0.1\n",
    "geo_iters = 500 \n",
    "euler_delta_t = 0.1\n",
    "euler_iters = 8000 \n",
    "\n",
    "# geodesicpath_3d([6,h,w,d],[h,w,d],...)\n",
    "geox, geoy, geoz = geo.geodesicpath_3d(atlas_lin, mask_acc,\\\n",
    "                              start_coords[0], init_velocities[0], \\\n",
    "                              geo_delta_t, iter_num=geo_iters, both_directions=False)\n",
    "\n",
    "# eulerpath_3d([6,h,w,d],[h,w,d],...)\n",
    "# eulx, euly, eulz = euler.eulerpath_3d(atlas_lin, mask_acc,\\\n",
    "#                               start_coords[0], init_velocities[0], euler_delta_t, iter_num=euler_iters, both_directions=False)\n",
    "path_set = [(geox[:-1], geoy[:-1], geoz[:-1])]\n",
    "\n",
    "# view_3d_tensors([h,w,d,6],[h,w,d],...)\n",
    "vwr=view_3d_tensors(np.transpose(atlas_lin,(1,2,3,0)),mask_acc,atlas_lin[3,:,:,:],paths=path_set,stride=6,scale=6)\n",
    "vwr"
   ]
  },
  {
   "cell_type": "code",
   "execution_count": 35,
   "metadata": {},
   "outputs": [
    {
     "name": "stdout",
     "output_type": "stream",
     "text": [
      "Finding geodesic path from [13, 14, 21] with initial velocity [-2.89026321e-01 -9.57321010e-01 -5.19338630e-04]\n",
      "numpts 86\n",
      "smallest,largest max eigenvalue 0.3131327619843758 8.32288541203232\n"
     ]
    },
    {
     "data": {
      "application/vnd.jupyter.widget-view+json": {
       "model_id": "822d3bd98af64fe18f79955177c51339",
       "version_major": 2,
       "version_minor": 0
      },
      "text/plain": [
       "Viewer(geometries=[{'vtkClass': 'vtkPolyData', 'points': {'vtkClass': 'vtkPoints', 'name': '_points', 'numberO…"
      ]
     },
     "metadata": {},
     "output_type": "display_data"
    }
   ],
   "source": [
    "input_dir = '/usr/sci/projects/HCP/Kris/NSFCRCNS/TestResults/working_3d_python'\n",
    "output_dir = 'Cubic1246AtlasNoDeviation'\n",
    "atlas_lin = np.transpose(sitk.GetArrayFromImage(sitk.ReadImage(f'{output_dir}/atlas_200_tens.nhdr')),(3,2,1,0))\n",
    "mask_acc = np.transpose(sitk.GetArrayFromImage(sitk.ReadImage(f'{input_dir}/cubic5_filt_mask.nhdr')),(2,1,0))\n",
    "path_set = []\n",
    "# start_coords = [[17, 22, 21]]\n",
    "# start_coords = [[50, 51, 21]]\n",
    "# start_coords = [[83, 71, 21]] \n",
    "start_coords = [[13, 14, 21]] # golden test start point\n",
    "init_velocities = [None]\n",
    "\n",
    "geo_delta_t = -0.1\n",
    "geo_iters = 500 \n",
    "euler_delta_t = 0.1\n",
    "euler_iters = 8000 \n",
    "\n",
    "# geodesicpath_3d([6,h,w,d],[h,w,d],...)\n",
    "geox, geoy, geoz = geo.geodesicpath_3d(atlas_lin, mask_acc,\\\n",
    "                              start_coords[0], init_velocities[0], \\\n",
    "                              geo_delta_t, iter_num=geo_iters, both_directions=False)\n",
    "\n",
    "# eulerpath_3d([6,h,w,d],[h,w,d],...)\n",
    "# eulx, euly, eulz = euler.eulerpath_3d(atlas_lin, mask_acc,\\\n",
    "#                               start_coords[0], init_velocities[0], euler_delta_t, iter_num=euler_iters, both_directions=False)\n",
    "path_set = [(geox[:-1], geoy[:-1], geoz[:-1])]\n",
    "\n",
    "# view_3d_tensors([h,w,d,6],[h,w,d],...)\n",
    "vwr=view_3d_tensors(np.transpose(atlas_lin,(1,2,3,0)),mask_acc,atlas_lin[3,:,:,:],paths=path_set,stride=6,scale=6)\n",
    "vwr"
   ]
  },
  {
   "cell_type": "code",
   "execution_count": 36,
   "metadata": {},
   "outputs": [
    {
     "name": "stdout",
     "output_type": "stream",
     "text": [
      "Finding geodesic path from [13, 14, 21] with initial velocity [-0.30205263 -0.9532901  -0.00147941]\n",
      "numpts 86\n",
      "smallest,largest max eigenvalue 0.31123498296414787 8.32167831653566\n"
     ]
    },
    {
     "data": {
      "application/vnd.jupyter.widget-view+json": {
       "model_id": "10bb6fc3852f44bf8a4ef4b29dd66537",
       "version_major": 2,
       "version_minor": 0
      },
      "text/plain": [
       "Viewer(geometries=[{'vtkClass': 'vtkPolyData', 'points': {'vtkClass': 'vtkPoints', 'name': '_points', 'numberO…"
      ]
     },
     "metadata": {},
     "output_type": "display_data"
    }
   ],
   "source": [
    "input_dir = '/usr/sci/projects/HCP/Kris/NSFCRCNS/TestResults/working_3d_python'\n",
    "output_dir = 'Cubic1246AtlasNoDeviation'\n",
    "atlas_lin = np.transpose(sitk.GetArrayFromImage(sitk.ReadImage(f'{output_dir}/atlas_100_tens.nhdr')),(3,2,1,0))\n",
    "mask_acc = np.transpose(sitk.GetArrayFromImage(sitk.ReadImage(f'{input_dir}/cubic5_filt_mask.nhdr')),(2,1,0))\n",
    "path_set = []\n",
    "# start_coords = [[17, 22, 21]]\n",
    "# start_coords = [[50, 51, 21]]\n",
    "# start_coords = [[83, 71, 21]] \n",
    "start_coords = [[13, 14, 21]] # golden test start point\n",
    "init_velocities = [None]\n",
    "\n",
    "geo_delta_t = -0.1\n",
    "geo_iters = 500 \n",
    "euler_delta_t = 0.1\n",
    "euler_iters = 8000 \n",
    "\n",
    "# geodesicpath_3d([6,h,w,d],[h,w,d],...)\n",
    "geox, geoy, geoz = geo.geodesicpath_3d(atlas_lin, mask_acc,\\\n",
    "                              start_coords[0], init_velocities[0], \\\n",
    "                              geo_delta_t, iter_num=geo_iters, both_directions=False)\n",
    "\n",
    "# eulerpath_3d([6,h,w,d],[h,w,d],...)\n",
    "# eulx, euly, eulz = euler.eulerpath_3d(atlas_lin, mask_acc,\\\n",
    "#                               start_coords[0], init_velocities[0], euler_delta_t, iter_num=euler_iters, both_directions=False)\n",
    "path_set = [(geox[:-1], geoy[:-1], geoz[:-1])]\n",
    "\n",
    "# view_3d_tensors([h,w,d,6],[h,w,d],...)\n",
    "vwr=view_3d_tensors(np.transpose(atlas_lin,(1,2,3,0)),mask_acc,atlas_lin[3,:,:,:],paths=path_set,stride=6,scale=6)\n",
    "vwr"
   ]
  },
  {
   "cell_type": "code",
   "execution_count": 8,
   "metadata": {},
   "outputs": [
    {
     "name": "stdout",
     "output_type": "stream",
     "text": [
      "Finding geodesic path from [13, 14, 21] with initial velocity [-2.74761161e-01 -9.61512230e-01  7.32159120e-04]\n",
      "numpts 86\n",
      "smallest,largest max eigenvalue 0.3226550052204432 8.253832031595914\n"
     ]
    },
    {
     "data": {
      "application/vnd.jupyter.widget-view+json": {
       "model_id": "",
       "version_major": 2,
       "version_minor": 0
      },
      "text/plain": [
       "Viewer(geometries=[{'vtkClass': 'vtkPolyData', 'points': {'vtkClass': 'vtkPoints', 'name': '_points', 'numberO…"
      ]
     },
     "metadata": {},
     "output_type": "display_data"
    }
   ],
   "source": [
    "input_dir = '/usr/sci/projects/HCP/Kris/NSFCRCNS/TestResults/working_3d_python'\n",
    "output_dir = 'Cubic1246AtlasNoDeviation2e-3'\n",
    "atlas_lin = np.transpose(sitk.GetArrayFromImage(sitk.ReadImage(f'{output_dir}/atlas_100_tens.nhdr')),(3,2,1,0))\n",
    "mask_acc = np.transpose(sitk.GetArrayFromImage(sitk.ReadImage(f'{input_dir}/cubic5_filt_mask.nhdr')),(2,1,0))\n",
    "path_set = []\n",
    "# start_coords = [[17, 22, 21]]\n",
    "# start_coords = [[50, 51, 21]]\n",
    "# start_coords = [[83, 71, 21]] \n",
    "start_coords = [[13, 14, 21]] # golden test start point\n",
    "init_velocities = [None]\n",
    "\n",
    "geo_delta_t = -0.1\n",
    "geo_iters = 500 \n",
    "euler_delta_t = 0.1\n",
    "euler_iters = 8000 \n",
    "\n",
    "# geodesicpath_3d([6,h,w,d],[h,w,d],...)\n",
    "geox, geoy, geoz = geo.geodesicpath_3d(atlas_lin, mask_acc,\\\n",
    "                              start_coords[0], init_velocities[0], \\\n",
    "                              geo_delta_t, iter_num=geo_iters, both_directions=False)\n",
    "\n",
    "# eulerpath_3d([6,h,w,d],[h,w,d],...)\n",
    "# eulx, euly, eulz = euler.eulerpath_3d(atlas_lin, mask_acc,\\\n",
    "#                               start_coords[0], init_velocities[0], euler_delta_t, iter_num=euler_iters, both_directions=False)\n",
    "path_set = [(geox[:-1], geoy[:-1], geoz[:-1])]\n",
    "\n",
    "# view_3d_tensors([h,w,d,6],[h,w,d],...)\n",
    "vwr=view_3d_tensors(np.transpose(atlas_lin,(1,2,3,0)),mask_acc,atlas_lin[3,:,:,:],paths=path_set,stride=6,scale=6)\n",
    "vwr"
   ]
  },
  {
   "cell_type": "code",
   "execution_count": 61,
   "metadata": {},
   "outputs": [],
   "source": [
    "import math\n",
    "def coord_register(point_x, point_y, point_z, diffeo):\n",
    "  # TODO work out which is y and which is x, maintain consistency.\n",
    "  # For now, pass in y for point_x, x for point_y\n",
    "    height, width, depth=diffeo.shape[-3:]\n",
    "    new_point_x, new_point_y, new_point_z = [], [], []\n",
    "    for i in range(len(point_x)):\n",
    "        C = point_x[i] - math.floor(point_x[i])\n",
    "        D = point_y[i] - math.floor(point_y[i])\n",
    "        E = point_z[i] - math.floor(point_z[i])\n",
    "        new_point_x.append(\\\n",
    "          (1.-C)*(1.-D)*(1.-E)*diffeo[0, math.floor(point_x[i])%height, math.floor(point_y[i])%width, math.floor(point_z[i])%depth]\\\n",
    "        + (1.-C)*D*(1.-E)*diffeo[0, math.floor(point_x[i])%height, math.ceil(point_y[i])%width, math.floor(point_z[i])%depth]\\\n",
    "        + C*(1.-D)*(1.-E)*diffeo[0, math.ceil(point_x[i])%height, math.floor(point_y[i])%width, math.floor(point_z[i])%depth]\\\n",
    "        + C*D*(1.-E)*diffeo[0, math.ceil(point_x[i])%height, math.ceil(point_y[i])%width, math.floor(point_z[i])%depth]\\\n",
    "        + (1.-C)*(1.-D)*E*diffeo[0, math.floor(point_x[i])%height, math.floor(point_y[i])%width, math.ceil(point_z[i])%depth]\\\n",
    "        + (1.-C)*D*E*diffeo[0, math.floor(point_x[i])%height, math.ceil(point_y[i])%width, math.ceil(point_z[i])%depth]\\\n",
    "        + C*(1.-D)*E*diffeo[0, math.ceil(point_x[i])%height, math.floor(point_y[i])%width, math.ceil(point_z[i])%depth]\\\n",
    "        + C*D*E*diffeo[0, math.ceil(point_x[i])%height, math.ceil(point_y[i])%width, math.ceil(point_z[i])%depth])\n",
    "\n",
    "        new_point_y.append(\\\n",
    "          (1.-C)*(1.-D)*(1.-E)*diffeo[1, math.floor(point_x[i])%height, math.floor(point_y[i])%width, math.floor(point_z[i])%depth]\\\n",
    "        + (1.-C)*D*(1.-E)*diffeo[1, math.floor(point_x[i])%height, math.ceil(point_y[i])%width, math.floor(point_z[i])%depth]\\\n",
    "        + C*(1.-D)*(1.-E)*diffeo[1, math.ceil(point_x[i])%height, math.floor(point_y[i])%width, math.floor(point_z[i])%depth]\\\n",
    "        + C*D*(1.-E)*diffeo[1, math.ceil(point_x[i])%height, math.ceil(point_y[i])%width, math.floor(point_z[i])%depth]\\\n",
    "        + (1.-C)*(1.-D)*E*diffeo[1, math.floor(point_x[i])%height, math.floor(point_y[i])%width, math.ceil(point_z[i])%depth]\\\n",
    "        + (1.-C)*D*E*diffeo[1, math.floor(point_x[i])%height, math.ceil(point_y[i])%width, math.ceil(point_z[i])%depth]\\\n",
    "        + C*(1.-D)*E*diffeo[1, math.ceil(point_x[i])%height, math.floor(point_y[i])%width, math.ceil(point_z[i])%depth]\\\n",
    "        + C*D*E*diffeo[1, math.ceil(point_x[i])%height, math.ceil(point_y[i])%width, math.ceil(point_z[i])%depth])\n",
    "\n",
    "        new_point_z.append(\\\n",
    "          (1.-C)*(1.-D)*(1.-E)*diffeo[2, math.floor(point_x[i])%height, math.floor(point_y[i])%width, math.floor(point_z[i])%depth]\\\n",
    "        + (1.-C)*D*(1.-E)*diffeo[2, math.floor(point_x[i])%height, math.ceil(point_y[i])%width, math.floor(point_z[i])%depth]\\\n",
    "        + C*(1.-D)*(1.-E)*diffeo[2, math.ceil(point_x[i])%height, math.floor(point_y[i])%width, math.floor(point_z[i])%depth]\\\n",
    "        + C*D*(1.-E)*diffeo[2, math.ceil(point_x[i])%height, math.ceil(point_y[i])%width, math.floor(point_z[i])%depth]\\\n",
    "        + (1.-C)*(1.-D)*E*diffeo[2, math.floor(point_x[i])%height, math.floor(point_y[i])%width, math.ceil(point_z[i])%depth]\\\n",
    "        + (1.-C)*D*E*diffeo[2, math.floor(point_x[i])%height, math.ceil(point_y[i])%width, math.ceil(point_z[i])%depth]\\\n",
    "        + C*(1.-D)*E*diffeo[2, math.ceil(point_x[i])%height, math.floor(point_y[i])%width, math.ceil(point_z[i])%depth]\\\n",
    "        + C*D*E*diffeo[2, math.ceil(point_x[i])%height, math.ceil(point_y[i])%width, math.ceil(point_z[i])%depth])\n",
    " \n",
    "    return (new_point_x, new_point_y, new_point_z)"
   ]
  },
  {
   "cell_type": "code",
   "execution_count": 83,
   "metadata": {},
   "outputs": [
    {
     "name": "stdout",
     "output_type": "stream",
     "text": [
      "Finding geodesic path from [13, 14, 21] with initial velocity [-0.26389484 -0.96454827  0.00247913]\n"
     ]
    }
   ],
   "source": [
    "input_dir = '/usr/sci/projects/HCP/Kris/NSFCRCNS/TestResults/working_3d_python'\n",
    "output_dir = 'Cubic1246Atlas'\n",
    "atlas_lin = np.transpose(sitk.GetArrayFromImage(sitk.ReadImage(f'{output_dir}/atlas_400_tens.nhdr')),(3,2,1,0))\n",
    "mask_acc = np.transpose(sitk.GetArrayFromImage(sitk.ReadImage(f'{input_dir}/cubic5_filt_mask.nhdr')),(2,1,0))\n",
    "path_set = []\n",
    "start_coords = [[13, 14, 21]] # golden test start point\n",
    "init_velocities = [None]\n",
    "\n",
    "geo_delta_t = -0.1\n",
    "geo_iters = 500 \n",
    "euler_delta_t = 0.1\n",
    "euler_iters = 8000 \n",
    "\n",
    "# geodesicpath_3d([6,h,w,d],[h,w,d],...)\n",
    "geox, geoy, geoz = geo.geodesicpath_3d(atlas_lin, mask_acc,\\\n",
    "                              start_coords[0], init_velocities[0], \\\n",
    "                              geo_delta_t, iter_num=geo_iters, both_directions=False)\n",
    "\n",
    "# eulerpath_3d([6,h,w,d],[h,w,d],...)\n",
    "# eulx, euly, eulz = euler.eulerpath_3d(atlas_lin, mask_acc,\\\n",
    "#                               start_coords[0], init_velocities[0], euler_delta_t, iter_num=euler_iters, both_directions=False)\n",
    "path_set = [(geox[:-1], geoy[:-1], geoz[:-1])]"
   ]
  },
  {
   "cell_type": "code",
   "execution_count": 84,
   "metadata": {},
   "outputs": [
    {
     "name": "stdout",
     "output_type": "stream",
     "text": [
      "Finding geodesic path from [13, 14, 21] with initial velocity [0.32239139 0.94660646 0.        ]\n"
     ]
    }
   ],
   "source": [
    "input_dir = '/usr/sci/projects/HCP/Kris/NSFCRCNS/TestResults/working_3d_python'\n",
    "output_dir = 'Cubic1246Atlas'\n",
    "s = 1\n",
    "tensor_lin = np.transpose(sitk.GetArrayFromImage(sitk.ReadImage(f'{input_dir}/cubic{s}_scaled_tensors.nhdr')),(3,2,1,0))\n",
    "mask = np.transpose(sitk.GetArrayFromImage(sitk.ReadImage(f'{input_dir}/cubic{s}_filt_mask.nhdr')),(2,1,0))\n",
    "diffeo = sio.loadmat(f'{output_dir}/cubic1_400_phi.mat')['diffeo']\n",
    "geox, geoy, geoz = geo.geodesicpath_3d(tensor_lin, mask,\\\n",
    "                                        start_coords[0], init_velocities[0], \\\n",
    "                                        -geo_delta_t, iter_num=1300, both_directions=False)\n",
    "path_set.append((geox[:-1],geoy[:-1],geoz[:-1]))\n",
    "path_set.append(coord_register(geox[:-1], geoy[:-1], geoz[:-1], diffeo))"
   ]
  },
  {
   "cell_type": "code",
   "execution_count": 85,
   "metadata": {},
   "outputs": [
    {
     "name": "stdout",
     "output_type": "stream",
     "text": [
      "numpts 86\n",
      "smallest,largest max eigenvalue 0.33592650431057974 7.752198883302791\n"
     ]
    },
    {
     "data": {
      "application/vnd.jupyter.widget-view+json": {
       "model_id": "c9f647d9ad12481d9cc227d8466f22eb",
       "version_major": 2,
       "version_minor": 0
      },
      "text/plain": [
       "Viewer(geometries=[{'vtkClass': 'vtkPolyData', 'points': {'vtkClass': 'vtkPoints', 'name': '_points', 'numberO…"
      ]
     },
     "metadata": {},
     "output_type": "display_data"
    }
   ],
   "source": [
    "# view_3d_tensors([h,w,d,6],[h,w,d],...)\n",
    "vwr=view_3d_tensors(np.transpose(atlas_lin,(1,2,3,0)),mask_acc,atlas_lin[3,:,:,:],paths=path_set,stride=6,scale=6)\n",
    "vwr"
   ]
  },
  {
   "cell_type": "markdown",
   "metadata": {},
   "source": [
    "# brain"
   ]
  },
  {
   "cell_type": "code",
   "execution_count": null,
   "metadata": {},
   "outputs": [],
   "source": [
    "%matplotlib widget\n",
    "# plt.imshow(fa_list[0][:,:,110])\n",
    "plt.hist(fa_list[1].flatten().numpy())"
   ]
  },
  {
   "cell_type": "code",
   "execution_count": null,
   "metadata": {},
   "outputs": [],
   "source": [
    "def tensor_cleaning(g, scale_factor):\n",
    "#     det_zero_map = torch.where(torch.det(g)<=0,1.,0.)\n",
    "#     background = torch.einsum(\"mno,ij->mnoij\", torch.ones(*tensor_met_zeros.shape[:3]), torch.eye(3))*scale_factor\n",
    "#     g = g + torch.einsum('ijk...,lijk->ijk...', background, det_zero_map.unsqueeze(0))\n",
    "    e,_ = torch.symeig(g)\n",
    "    lambd1_neg_map = torch.where(e[:,:,:,0]<=0,1.,0.)\n",
    "    lambd2_neg_map = torch.where(e[:,:,:,1]<=0,1.,0.)\n",
    "    lambd3_neg_map = torch.where(e[:,:,:,2]<=0,1.,0.)\n",
    "    abnormal_map = torch.where(lambd1_neg_map+lambd2_neg_map+lambd3_neg_map>0,1.,0.)\n",
    "    background = torch.einsum(\"mno,ij->mnoij\", torch.ones(*tensor_met_zeros.shape[:3]), torch.eye(3))*scale_factor\n",
    "    return torch.einsum('ijk...,lijk->ijk...', g, 1.-abnormal_map.unsqueeze(0))+\\\n",
    "            torch.einsum('ijk...,lijk->ijk...', background, abnormal_map.unsqueeze(0))\n",
    "\n",
    "    \n",
    "def fractional_anisotropy(g):\n",
    "    e, _ = torch.symeig(g)\n",
    "    lambd1 = e[:,:,:,0]\n",
    "    lambd2 = e[:,:,:,1]\n",
    "    lambd3 = e[:,:,:,2]\n",
    "    mean = torch.mean(e,dim=len(e.shape)-1)\n",
    "    return torch.sqrt(3.*(torch.pow((lambd1-mean),2)+torch.pow((lambd2-mean),2)+torch.pow((lambd3-mean),2)))/\\\n",
    "    torch.sqrt(2.*(torch.pow(lambd1,2)+torch.pow(lambd2,2)+torch.pow(lambd3,2)))"
   ]
  },
  {
   "cell_type": "code",
   "execution_count": null,
   "metadata": {},
   "outputs": [],
   "source": [
    "# e, _ = torch.eig(tensor_met_list[0][84,79,110])\n",
    "e=e[:,0].unsqueeze(0).unsqueeze(0).unsqueeze(0)\n",
    "lambd1 = e[:,:,:,0]\n",
    "lambd2 = e[:,:,:,1]\n",
    "lambd3 = e[:,:,:,2]\n",
    "mean = torch.mean(e,dim=len(e.shape)-1)\n",
    "print(torch.sqrt(3.*(torch.pow((lambd1-mean),2)+torch.pow((lambd2-mean),2)+torch.pow((lambd3-mean),2)))/\\\n",
    "    torch.sqrt(2.*(torch.pow(lambd1,2)+torch.pow(lambd2,2)+torch.pow(lambd3,2))))\n",
    "# print(e)"
   ]
  },
  {
   "cell_type": "code",
   "execution_count": null,
   "metadata": {},
   "outputs": [],
   "source": [
    "e, _ = torch.eig(torch.tensor([[0,0,0],[0,0,0],[0,0,0]],dtype=torch.float64))\n",
    "print(e)"
   ]
  },
  {
   "cell_type": "code",
   "execution_count": null,
   "metadata": {},
   "outputs": [],
   "source": [
    "print(fractional_anisotropy(tensor_met_list[0])[17,79,110])\n",
    "# e"
   ]
  },
  {
   "cell_type": "code",
   "execution_count": null,
   "metadata": {},
   "outputs": [],
   "source": [
    "print((fractional_anisotropy(tensor_met_list[0])[:,:,:]>1).nonzero())"
   ]
  },
  {
   "cell_type": "code",
   "execution_count": null,
   "metadata": {},
   "outputs": [],
   "source": [
    "fa_map = torch.where(fa_list[0]>=1,1,0)\n",
    "itkview(fa_map)"
   ]
  },
  {
   "cell_type": "code",
   "execution_count": null,
   "metadata": {},
   "outputs": [],
   "source": [
    "input_dir = '/usr/sci/projects/HCP/Kris/NSFCRCNS/TestResults/working_3d_python'\n",
    "output_dir = 'BrainAtlas'\n",
    "file_name = 111312\n",
    "tensor_np = torch.from_numpy(sitk.GetArrayFromImage(sitk.ReadImage(f'{input_dir}/{file_name}_scaled_tensors.nhdr'))).double().permute(3,2,1,0)\n",
    "mask_np = sitk.GetArrayFromImage(sitk.ReadImage(f'{input_dir}/{file_name}_filt_mask.nhdr'))\n",
    "\n",
    "tensor_met_zeros = torch.zeros(*tensor_np.shape[1:],3,3,dtype=torch.float64)\n",
    "tensor_met_zeros[:,:,:,0,0] = tensor_np[0]\n",
    "tensor_met_zeros[:,:,:,0,1] = tensor_np[1]\n",
    "tensor_met_zeros[:,:,:,0,2] = tensor_np[2]\n",
    "tensor_met_zeros[:,:,:,1,0] = tensor_np[1]\n",
    "tensor_met_zeros[:,:,:,1,1] = tensor_np[3]\n",
    "tensor_met_zeros[:,:,:,1,2] = tensor_np[4]\n",
    "tensor_met_zeros[:,:,:,2,0] = tensor_np[2]\n",
    "tensor_met_zeros[:,:,:,2,1] = tensor_np[4]\n",
    "tensor_met_zeros[:,:,:,2,2] = tensor_np[5]\n",
    "torch.sum(torch.where(torch.det(tensor_met_zeros)<0, 1., 0.))"
   ]
  },
  {
   "cell_type": "code",
   "execution_count": null,
   "metadata": {},
   "outputs": [],
   "source": [
    "sitk.GetArrayFromImage(sitk.ReadImage(f'{input_dir}/{file_name}_scaled_tensors.nhdr')).shape"
   ]
  },
  {
   "cell_type": "code",
   "execution_count": 9,
   "metadata": {},
   "outputs": [],
   "source": [
    "def view_3d_diffeos(diffeo, stride, interp):\n",
    "    height, width, depth = diffeo.shape[1:]\n",
    "    spline = []\n",
    "    for i in range(1,height,stride):\n",
    "        for j in range(1,width,stride):\n",
    "            spline.append(pv.Spline(np.transpose(diffeo[:,i,j,:]), interp))\n",
    "            \n",
    "    for i in range(1,height,stride):\n",
    "        for k in range(1,depth,stride):\n",
    "            spline.append(pv.Spline(np.transpose(diffeo[:,i,:,k]), interp))\n",
    "            \n",
    "#     for j in range(1,width,stride):\n",
    "#         for k in range(1,depth,stride):\n",
    "#             spline.append(pv.Spline(np.transpose(diffeo[:,:,j,k]), interp))\n",
    "            \n",
    "    return itkview(geometries=spline)"
   ]
  },
  {
   "cell_type": "code",
   "execution_count": 10,
   "metadata": {},
   "outputs": [
    {
     "data": {
      "application/vnd.jupyter.widget-view+json": {
       "model_id": "dd95a91ea90044c8a5fdb75359ab3646",
       "version_major": 2,
       "version_minor": 0
      },
      "text/plain": [
       "Viewer(geometries=[{'vtkClass': 'vtkPolyData', 'points': {'vtkClass': 'vtkPoints', 'name': '_points', 'numberO…"
      ]
     },
     "metadata": {},
     "output_type": "display_data"
    }
   ],
   "source": [
    "output_dir = 'BrainAtlas'\n",
    "diffeo = sio.loadmat(f'{output_dir}/105923_25_phi_inv.mat')['diffeo']\n",
    "vwr = view_3d_diffeos(diffeo, 10,1000)\n",
    "vwr"
   ]
  },
  {
   "cell_type": "code",
   "execution_count": null,
   "metadata": {},
   "outputs": [],
   "source": []
  }
 ],
 "metadata": {
  "kernelspec": {
   "display_name": "Python 3",
   "language": "python",
   "name": "python3"
  },
  "language_info": {
   "codemirror_mode": {
    "name": "ipython",
    "version": 3
   },
   "file_extension": ".py",
   "mimetype": "text/x-python",
   "name": "python",
   "nbconvert_exporter": "python",
   "pygments_lexer": "ipython3",
   "version": "3.7.9"
  }
 },
 "nbformat": 4,
 "nbformat_minor": 4
}
