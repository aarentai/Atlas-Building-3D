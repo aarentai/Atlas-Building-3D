{
 "cells": [
  {
   "cell_type": "code",
   "execution_count": 1,
   "metadata": {},
   "outputs": [
    {
     "data": {
      "text/html": [
       "<style>.container { width:55% !important; }</style>"
      ],
      "text/plain": [
       "<IPython.core.display.HTML object>"
      ]
     },
     "metadata": {},
     "output_type": "display_data"
    }
   ],
   "source": [
    "%matplotlib notebook\n",
    "import torch\n",
    "import matplotlib.pyplot as plt\n",
    "from lazy_imports import np\n",
    "from lazy_imports import plt\n",
    "from lazy_imports import sitk\n",
    "from lazy_imports import LinearOperator, gmres\n",
    "from lazy_imports import loadmat, savemat\n",
    "from lazy_imports import sitk\n",
    "\n",
    "from lazy_imports import itkwidgets\n",
    "from lazy_imports import itkview\n",
    "from lazy_imports import interactive\n",
    "from lazy_imports import ipywidgets\n",
    "from lazy_imports import pv\n",
    "from IPython.core.display import display, HTML\n",
    "plt.rcParams[\"figure.figsize\"] = (4, 4) # (w, h)\n",
    "%matplotlib notebook\n",
    "display(HTML(\"<style>.container { width:55% !important; }</style>\"))"
   ]
  },
  {
   "cell_type": "code",
   "execution_count": 2,
   "metadata": {},
   "outputs": [],
   "source": [
    "from disp.vis import vis_tensors, vis_path, disp_scalar_to_file\n",
    "from disp.vis import disp_vector_to_file, disp_tensor_to_file\n",
    "from disp.vis import disp_gradG_to_file, disp_gradA_to_file\n",
    "from disp.vis import view_3d_tensors, tensors_to_mesh"
   ]
  },
  {
   "cell_type": "code",
   "execution_count": 3,
   "metadata": {},
   "outputs": [],
   "source": [
    "from data.io import readRaw, ReadTensors, ReadScalars, WriteTensorNPArray\n",
    "from data.convert import GetNPArrayFromSITK, GetSITKImageFromNP\n",
    "import data.gen"
   ]
  },
  {
   "cell_type": "code",
   "execution_count": 4,
   "metadata": {},
   "outputs": [],
   "source": [
    "from util import diff\n",
    "from util import tensors\n",
    "from util import maskops as mo\n",
    "from util.riemann import riem_vec_norm\n",
    "from util.tensors import scale_by_alpha"
   ]
  },
  {
   "cell_type": "code",
   "execution_count": 5,
   "metadata": {},
   "outputs": [],
   "source": [
    "from mtch.RegistrationFunc3D import *\n",
    "from mtch.SplitEbinMetric3D import *\n",
    "from mtch.GeoPlot import *"
   ]
  },
  {
   "cell_type": "code",
   "execution_count": 6,
   "metadata": {},
   "outputs": [],
   "source": [
    "import algo.metricModSolver2d as mms\n",
    "import algo.geodesic as geo\n",
    "import algo.euler as euler\n",
    "import algo.dijkstra as dijkstra"
   ]
  },
  {
   "cell_type": "code",
   "execution_count": 7,
   "metadata": {},
   "outputs": [],
   "source": [
    "input_dir = '/usr/sci/projects/HCP/Kris/NSFCRCNS/TestResults/working_3d_python'\n",
    "output_dir = 'Cubic12Geo'"
   ]
  },
  {
   "cell_type": "code",
   "execution_count": 8,
   "metadata": {},
   "outputs": [],
   "source": [
    "index0, index1 = 1, 2\n",
    "g00 = torch.from_numpy(sitk.GetArrayFromImage(sitk.ReadImage(f'{input_dir}/cubic{index0}_scaled_tensors.nhdr'))).double().permute(3,2,1,0)\n",
    "g11 = torch.from_numpy(sitk.GetArrayFromImage(sitk.ReadImage(f'{input_dir}/cubic{index1}_scaled_tensors.nhdr'))).double().permute(3,2,1,0)\n",
    "\n",
    "height, width, depth = 100,100,41\n",
    "g0, g1 = torch.zeros(height, width, depth, 3, 3, dtype=torch.double), torch.zeros(height, width, depth, 3, 3, dtype=torch.double)\n",
    "\n",
    "g0[:,:,:,0,0] = g00[0]\n",
    "g0[:,:,:,0,1] = g00[1]\n",
    "g0[:,:,:,0,2] = g00[2]\n",
    "g0[:,:,:,1,0] = g00[1]\n",
    "g0[:,:,:,1,1] = g00[3]\n",
    "g0[:,:,:,1,2] = g00[4]\n",
    "g0[:,:,:,2,0] = g00[2]\n",
    "g0[:,:,:,2,1] = g00[4]\n",
    "g0[:,:,:,2,2] = g00[5]\n",
    "g1[:,:,:,0,0] = g11[0]\n",
    "g1[:,:,:,0,1] = g11[1]\n",
    "g1[:,:,:,0,2] = g11[2]\n",
    "g1[:,:,:,1,0] = g11[1]\n",
    "g1[:,:,:,1,1] = g11[3]\n",
    "g1[:,:,:,1,2] = g11[4]\n",
    "g1[:,:,:,2,0] = g11[2]\n",
    "g1[:,:,:,2,1] = g11[4]\n",
    "g1[:,:,:,2,2] = g11[5]"
   ]
  },
  {
   "cell_type": "code",
   "execution_count": 9,
   "metadata": {},
   "outputs": [
    {
     "name": "stderr",
     "output_type": "stream",
     "text": [
      "This overload of nonzero is deprecated:\n",
      "\tnonzero()\n",
      "Consider using one of the following signatures instead:\n",
      "\tnonzero(*, bool as_tuple) (Triggered internally at  /opt/conda/conda-bld/pytorch_1607370141920/work/torch/csrc/utils/python_arg_parser.cpp:882.)\n"
     ]
    }
   ],
   "source": [
    "Tpts = 7\n",
    "geo_set = get_geo(g0, g1, 1./3., Tpts)"
   ]
  },
  {
   "cell_type": "code",
   "execution_count": 10,
   "metadata": {},
   "outputs": [
    {
     "ename": "RuntimeError",
     "evalue": "Exception thrown in SimpleITK ImageFileWriter_Execute: /tmp/SimpleITK-build/ITK/Modules/IO/NRRD/src/itkNrrdImageIO.cxx:1116:\nitk::ERROR: itk::ERROR: NrrdImageIO(0x55f95ae562d0): Write: Error writing Cubic12Geo/cubic12_0_tens.nhdr:\n[nrrd] nrrdSave: couldn't fopen(\"Cubic12Geo/cubic12_0_tens.nhdr\",\"wb\"): No such file or directory\n",
     "output_type": "error",
     "traceback": [
      "\u001b[0;31m---------------------------------------------------------------------------\u001b[0m",
      "\u001b[0;31mRuntimeError\u001b[0m                              Traceback (most recent call last)",
      "\u001b[0;32m<ipython-input-10-ad46ea89c069>\u001b[0m in \u001b[0;36m<module>\u001b[0;34m\u001b[0m\n\u001b[1;32m      7\u001b[0m     \u001b[0matlas_lin\u001b[0m\u001b[0;34m[\u001b[0m\u001b[0;36m4\u001b[0m\u001b[0;34m]\u001b[0m \u001b[0;34m=\u001b[0m \u001b[0mgeo_set\u001b[0m\u001b[0;34m[\u001b[0m\u001b[0ms\u001b[0m\u001b[0;34m]\u001b[0m\u001b[0;34m[\u001b[0m\u001b[0;34m:\u001b[0m\u001b[0;34m,\u001b[0m\u001b[0;34m:\u001b[0m\u001b[0;34m,\u001b[0m\u001b[0;34m:\u001b[0m\u001b[0;34m,\u001b[0m\u001b[0;36m1\u001b[0m\u001b[0;34m,\u001b[0m\u001b[0;36m2\u001b[0m\u001b[0;34m]\u001b[0m\u001b[0;34m\u001b[0m\u001b[0;34m\u001b[0m\u001b[0m\n\u001b[1;32m      8\u001b[0m     \u001b[0matlas_lin\u001b[0m\u001b[0;34m[\u001b[0m\u001b[0;36m5\u001b[0m\u001b[0;34m]\u001b[0m \u001b[0;34m=\u001b[0m \u001b[0mgeo_set\u001b[0m\u001b[0;34m[\u001b[0m\u001b[0ms\u001b[0m\u001b[0;34m]\u001b[0m\u001b[0;34m[\u001b[0m\u001b[0;34m:\u001b[0m\u001b[0;34m,\u001b[0m\u001b[0;34m:\u001b[0m\u001b[0;34m,\u001b[0m\u001b[0;34m:\u001b[0m\u001b[0;34m,\u001b[0m\u001b[0;36m2\u001b[0m\u001b[0;34m,\u001b[0m\u001b[0;36m2\u001b[0m\u001b[0;34m]\u001b[0m\u001b[0;34m\u001b[0m\u001b[0;34m\u001b[0m\u001b[0m\n\u001b[0;32m----> 9\u001b[0;31m     \u001b[0msitk\u001b[0m\u001b[0;34m.\u001b[0m\u001b[0mWriteImage\u001b[0m\u001b[0;34m(\u001b[0m\u001b[0msitk\u001b[0m\u001b[0;34m.\u001b[0m\u001b[0mGetImageFromArray\u001b[0m\u001b[0;34m(\u001b[0m\u001b[0mnp\u001b[0m\u001b[0;34m.\u001b[0m\u001b[0mtranspose\u001b[0m\u001b[0;34m(\u001b[0m\u001b[0matlas_lin\u001b[0m\u001b[0;34m,\u001b[0m\u001b[0;34m(\u001b[0m\u001b[0;36m3\u001b[0m\u001b[0;34m,\u001b[0m\u001b[0;36m2\u001b[0m\u001b[0;34m,\u001b[0m\u001b[0;36m1\u001b[0m\u001b[0;34m,\u001b[0m\u001b[0;36m0\u001b[0m\u001b[0;34m)\u001b[0m\u001b[0;34m)\u001b[0m\u001b[0;34m)\u001b[0m\u001b[0;34m,\u001b[0m \u001b[0;34mf'{output_dir}/cubic12_{s}_tens.nhdr'\u001b[0m\u001b[0;34m)\u001b[0m\u001b[0;34m\u001b[0m\u001b[0;34m\u001b[0m\u001b[0m\n\u001b[0m\u001b[1;32m     10\u001b[0m     \u001b[0msitk\u001b[0m\u001b[0;34m.\u001b[0m\u001b[0mWriteImage\u001b[0m\u001b[0;34m(\u001b[0m\u001b[0msitk\u001b[0m\u001b[0;34m.\u001b[0m\u001b[0mGetImageFromArray\u001b[0m\u001b[0;34m(\u001b[0m\u001b[0mnp\u001b[0m\u001b[0;34m.\u001b[0m\u001b[0mtranspose\u001b[0m\u001b[0;34m(\u001b[0m\u001b[0mtorch\u001b[0m\u001b[0;34m.\u001b[0m\u001b[0mwhere\u001b[0m\u001b[0;34m(\u001b[0m\u001b[0mtorch\u001b[0m\u001b[0;34m.\u001b[0m\u001b[0mdet\u001b[0m\u001b[0;34m(\u001b[0m\u001b[0mgeo_set\u001b[0m\u001b[0;34m[\u001b[0m\u001b[0ms\u001b[0m\u001b[0;34m]\u001b[0m\u001b[0;34m)\u001b[0m\u001b[0;34m==\u001b[0m\u001b[0;36m1\u001b[0m\u001b[0;34m,\u001b[0m\u001b[0;36m0\u001b[0m\u001b[0;34m,\u001b[0m\u001b[0;36m1\u001b[0m\u001b[0;34m)\u001b[0m\u001b[0;34m.\u001b[0m\u001b[0mnumpy\u001b[0m\u001b[0;34m(\u001b[0m\u001b[0;34m)\u001b[0m\u001b[0;34m,\u001b[0m\u001b[0;34m(\u001b[0m\u001b[0;36m2\u001b[0m\u001b[0;34m,\u001b[0m\u001b[0;36m1\u001b[0m\u001b[0;34m,\u001b[0m\u001b[0;36m0\u001b[0m\u001b[0;34m)\u001b[0m\u001b[0;34m)\u001b[0m\u001b[0;34m)\u001b[0m\u001b[0;34m,\u001b[0m \u001b[0;34mf'{output_dir}/cubic12_{s}_mask.nhdr'\u001b[0m\u001b[0;34m)\u001b[0m\u001b[0;34m\u001b[0m\u001b[0;34m\u001b[0m\u001b[0m\n",
      "\u001b[0;32m~/anaconda2/envs/python37/lib/python3.7/site-packages/SimpleITK/extra.py\u001b[0m in \u001b[0;36mWriteImage\u001b[0;34m(image, fileName, useCompression, compressionLevel, imageIO, compressor)\u001b[0m\n\u001b[1;32m    392\u001b[0m     \u001b[0mwriter\u001b[0m\u001b[0;34m.\u001b[0m\u001b[0mSetImageIO\u001b[0m\u001b[0;34m(\u001b[0m\u001b[0mimageIO\u001b[0m\u001b[0;34m)\u001b[0m\u001b[0;34m\u001b[0m\u001b[0;34m\u001b[0m\u001b[0m\n\u001b[1;32m    393\u001b[0m     \u001b[0mwriter\u001b[0m\u001b[0;34m.\u001b[0m\u001b[0mSetCompressor\u001b[0m\u001b[0;34m(\u001b[0m\u001b[0mcompressor\u001b[0m\u001b[0;34m)\u001b[0m\u001b[0;34m\u001b[0m\u001b[0;34m\u001b[0m\u001b[0m\n\u001b[0;32m--> 394\u001b[0;31m     \u001b[0;32mreturn\u001b[0m \u001b[0mwriter\u001b[0m\u001b[0;34m.\u001b[0m\u001b[0mExecute\u001b[0m\u001b[0;34m(\u001b[0m\u001b[0mimage\u001b[0m\u001b[0;34m)\u001b[0m\u001b[0;34m\u001b[0m\u001b[0;34m\u001b[0m\u001b[0m\n\u001b[0m\u001b[1;32m    395\u001b[0m \u001b[0;34m\u001b[0m\u001b[0m\n\u001b[1;32m    396\u001b[0m \u001b[0;34m\u001b[0m\u001b[0m\n",
      "\u001b[0;32m~/anaconda2/envs/python37/lib/python3.7/site-packages/SimpleITK/SimpleITK.py\u001b[0m in \u001b[0;36mExecute\u001b[0;34m(self, *args)\u001b[0m\n\u001b[1;32m   5516\u001b[0m         \u001b[0mExecute\u001b[0m\u001b[0;34m(\u001b[0m\u001b[0mImageFileWriter\u001b[0m \u001b[0mself\u001b[0m\u001b[0;34m,\u001b[0m \u001b[0mImage\u001b[0m \u001b[0marg2\u001b[0m\u001b[0;34m,\u001b[0m \u001b[0mstd\u001b[0m\u001b[0;34m:\u001b[0m\u001b[0;34m:\u001b[0m\u001b[0mstring\u001b[0m \u001b[0mconst\u001b[0m \u001b[0;34m&\u001b[0m \u001b[0minFileName\u001b[0m\u001b[0;34m,\u001b[0m \u001b[0mbool\u001b[0m \u001b[0museCompression\u001b[0m\u001b[0;34m,\u001b[0m \u001b[0mint\u001b[0m \u001b[0mcompressionLevel\u001b[0m\u001b[0;34m)\u001b[0m\u001b[0;34m\u001b[0m\u001b[0;34m\u001b[0m\u001b[0m\n\u001b[1;32m   5517\u001b[0m         \"\"\"\n\u001b[0;32m-> 5518\u001b[0;31m         \u001b[0;32mreturn\u001b[0m \u001b[0m_SimpleITK\u001b[0m\u001b[0;34m.\u001b[0m\u001b[0mImageFileWriter_Execute\u001b[0m\u001b[0;34m(\u001b[0m\u001b[0mself\u001b[0m\u001b[0;34m,\u001b[0m \u001b[0;34m*\u001b[0m\u001b[0margs\u001b[0m\u001b[0;34m)\u001b[0m\u001b[0;34m\u001b[0m\u001b[0;34m\u001b[0m\u001b[0m\n\u001b[0m\u001b[1;32m   5519\u001b[0m \u001b[0;34m\u001b[0m\u001b[0m\n\u001b[1;32m   5520\u001b[0m \u001b[0;31m# Register ImageFileWriter in _SimpleITK:\u001b[0m\u001b[0;34m\u001b[0m\u001b[0;34m\u001b[0m\u001b[0;34m\u001b[0m\u001b[0m\n",
      "\u001b[0;31mRuntimeError\u001b[0m: Exception thrown in SimpleITK ImageFileWriter_Execute: /tmp/SimpleITK-build/ITK/Modules/IO/NRRD/src/itkNrrdImageIO.cxx:1116:\nitk::ERROR: itk::ERROR: NrrdImageIO(0x55f95ae562d0): Write: Error writing Cubic12Geo/cubic12_0_tens.nhdr:\n[nrrd] nrrdSave: couldn't fopen(\"Cubic12Geo/cubic12_0_tens.nhdr\",\"wb\"): No such file or directory\n"
     ]
    }
   ],
   "source": [
    "for s in range(Tpts):\n",
    "    atlas_lin = np.zeros((6,height,width,depth))\n",
    "    atlas_lin[0] = geo_set[s][:,:,:,0,0]\n",
    "    atlas_lin[1] = geo_set[s][:,:,:,0,1]\n",
    "    atlas_lin[2] = geo_set[s][:,:,:,0,2]\n",
    "    atlas_lin[3] = geo_set[s][:,:,:,1,1]\n",
    "    atlas_lin[4] = geo_set[s][:,:,:,1,2]\n",
    "    atlas_lin[5] = geo_set[s][:,:,:,2,2]\n",
    "    sitk.WriteImage(sitk.GetImageFromArray(np.transpose(atlas_lin,(3,2,1,0))), f'{output_dir}/cubic12_{s}_tens.nhdr')\n",
    "    sitk.WriteImage(sitk.GetImageFromArray(np.transpose(torch.where(torch.det(geo_set[s])==1,0,1).numpy(),(2,1,0))), f'{output_dir}/cubic12_{s}_mask.nhdr')"
   ]
  },
  {
   "cell_type": "code",
   "execution_count": null,
   "metadata": {
    "scrolled": false
   },
   "outputs": [],
   "source": [
    "geo_delta_t = 0.1\n",
    "geo_iters = 1300 \n",
    "start_coords = [[13, 14, 20]] # golden test start point\n",
    "init_velocities = [None]\n",
    "path_set = []\n",
    "\n",
    "s = 0\n",
    "tensor_lin = np.transpose(sitk.GetArrayFromImage(sitk.ReadImage(f'{output_dir}/cubic12_{s}_tens.nhdr')),(3,2,1,0))\n",
    "mask = np.transpose(sitk.GetArrayFromImage(sitk.ReadImage(f'{output_dir}/cubic12_{s}_mask.nhdr')),(2,1,0))\n",
    "geox, geoy, geoz = geo.geodesicpath_3d(tensor_lin, mask,\\\n",
    "                                            start_coords[0], init_velocities[0], \\\n",
    "                                            geo_delta_t, iter_num=geo_iters, both_directions=False)\n",
    "path_set.append((geox[:-1],geoy[:-1],geoz[:-1]))\n",
    "vwr=view_3d_tensors(np.transpose(tensor_lin,(1,2,3,0)),mask,tensor_lin[3,:,:,:],paths=path_set,stride=6,scale=6)\n",
    "vwr"
   ]
  },
  {
   "cell_type": "code",
   "execution_count": null,
   "metadata": {},
   "outputs": [],
   "source": [
    "s = 1\n",
    "path_set = []\n",
    "tensor_lin = np.transpose(sitk.GetArrayFromImage(sitk.ReadImage(f'{output_dir}/cubic12_{s}_tens.nhdr')),(3,2,1,0))\n",
    "mask = np.transpose(sitk.GetArrayFromImage(sitk.ReadImage(f'{output_dir}/cubic12_{s}_mask.nhdr')),(2,1,0))\n",
    "geox, geoy, geoz = geo.geodesicpath_3d(tensor_lin, mask,\\\n",
    "                                            start_coords[0], init_velocities[0], \\\n",
    "                                            geo_delta_t, iter_num=geo_iters, both_directions=False)\n",
    "path_set.append((geox[:-1],geoy[:-1],geoz[:-1]))\n",
    "vwr=view_3d_tensors(np.transpose(tensor_lin,(1,2,3,0)),mask,tensor_lin[3,:,:,:],paths=path_set,stride=6,scale=6)\n",
    "vwr"
   ]
  },
  {
   "cell_type": "code",
   "execution_count": 42,
   "metadata": {},
   "outputs": [
    {
     "name": "stdout",
     "output_type": "stream",
     "text": [
      "Finding geodesic path from [13, 14, 20] with initial velocity [0.30259403 0.95311954 0.        ]\n",
      "Found 0 voxels where unable to take 1st derivative.\n",
      "Found 0 reduced accuracy 2nd derivative voxels.\n",
      "numpts 135\n",
      "smallest,largest max eigenvalue 1.5801098277369667 9.559687055469483\n"
     ]
    },
    {
     "data": {
      "application/vnd.jupyter.widget-view+json": {
       "model_id": "e265e3103aed42a5a016d0209696def8",
       "version_major": 2,
       "version_minor": 0
      },
      "text/plain": [
       "Viewer(geometries=[{'vtkClass': 'vtkPolyData', 'points': {'vtkClass': 'vtkPoints', 'name': '_points', 'numberO…"
      ]
     },
     "metadata": {},
     "output_type": "display_data"
    }
   ],
   "source": [
    "s = 2\n",
    "path_set = []\n",
    "tensor_lin = np.transpose(sitk.GetArrayFromImage(sitk.ReadImage(f'{output_dir}/cubic12_{s}_tens.nhdr')),(3,2,1,0))\n",
    "mask = np.transpose(sitk.GetArrayFromImage(sitk.ReadImage(f'{output_dir}/cubic12_{s}_mask.nhdr')),(2,1,0))\n",
    "geox, geoy, geoz = geo.geodesicpath_3d(tensor_lin, mask,\\\n",
    "                                            start_coords[0], init_velocities[0], \\\n",
    "                                            geo_delta_t, iter_num=geo_iters, both_directions=False)\n",
    "path_set.append((geox[:-1],geoy[:-1],geoz[:-1]))\n",
    "vwr=view_3d_tensors(np.transpose(tensor_lin,(1,2,3,0)),mask,tensor_lin[3,:,:,:],paths=path_set,stride=6,scale=6)\n",
    "vwr"
   ]
  },
  {
   "cell_type": "code",
   "execution_count": 41,
   "metadata": {},
   "outputs": [
    {
     "name": "stdout",
     "output_type": "stream",
     "text": [
      "Finding geodesic path from [13, 14, 20] with initial velocity [0.28788748 0.95766424 0.        ]\n",
      "Found 0 voxels where unable to take 1st derivative.\n",
      "Found 0 reduced accuracy 2nd derivative voxels.\n",
      "numpts 135\n",
      "smallest,largest max eigenvalue 1.8475599159179434 8.83122635409812\n"
     ]
    },
    {
     "data": {
      "application/vnd.jupyter.widget-view+json": {
       "model_id": "86df6e40295c4e2b9f5d9275b4b9a3d3",
       "version_major": 2,
       "version_minor": 0
      },
      "text/plain": [
       "Viewer(geometries=[{'vtkClass': 'vtkPolyData', 'points': {'vtkClass': 'vtkPoints', 'name': '_points', 'numberO…"
      ]
     },
     "metadata": {},
     "output_type": "display_data"
    }
   ],
   "source": [
    "s = 3\n",
    "path_set = []\n",
    "tensor_lin = np.transpose(sitk.GetArrayFromImage(sitk.ReadImage(f'{output_dir}/cubic12_{s}_tens.nhdr')),(3,2,1,0))\n",
    "mask = np.transpose(sitk.GetArrayFromImage(sitk.ReadImage(f'{output_dir}/cubic12_{s}_mask.nhdr')),(2,1,0))\n",
    "geox, geoy, geoz = geo.geodesicpath_3d(tensor_lin, mask,\\\n",
    "                                            start_coords[0], init_velocities[0], \\\n",
    "                                            geo_delta_t, iter_num=geo_iters, both_directions=False)\n",
    "path_set.append((geox[:-1],geoy[:-1],geoz[:-1]))\n",
    "vwr=view_3d_tensors(np.transpose(tensor_lin,(1,2,3,0)),mask,tensor_lin[3,:,:,:],paths=path_set,stride=6,scale=6)\n",
    "vwr"
   ]
  },
  {
   "cell_type": "code",
   "execution_count": null,
   "metadata": {},
   "outputs": [],
   "source": [
    "s = 4\n",
    "tensor_lin = np.transpose(sitk.GetArrayFromImage(sitk.ReadImage(f'{output_dir}/cubic12_{s}_tens.nhdr')),(3,2,1,0))\n",
    "mask = np.transpose(sitk.GetArrayFromImage(sitk.ReadImage(f'{output_dir}/cubic12_{s}_mask.nhdr')),(2,1,0))\n",
    "geox, geoy, geoz = geo.geodesicpath_3d(tensor_lin, mask,\\\n",
    "                                            start_coords[0], init_velocities[0], \\\n",
    "                                            geo_delta_t, iter_num=geo_iters, both_directions=False)\n",
    "path_set.append((geox[:-1],geoy[:-1],geoz[:-1]))\n",
    "vwr=view_3d_tensors(np.transpose(tensor_lin,(1,2,3,0)),mask,tensor_lin[3,:,:,:],paths=path_set,stride=6,scale=6)\n",
    "vwr"
   ]
  },
  {
   "cell_type": "code",
   "execution_count": null,
   "metadata": {},
   "outputs": [],
   "source": [
    "s = 5\n",
    "tensor_lin = np.transpose(sitk.GetArrayFromImage(sitk.ReadImage(f'{output_dir}/cubic12_{s}_tens.nhdr')),(3,2,1,0))\n",
    "mask = np.transpose(sitk.GetArrayFromImage(sitk.ReadImage(f'{output_dir}/cubic12_{s}_mask.nhdr')),(2,1,0))\n",
    "geox, geoy, geoz = geo.geodesicpath_3d(tensor_lin, mask,\\\n",
    "                                            start_coords[0], init_velocities[0], \\\n",
    "                                            geo_delta_t, iter_num=geo_iters, both_directions=False)\n",
    "path_set.append((geox[:-1],geoy[:-1],geoz[:-1]))\n",
    "vwr=view_3d_tensors(np.transpose(tensor_lin,(1,2,3,0)),mask,tensor_lin[3,:,:,:],paths=path_set,stride=6,scale=6)\n",
    "vwr"
   ]
  },
  {
   "cell_type": "code",
   "execution_count": null,
   "metadata": {},
   "outputs": [],
   "source": [
    "s = 6\n",
    "tensor_lin = np.transpose(sitk.GetArrayFromImage(sitk.ReadImage(f'{output_dir}/cubic12_{s}_tens.nhdr')),(3,2,1,0))\n",
    "mask = np.transpose(sitk.GetArrayFromImage(sitk.ReadImage(f'{output_dir}/cubic12_{s}_mask.nhdr')),(2,1,0))\n",
    "geox, geoy, geoz = geo.geodesicpath_3d(tensor_lin, mask,\\\n",
    "                                            start_coords[0], init_velocities[0], \\\n",
    "                                            geo_delta_t, iter_num=geo_iters, both_directions=False)\n",
    "path_set.append((geox[:-1],geoy[:-1],geoz[:-1]))\n",
    "vwr=view_3d_tensors(np.transpose(tensor_lin,(1,2,3,0)),mask,tensor_lin[3,:,:,:],paths=path_set,stride=6,scale=6)\n",
    "vwr"
   ]
  },
  {
   "cell_type": "code",
   "execution_count": null,
   "metadata": {},
   "outputs": [],
   "source": []
  }
 ],
 "metadata": {
  "kernelspec": {
   "display_name": "Python 3",
   "language": "python",
   "name": "python3"
  },
  "language_info": {
   "codemirror_mode": {
    "name": "ipython",
    "version": 3
   },
   "file_extension": ".py",
   "mimetype": "text/x-python",
   "name": "python",
   "nbconvert_exporter": "python",
   "pygments_lexer": "ipython3",
   "version": "3.7.9"
  }
 },
 "nbformat": 4,
 "nbformat_minor": 4
}
