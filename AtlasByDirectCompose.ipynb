{
 "cells": [
  {
   "cell_type": "code",
   "execution_count": 1,
   "metadata": {},
   "outputs": [],
   "source": [
    "import torch\n",
    "from tqdm import tqdm\n",
    "import numpy as np\n",
    "import scipy.io as sio\n",
    "import matplotlib.pyplot as plt\n",
    "import SimpleITK as sitk\n",
    "import os\n",
    "from lazy_imports import itkwidgets\n",
    "from lazy_imports import itkview\n",
    "from lazy_imports import interactive\n",
    "from lazy_imports import ipywidgets\n",
    "from lazy_imports import pv"
   ]
  },
  {
   "cell_type": "code",
   "execution_count": 2,
   "metadata": {},
   "outputs": [],
   "source": [
    "from mtch.RegistrationFunc3DCuda import *\n",
    "from mtch.SplitEbinMetric3DCuda import *\n",
    "from mtch.GeoPlot import *"
   ]
  },
  {
   "cell_type": "code",
   "execution_count": 3,
   "metadata": {},
   "outputs": [],
   "source": [
    "# from Packages.disp.vis import show_2d, show_2d_tensors\n",
    "from disp.vis import vis_tensors, vis_path, disp_scalar_to_file\n",
    "from disp.vis import disp_vector_to_file, disp_tensor_to_file\n",
    "from disp.vis import disp_gradG_to_file, disp_gradA_to_file\n",
    "from disp.vis import view_3d_tensors, tensors_to_mesh"
   ]
  },
  {
   "cell_type": "code",
   "execution_count": 4,
   "metadata": {},
   "outputs": [],
   "source": [
    "import algo.metricModSolver2d as mms\n",
    "import algo.geodesic as geo\n",
    "import algo.euler as euler\n",
    "import algo.dijkstra as dijkstra"
   ]
  },
  {
   "cell_type": "code",
   "execution_count": 5,
   "metadata": {},
   "outputs": [],
   "source": [
    "def phi_pullback(phi, g):\n",
    "#     input: phi.shape = [3, h, w, d]; g.shape = [h, w, d, 3, 3]\n",
    "#     output: shape = [h, w, 2, 2]\n",
    "#     torch.set_default_tensor_type('torch.cuda.DoubleTensor')\n",
    "    g = g.permute(3, 4, 0, 1, 2)\n",
    "    idty = get_idty(*g.shape[-3:])\n",
    "    #     four layers of scalar field, of all 1, all 0, all 1, all 0, where the shape of each layer is g.shape[-2:]?\n",
    "    eye = torch.eye(3)\n",
    "    ones = torch.ones(*g.shape[-3:])\n",
    "    d_phi = get_jacobian_matrix(phi - idty) + torch.einsum(\"ij,mno->ijmno\", eye, ones)\n",
    "    g_phi = compose_function(g, phi)\n",
    "    return torch.einsum(\"ij...,ik...,kl...->...jl\", d_phi, g_phi, d_phi)\n",
    "\n",
    "\n",
    "def energy_ebin(phi, g0, g1, f0, f1, sigma, dim, mask): \n",
    "#     input: phi.shape = [3, h, w, d]; g0/g1/f0/f1.shape = [h, w, d, 3, 3]; sigma/dim = scalar; mask.shape = [1, h, w, d]\n",
    "#     output: scalar\n",
    "# the phi here is identity\n",
    "    phi_star_g1 = phi_pullback(phi, g1)\n",
    "    phi_star_f1 = phi_pullback(phi, f1)# the compose operation in this step uses a couple of thousands MB of memory\n",
    "    E1 = sigma * Squared_distance_Ebin(f0, phi_star_f1, 1./dim, mask)\n",
    "    E2 = Squared_distance_Ebin(g0, phi_star_g1, 1./dim, mask)\n",
    "    return E1 + E2\n",
    "\n",
    "\n",
    "\n",
    "def energy_L2(phi, g0, g1, f0, f1, sigma, mask): \n",
    "#     input: phi.shape = [3, h, w, d]; g0/g1/f0/f1.shape = [h, w, d, 3, 3]; sigma = scalar; mask.shape = [1, h, w, d]\n",
    "#     output: scalar\n",
    "    phi_star_g1 = phi_pullback(phi, g1)\n",
    "    phi_star_f1 = phi_pullback(phi, f1)\n",
    "    E1 = sigma * torch.einsum(\"ijk...,lijk->\", (f0 - phi_star_f1) ** 2, mask.unsqueeze(0))\n",
    "    E2 = torch.einsum(\"ijk...,lijk->\", (g0 - phi_star_g1) ** 2, mask.unsqueeze(0))\n",
    "    # E = E1 + E2\n",
    "#     del phi_star_g1, phi_star_f1\n",
    "#     torch.cuda.empty_cache()\n",
    "    return E1 + E2\n",
    "\n",
    "\n",
    "def laplace_inverse(u):\n",
    "#     input: u.shape = [3, h, w, d]\n",
    "#     output: shape = [3, h, w, d]\n",
    "    '''\n",
    "    this function computes the laplacian inverse of a vector field u of size 3 x size_h x size_w x size_d\n",
    "    '''\n",
    "    size_h, size_w, size_d = u.shape[-3:]\n",
    "    idty = get_idty(size_h, size_w, size_d).cpu().numpy()\n",
    "    lap = 6. - 2. * (np.cos(2. * np.pi * idty[0] / size_h) +\n",
    "                     np.cos(2. * np.pi * idty[1] / size_w) +\n",
    "                     np.cos(2. * np.pi * idty[2] / size_d))\n",
    "    lap[0, 0] = 1.\n",
    "    lapinv = 1. / lap\n",
    "    lap[0, 0] = 0.\n",
    "    lapinv[0, 0] = 1.\n",
    "\n",
    "    u = u.cpu().detach().numpy()\n",
    "    fx = np.fft.fftn(u[0])\n",
    "    fy = np.fft.fftn(u[1])\n",
    "    fz = np.fft.fftn(u[2])\n",
    "    fx *= lapinv\n",
    "    fy *= lapinv\n",
    "    fz *= lapinv\n",
    "    vx = torch.from_numpy(np.real(np.fft.ifftn(fx)))\n",
    "    vy = torch.from_numpy(np.real(np.fft.ifftn(fy)))\n",
    "    vz = torch.from_numpy(np.real(np.fft.ifftn(fz)))\n",
    "\n",
    "    return torch.stack((vx, vy, vz))#.to(device=torch.device('cuda'))\n",
    "\n",
    "        \n",
    "def metric_matching(gi, gm, height, width, depth, mask, iter_num, epsilon, sigma, dim):\n",
    "    phi_inv = get_idty(height, width, depth)\n",
    "    phi = get_idty(height, width, depth)\n",
    "    idty = get_idty(height, width, depth)\n",
    "    idty.requires_grad_()\n",
    "    f0 = torch.eye(int(dim)).repeat(height, width, depth, 1, 1)\n",
    "    f1 = torch.eye(int(dim)).repeat(height, width, depth, 1, 1)\n",
    "    \n",
    "    for j in range(iter_num):\n",
    "        phi_actsg0 = phi_pullback(phi_inv, gi)\n",
    "        phi_actsf0 = phi_pullback(phi_inv, f0)\n",
    "        E = energy_ebin(idty, phi_actsg0, gm, phi_actsf0, f1, sigma, dim, mask) \n",
    "        E.backward()\n",
    "        v = - laplace_inverse(idty.grad)\n",
    "        with torch.no_grad():\n",
    "            psi =  idty + epsilon*v  \n",
    "            psi[0][psi[0] > height - 1] = height - 1\n",
    "            psi[1][psi[1] > width - 1] = width - 1\n",
    "            psi[2][psi[2] > depth - 1] = depth - 1\n",
    "            psi[psi < 0] = 0\n",
    "            psi_inv =  idty - epsilon*v\n",
    "            psi_inv[0][psi_inv[0] > height - 1] = height - 1\n",
    "            psi_inv[1][psi_inv[1] > width - 1] = width - 1\n",
    "            psi_inv[2][psi_inv[2] > depth - 1] = depth - 1\n",
    "            psi_inv[psi_inv < 0] = 0\n",
    "            phi = compose_function(psi, phi)\n",
    "            phi_inv = compose_function(phi_inv, psi_inv)\n",
    "            idty.grad.data.zero_()\n",
    "            \n",
    "    gi = phi_pullback(phi_inv, gi)\n",
    "    return gi, phi, phi_inv\n",
    "\n",
    "\n",
    "def tensor_cleaning(g, det_threshold=1e-11):\n",
    "    g[torch.det(g)<=det_threshold] = torch.eye((3))\n",
    "    # Sylvester's criterion https://en.wikipedia.org/wiki/Sylvester%27s_criterion\n",
    "    psd_map = torch.where(g[...,0,0]>0, 1, 0) + torch.where(torch.det(g[...,:2,:2])>0, 1, 0) + torch.where(torch.det(g)>0, 1, 0)\n",
    "    nonpsd_idx = torch.where(psd_map!=3)\n",
    "    # nonpsd_idx = torch.where(torch.isnan(torch.sum(batch_cholesky(g), (3,4))))\n",
    "    for i in range(len(nonpsd_idx[0])):\n",
    "        g[nonpsd_idx[0][i], nonpsd_idx[1][i], nonpsd_idx[2][i]] = torch.eye((3))\n",
    "    return g\n",
    "\n",
    "    \n",
    "def fractional_anisotropy(g):\n",
    "    e, _ = torch.symeig(g)\n",
    "    lambd1 = e[:,:,:,0]\n",
    "    lambd2 = e[:,:,:,1]\n",
    "    lambd3 = e[:,:,:,2]\n",
    "    mean = torch.mean(e,dim=len(e.shape)-1)\n",
    "    return torch.sqrt(3.*(torch.pow((lambd1-mean),2)+torch.pow((lambd2-mean),2)+torch.pow((lambd3-mean),2)))/\\\n",
    "    torch.sqrt(2.*(torch.pow(lambd1,2)+torch.pow(lambd2,2)+torch.pow(lambd3,2)))"
   ]
  },
  {
   "cell_type": "code",
   "execution_count": 6,
   "metadata": {},
   "outputs": [],
   "source": [
    "# torch.set_default_tensor_type('torch.DoubleTensor')\n",
    "file_name = [108222, 102715, 105923, 107422, 100206, 104416]\n",
    "input_dir = '/usr/sci/projects/HCP/Kris/NSFCRCNS/TestResults/UKF_experiments/BallResults'\n",
    "output_dir = '/home/sci/hdai/Projects/Atlas3D/output/BrainAtlasUkfBallImgMetDirectRegSept10'\n",
    "# output_dir = '/home/sci/hdai/Projects/Atlas3D/output/BrainAtlasUkfBallMetSept11'\n",
    "# if not os.path.isdir(output_dir):\n",
    "#     os.mkdir(output_dir)\n",
    "height, width, depth = 145,174,145"
   ]
  },
  {
   "cell_type": "code",
   "execution_count": 7,
   "metadata": {},
   "outputs": [],
   "source": [
    "device = torch.device('cuda' if torch.cuda.is_available() else 'cpu')\n",
    "# after switch device, you need restart the script\n",
    "torch.cuda.set_device('cuda:1')\n",
    "torch.set_default_tensor_type('torch.cuda.DoubleTensor')\n",
    "\n",
    "diffeo_list = []\n",
    "tensor_lin_list = []\n",
    "tensor_met_list = []\n",
    "mask_list = []\n",
    "brain_mask_list = []\n",
    "img_list = []"
   ]
  },
  {
   "cell_type": "code",
   "execution_count": 8,
   "metadata": {},
   "outputs": [
    {
     "name": "stdout",
     "output_type": "stream",
     "text": [
      "0\n",
      "1\n",
      "2\n",
      "3\n",
      "4\n",
      "5\n"
     ]
    }
   ],
   "source": [
    "for s in range(len(file_name)):\n",
    "# for s in range(1):\n",
    "#     read tensor and mask files\n",
    "    print(s)\n",
    "    tensor_np = sitk.GetArrayFromImage(sitk.ReadImage(f'{input_dir}/{file_name[s]}_scaled_orig_tensors_rreg_v2.nhdr'))\n",
    "    mask_np = sitk.GetArrayFromImage(sitk.ReadImage(f'{input_dir}/{file_name[s]}_orig_mask_rreg.nhdr'))\n",
    "    img_np = sitk.GetArrayFromImage(sitk.ReadImage(f'{input_dir}/{file_name[s]}_t1_to_reft1_rreg.nhdr'))\n",
    "#     tensor_np = sitk.GetArrayFromImage(sitk.ReadImage(f'{input_dir}/{file_name[s]}_scaled_orig_tensors_v2.nhdr'))\n",
    "#     mask_np = sitk.GetArrayFromImage(sitk.ReadImage(f'{input_dir}/{file_name[s]}_filt_mask_.nhdr'))\n",
    "# #     brain_mask_np = sitk.GetArrayFromImage(sitk.ReadImage(f'{input_dir}/{file_name[s]}_brain_mask.nhdr'))\n",
    "#     img_np = sitk.GetArrayFromImage(sitk.ReadImage(f'{input_dir}/{file_name[s]}_t1_to_reft1_rreg.nhdr'))\n",
    "    \n",
    "#     rearrange tensor_lin to tensor_met\n",
    "    tensor_met_zeros = torch.zeros(height,width,depth,3,3,dtype=torch.float64)\n",
    "    tensor_lin_list.append(torch.from_numpy(tensor_np).double().permute(3,2,1,0))\n",
    "    tensor_met_zeros[:,:,:,0,0] = tensor_lin_list[s][0]\n",
    "    tensor_met_zeros[:,:,:,0,1] = tensor_lin_list[s][1]\n",
    "    tensor_met_zeros[:,:,:,0,2] = tensor_lin_list[s][2]\n",
    "    tensor_met_zeros[:,:,:,1,0] = tensor_lin_list[s][1]\n",
    "    tensor_met_zeros[:,:,:,1,1] = tensor_lin_list[s][3]\n",
    "    tensor_met_zeros[:,:,:,1,2] = tensor_lin_list[s][4]\n",
    "    tensor_met_zeros[:,:,:,2,0] = tensor_lin_list[s][2]\n",
    "    tensor_met_zeros[:,:,:,2,1] = tensor_lin_list[s][4]\n",
    "    tensor_met_zeros[:,:,:,2,2] = tensor_lin_list[s][5]\n",
    "#     balance the background and subject by rescaling\n",
    "    tensor_met_zeros = tensor_cleaning(tensor_met_zeros)\n",
    "        \n",
    "    diffeo_list.append(torch.from_numpy(sio.loadmat(f'{output_dir}/{file_name[s]}_800_phi_inv.mat')['diffeo']).double().to(device))\n",
    "    tensor_met_list.append(torch.inverse(tensor_met_zeros).to(device))\n",
    "    mask_list.append(torch.from_numpy(mask_np).double().permute(2,1,0).to(device))\n",
    "#     brain_mask_list.append(torch.from_numpy(brain_mask_np).double().permute(2,1,0).to(device))\n",
    "    img_list.append(torch.from_numpy(img_np).double().permute(2,1,0).to(device))"
   ]
  },
  {
   "cell_type": "code",
   "execution_count": 9,
   "metadata": {},
   "outputs": [],
   "source": [
    "atlas_mask = torch.zeros_like(mask_list[0])\n",
    "# atlas_brain_mask = torch.zeros_like(brain_mask_list[0])\n",
    "atlas_img = torch.zeros_like(img_list[0])\n",
    "\n",
    "for s in range(len(file_name)):\n",
    "        \n",
    "    tensor_met_list[s] = phi_pullback(diffeo_list[s], tensor_met_list[s])\n",
    "#     tensor_met_list[s] = tensor_cleaning(tensor_met_list[s])\n",
    "    atlas_mask += compose_function(mask_list[s].unsqueeze(0), diffeo_list[s]).squeeze()\n",
    "#     atlas_brain_mask += compose_function(brain_mask_list[s].unsqueeze(0), diffeo_list[s]).squeeze()\n",
    "    atlas_img += compose_function(img_list[s].unsqueeze(0), diffeo_list[s]).squeeze()"
   ]
  },
  {
   "cell_type": "code",
   "execution_count": 10,
   "metadata": {},
   "outputs": [],
   "source": [
    "G = torch.stack(tuple(tensor_met_list))\n",
    "G[torch.abs(torch.det(G)-1)<=2e-4] = torch.eye((3))\n",
    "# G[...,0,1]=G[...,0,1]\n",
    "# G[...,0,2]=G[...,0,2]\n",
    "# G[...,1,2]=G[...,1,2]\n",
    "# idmx = torch.zeros_like(G)\n",
    "# idmx[...,0,0],idmx[...,1,1],idmx[...,2,2] = 1,1,1\n",
    "# almst_eye_idx = torch.where((G-idmx)[...,0,0]**2+(G-idmx)[...,0,1]**2+(G-idmx)[...,0,2]**2+(G-idmx)[...,1,0]**2+(G-idmx)[...,1,1]**2+(G-idmx)[...,1,2]**2+(G-idmx)[...,2,0]**2+(G-idmx)[...,2,1]**2+(G-idmx)[...,2,2]**2<1e-3)\n",
    "# for i in range(len(almst_eye_idx[0])):\n",
    "#     G[almst_eye_idx[0][i], almst_eye_idx[1][i], almst_eye_idx[2][i], almst_eye_idx[3][i]] = torch.eye((3))\n",
    "# almst_eye_map = torch.where(torch.abs(tensor_met_list[s][...,0,1])<1e-3, 1., 0.) + torch.where(torch.abs(tensor_met_list[s][...,0,2])<1e-3, 1., 0.) + torch.where(torch.abs(tensor_met_list[s][...,1,2])<1e-3, 1., 0.) +\\\n",
    "#                     torch.where(torch.abs(tensor_met_list[s][...,0,0]-1)<1e-3, 1., 0.) + torch.where(torch.abs(tensor_met_list[s][...,1,1]-1)<1e-3, 1., 0.) + torch.where(torch.abs(tensor_met_list[s][...,2,2]-1)<1e-3, 1., 0.)\n",
    "# almst_eye_idx = torch.where(almst_eye_map==6)\n",
    "# print(len(almst_eye_idx[0]))\n",
    "# for i in range(len(almst_eye_idx[0])):\n",
    "#     tensor_met_list[s][almst_eye_idx[0][i], almst_eye_idx[1][i], almst_eye_idx[2][i]] = torch.eye((3))"
   ]
  },
  {
   "cell_type": "code",
   "execution_count": 11,
   "metadata": {},
   "outputs": [],
   "source": [
    "# almst_eye_idx"
   ]
  },
  {
   "cell_type": "code",
   "execution_count": 12,
   "metadata": {},
   "outputs": [
    {
     "ename": "RuntimeError",
     "evalue": "torch.linalg.cholesky: For batch 22905: U(3,3) is zero, singular U.",
     "output_type": "error",
     "traceback": [
      "\u001b[0;31m---------------------------------------------------------------------------\u001b[0m",
      "\u001b[0;31mRuntimeError\u001b[0m                              Traceback (most recent call last)",
      "\u001b[0;32m<ipython-input-12-ca9f2e54e141>\u001b[0m in \u001b[0;36m<module>\u001b[0;34m\u001b[0m\n\u001b[0;32m----> 1\u001b[0;31m \u001b[0matlas\u001b[0m \u001b[0;34m=\u001b[0m \u001b[0mget_karcher_mean\u001b[0m\u001b[0;34m(\u001b[0m\u001b[0mG\u001b[0m\u001b[0;34m,\u001b[0m \u001b[0;36m1.\u001b[0m\u001b[0;34m/\u001b[0m\u001b[0;36m3\u001b[0m\u001b[0;34m)\u001b[0m\u001b[0;34m\u001b[0m\u001b[0;34m\u001b[0m\u001b[0m\n\u001b[0m\u001b[1;32m      2\u001b[0m \u001b[0matlas_mask\u001b[0m \u001b[0;34m=\u001b[0m \u001b[0matlas_mask\u001b[0m\u001b[0;34m/\u001b[0m\u001b[0;36m6\u001b[0m\u001b[0;34m\u001b[0m\u001b[0;34m\u001b[0m\u001b[0m\n\u001b[1;32m      3\u001b[0m \u001b[0;31m# atlas_brain_mask = atlas_brain_mask/6\u001b[0m\u001b[0;34m\u001b[0m\u001b[0;34m\u001b[0m\u001b[0;34m\u001b[0m\u001b[0m\n\u001b[1;32m      4\u001b[0m \u001b[0matlas_img\u001b[0m \u001b[0;34m=\u001b[0m \u001b[0matlas_img\u001b[0m\u001b[0;34m/\u001b[0m\u001b[0;36m6\u001b[0m\u001b[0;34m\u001b[0m\u001b[0;34m\u001b[0m\u001b[0m\n\u001b[1;32m      5\u001b[0m \u001b[0;34m\u001b[0m\u001b[0m\n",
      "\u001b[0;32m~/Projects/Atlas3D/mtch/SplitEbinMetric3DCuda.py\u001b[0m in \u001b[0;36mget_karcher_mean\u001b[0;34m(G, a)\u001b[0m\n\u001b[1;32m    295\u001b[0m \u001b[0;31m#         print('logm_invB_A')\u001b[0m\u001b[0;34m\u001b[0m\u001b[0;34m\u001b[0m\u001b[0;34m\u001b[0m\u001b[0m\n\u001b[1;32m    296\u001b[0m         \u001b[0;31m# gm[torch.det(gm)==0] = torch.eye((3))*1e-2\u001b[0m\u001b[0;34m\u001b[0m\u001b[0;34m\u001b[0m\u001b[0;34m\u001b[0m\u001b[0m\n\u001b[0;32m--> 297\u001b[0;31m         \u001b[0mU\u001b[0m \u001b[0;34m=\u001b[0m \u001b[0mlogm_invB_A\u001b[0m\u001b[0;34m(\u001b[0m\u001b[0mgm\u001b[0m\u001b[0;34m,\u001b[0m \u001b[0mG\u001b[0m\u001b[0;34m[\u001b[0m\u001b[0mi\u001b[0m\u001b[0;34m]\u001b[0m\u001b[0;34m)\u001b[0m\u001b[0;34m\u001b[0m\u001b[0;34m\u001b[0m\u001b[0m\n\u001b[0m\u001b[1;32m    298\u001b[0m         UTrless = U - torch.einsum(\"...ii,kl->...kl\", U, torch.eye(size[-1], dtype=torch.double)) / size[\n\u001b[1;32m    299\u001b[0m             -1]  # (...,2,2)\n",
      "\u001b[0;32m~/Projects/Atlas3D/mtch/SplitEbinMetric3DCuda.py\u001b[0m in \u001b[0;36mlogm_invB_A\u001b[0;34m(B, A)\u001b[0m\n\u001b[1;32m     52\u001b[0m \u001b[0;31m#     output: shape = [hxwxd, 3, 3]\u001b[0m\u001b[0;34m\u001b[0m\u001b[0;34m\u001b[0m\u001b[0;34m\u001b[0m\u001b[0m\n\u001b[1;32m     53\u001b[0m     \u001b[0;31m# pdb.set_trace()\u001b[0m\u001b[0;34m\u001b[0m\u001b[0;34m\u001b[0m\u001b[0;34m\u001b[0m\u001b[0m\n\u001b[0;32m---> 54\u001b[0;31m     \u001b[0mG\u001b[0m \u001b[0;34m=\u001b[0m \u001b[0mtorch\u001b[0m\u001b[0;34m.\u001b[0m\u001b[0mlinalg\u001b[0m\u001b[0;34m.\u001b[0m\u001b[0mcholesky\u001b[0m\u001b[0;34m(\u001b[0m\u001b[0mtensor_cleaning\u001b[0m\u001b[0;34m(\u001b[0m\u001b[0mB\u001b[0m\u001b[0;34m)\u001b[0m\u001b[0;34m)\u001b[0m\u001b[0;34m\u001b[0m\u001b[0;34m\u001b[0m\u001b[0m\n\u001b[0m\u001b[1;32m     55\u001b[0m     \u001b[0minv_G\u001b[0m \u001b[0;34m=\u001b[0m \u001b[0mtorch\u001b[0m\u001b[0;34m.\u001b[0m\u001b[0minverse\u001b[0m\u001b[0;34m(\u001b[0m\u001b[0mG\u001b[0m\u001b[0;34m)\u001b[0m\u001b[0;34m\u001b[0m\u001b[0;34m\u001b[0m\u001b[0m\n\u001b[1;32m     56\u001b[0m     \u001b[0mW\u001b[0m \u001b[0;34m=\u001b[0m \u001b[0mtorch\u001b[0m\u001b[0;34m.\u001b[0m\u001b[0meinsum\u001b[0m\u001b[0;34m(\u001b[0m\u001b[0;34m\"...ij,...jk,...lk->...il\"\u001b[0m\u001b[0;34m,\u001b[0m \u001b[0minv_G\u001b[0m\u001b[0;34m,\u001b[0m \u001b[0mA\u001b[0m\u001b[0;34m,\u001b[0m \u001b[0minv_G\u001b[0m\u001b[0;34m)\u001b[0m\u001b[0;34m\u001b[0m\u001b[0;34m\u001b[0m\u001b[0m\n",
      "\u001b[0;31mRuntimeError\u001b[0m: torch.linalg.cholesky: For batch 22905: U(3,3) is zero, singular U."
     ]
    }
   ],
   "source": [
    "atlas = get_karcher_mean(G, 1./3)\n",
    "atlas_mask = atlas_mask/6\n",
    "# atlas_brain_mask = atlas_brain_mask/6\n",
    "atlas_img = atlas_img/6\n",
    "\n",
    "atlas_lin = np.zeros((6,height,width,depth))\n",
    "atlas_inv = torch.inverse(atlas)\n",
    "atlas_lin[0] = atlas_inv[:,:,:,0,0].cpu()\n",
    "atlas_lin[1] = atlas_inv[:,:,:,0,1].cpu()\n",
    "atlas_lin[2] = atlas_inv[:,:,:,0,2].cpu()\n",
    "atlas_lin[3] = atlas_inv[:,:,:,1,1].cpu()\n",
    "atlas_lin[4] = atlas_inv[:,:,:,1,2].cpu()\n",
    "atlas_lin[5] = atlas_inv[:,:,:,2,2].cpu()\n",
    "\n",
    "# sitk.WriteImage(sitk.GetImageFromArray(np.transpose(atlas_lin,(3,2,1,0))), f'{output_dir}/atlas_tens_phi_inv_met_v2.nhdr')\n",
    "# sitk.WriteImage(sitk.GetImageFromArray(np.transpose(atlas_mask.cpu().numpy(),(2,1,0))), f'{output_dir}/atlas_mask_phi_inv_met_v2.nhdr')\n",
    "# sitk.WriteImage(sitk.GetImageFromArray(np.transpose(atlas_brain_mask.cpu().numpy(),(2,1,0))), f'{output_dir}/atlas_brain_mask_phi_inv_800.nhdr')\n",
    "# sitk.WriteImage(sitk.GetImageFromArray(np.transpose(atlas_img.cpu().numpy(),(2,1,0))), f'{output_dir}/atlas_img_phi_inv_met_v2.nhdr')"
   ]
  },
  {
   "cell_type": "code",
   "execution_count": 68,
   "metadata": {},
   "outputs": [
    {
     "data": {
      "text/plain": [
       "'1.9.0'"
      ]
     },
     "execution_count": 68,
     "metadata": {},
     "output_type": "execute_result"
    }
   ],
   "source": [
    "import torch\n",
    "torch.__version__"
   ]
  },
  {
   "cell_type": "code",
   "execution_count": null,
   "metadata": {},
   "outputs": [],
   "source": []
  }
 ],
 "metadata": {
  "kernelspec": {
   "display_name": "Python 3",
   "language": "python",
   "name": "python3"
  },
  "language_info": {
   "codemirror_mode": {
    "name": "ipython",
    "version": 3
   },
   "file_extension": ".py",
   "mimetype": "text/x-python",
   "name": "python",
   "nbconvert_exporter": "python",
   "pygments_lexer": "ipython3",
   "version": "3.7.9"
  },
  "varInspector": {
   "cols": {
    "lenName": 16,
    "lenType": 16,
    "lenVar": 40
   },
   "kernels_config": {
    "python": {
     "delete_cmd_postfix": "",
     "delete_cmd_prefix": "del ",
     "library": "var_list.py",
     "varRefreshCmd": "print(var_dic_list())"
    },
    "r": {
     "delete_cmd_postfix": ") ",
     "delete_cmd_prefix": "rm(",
     "library": "var_list.r",
     "varRefreshCmd": "cat(var_dic_list()) "
    }
   },
   "types_to_exclude": [
    "module",
    "function",
    "builtin_function_or_method",
    "instance",
    "_Feature"
   ],
   "window_display": false
  }
 },
 "nbformat": 4,
 "nbformat_minor": 2
}
